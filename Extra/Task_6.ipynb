{
 "cells": [
  {
   "cell_type": "markdown",
   "id": "5d371240-7add-46a9-a5b6-2f19da361f28",
   "metadata": {},
   "source": [
    "#### 1> code for an empty dictionary"
   ]
  },
  {
   "cell_type": "code",
   "execution_count": 1,
   "id": "4c845260-5d38-4e1a-810f-2b7951bcfcbc",
   "metadata": {},
   "outputs": [],
   "source": [
    "dictionary = {}"
   ]
  },
  {
   "cell_type": "markdown",
   "id": "8ff3e90e-edd6-421f-b57b-7777b7b72744",
   "metadata": {},
   "source": [
    "#### 2> code for dictionary with key-value pair"
   ]
  },
  {
   "cell_type": "code",
   "execution_count": 4,
   "id": "49c44d48-24a9-47a0-9bc3-74f1bbe00772",
   "metadata": {},
   "outputs": [
    {
     "data": {
      "text/plain": [
       "42"
      ]
     },
     "execution_count": 4,
     "metadata": {},
     "output_type": "execute_result"
    }
   ],
   "source": [
    "dictionary = {\n",
    "    \"foo\":42\n",
    "}\n",
    "\n",
    "dictionary[\"foo\"]"
   ]
  },
  {
   "cell_type": "markdown",
   "id": "19344cc2-8e6d-4b68-8489-466e4bf4d071",
   "metadata": {},
   "source": [
    "#### 3> Difference between dictionary and a list"
   ]
  },
  {
   "cell_type": "markdown",
   "id": "830b3a85-4c3d-475e-97fc-d13ef80eab65",
   "metadata": {},
   "source": [
    "1. Access Method:\n",
    "\n",
    "* List: Access elements by index.\n",
    "\n",
    "* Dictionary: Access elements by key."
   ]
  },
  {
   "cell_type": "markdown",
   "id": "c20d9aa8-b457-4f20-883c-3249bce2dd11",
   "metadata": {},
   "source": [
    "2. Order:\n",
    "\n",
    "* List:Maintains order (elements are stored in the order they were added).\n",
    "\n",
    "* Dictionary: Prior to Python 3.7, dictionaries were unordered. From Python 3.7 onwards, dictionaries    maintain the insertion order."
   ]
  },
  {
   "cell_type": "markdown",
   "id": "f87ed829-90c6-45ad-b689-363cd8ba8bfb",
   "metadata": {},
   "source": [
    "3. Uniqueness:\n",
    "\n",
    "* List: Allows duplicate values.\n",
    "  \n",
    "* Dictionary: Keys must be unique, but values can be duplicated."
   ]
  },
  {
   "cell_type": "markdown",
   "id": "8daf85d0-10e6-4551-a714-310c66114ca7",
   "metadata": {},
   "source": [
    "4. Use Case:"
   ]
  },
  {
   "cell_type": "markdown",
   "id": "8049b5ab-9daa-43b2-95db-e68cad3f1a9e",
   "metadata": {},
   "source": [
    "* List: Useful for ordered collections of items where the order matters or where you need to access items by their position. "
   ]
  },
  {
   "cell_type": "markdown",
   "id": "81bea917-4f16-4db6-bbec-5dfa99f01959",
   "metadata": {},
   "source": [
    "* Dictionary: Useful for collections of items where each item has a unique identifier (key), such as a database of users indexed by user ID"
   ]
  },
  {
   "cell_type": "markdown",
   "id": "d5302748-9811-4748-86db-9ba1929e227b",
   "metadata": {},
   "source": [
    "#### 4> what happens if you try to access spam['foo'] if spam is {'bar':100}\n",
    "\n",
    "* It will throw a KeyError\n",
    "\n",
    "  -> In spam dictionary foo key is not paired with any value nor it is defined."
   ]
  },
  {
   "cell_type": "markdown",
   "id": "da1375a5-363c-40f9-a24b-832de63a3b5f",
   "metadata": {},
   "source": [
    "#### 5>If a dictionary is stored in spam, what is the difference between the expressions 'cat' in spam and 'cat' in spam.keys()?"
   ]
  },
  {
   "cell_type": "markdown",
   "id": "3302256f-a5f9-490e-a433-06d30dc55b4b",
   "metadata": {},
   "source": [
    "* 'cat' in spam\n",
    "  \n",
    "-> This expression checks if 'cat' is a key in the dictionary spam. It is the most common and efficient way to check for the existence of a key in a dictionary."
   ]
  },
  {
   "cell_type": "markdown",
   "id": "00c0c176-1b5a-4427-bf1e-6df67464ba4d",
   "metadata": {},
   "source": [
    "* 'cat' in spam.keys()\n",
    "  \n",
    "-> This expression also checks if 'cat' is a key in the dictionary spam. However, it does this by         first generating a list-like view of all the keys in the dictionary using the keys() method and        then checking if 'cat' is in that view."
   ]
  },
  {
   "cell_type": "markdown",
   "id": "610f366f-7d3e-4b5e-903f-24e1108e2c76",
   "metadata": {},
   "source": [
    "#### 6> If a dictionary is stored in spam, what is the difference between the expressions 'cat' in spam and 'cat' in spam.values()?"
   ]
  },
  {
   "cell_type": "markdown",
   "id": "d5570461-d955-4eed-ae3e-1b497e55c53d",
   "metadata": {},
   "source": [
    "* 'cat' in spam: Checks if 'cat' is a key in the dictionary spam."
   ]
  },
  {
   "cell_type": "markdown",
   "id": "dbe75cb0-04f7-4ecc-b5be-f9cea63c09cf",
   "metadata": {},
   "source": [
    "* 'cat' in spam.values(): Checks if 'cat' is a value in the dictionary spam."
   ]
  },
  {
   "cell_type": "markdown",
   "id": "137ae7e3-7810-4d71-af4a-63887f95a49c",
   "metadata": {},
   "source": [
    "#### 7> What is a shortcut for the following code?\r",
    "if 'color' not in spam:\n",
    "\n",
    "\n",
    "spam['color'] = 'black''\r\n"
   ]
  },
  {
   "cell_type": "code",
   "execution_count": 5,
   "id": "da501f7d-e996-4958-8bf8-98409989de1f",
   "metadata": {},
   "outputs": [
    {
     "name": "stdout",
     "output_type": "stream",
     "text": [
      "{'color': 'black'}\n"
     ]
    }
   ],
   "source": [
    "spam = {}\n",
    "spam.setdefault('color', 'black')\n",
    "print(spam)"
   ]
  },
  {
   "cell_type": "markdown",
   "id": "83fe27d2-0202-48e8-b8ed-b7b74e73649a",
   "metadata": {},
   "source": [
    "#### 8> What module and function can be used to “pretty print” dictionary values?"
   ]
  },
  {
   "cell_type": "code",
   "execution_count": 9,
   "id": "b1f6def3-b393-4896-8517-d37372f6c193",
   "metadata": {},
   "outputs": [],
   "source": [
    "import pprint "
   ]
  },
  {
   "cell_type": "code",
   "execution_count": 12,
   "id": "0139abdc-6e8f-4709-be68-6d3501ab14ee",
   "metadata": {},
   "outputs": [],
   "source": [
    "data = {\n",
    "    'name': 'Navneet',\n",
    "    'age': 21,\n",
    "    'address': {\n",
    "        'street': '123 street',\n",
    "        'city': 'Amethi',\n",
    "        'zip': '12345'\n",
    "    },\n",
    "    'hobbies': ['reading', 'biking', 'coding']\n",
    "}"
   ]
  },
  {
   "cell_type": "code",
   "execution_count": 13,
   "id": "6e4a3c4d-8531-4d03-8d4c-4addb6df6bb5",
   "metadata": {},
   "outputs": [
    {
     "name": "stdout",
     "output_type": "stream",
     "text": [
      "{'address': {'city': 'Amethi', 'street': '123 street', 'zip': '12345'},\n",
      " 'age': 21,\n",
      " 'hobbies': ['reading', 'biking', 'coding'],\n",
      " 'name': 'Navneet'}\n"
     ]
    }
   ],
   "source": [
    "pprint.pprint(data)"
   ]
  },
  {
   "cell_type": "markdown",
   "id": "4d1fa030-37b1-493d-a800-34029d7b479a",
   "metadata": {},
   "source": [
    "#### 9> , 10> , 11> These questions are already answered in Task-2"
   ]
  },
  {
   "cell_type": "markdown",
   "id": "8c82b163-9195-483b-b0d6-d0ddff0eaed2",
   "metadata": {},
   "source": [
    "#### 12> The string value \"Howl's Moving Castle\" is a valid string. Why isn’t it a problem that the single quote character in the word Howl's isn’t escaped?"
   ]
  },
  {
   "cell_type": "markdown",
   "id": "b9c8a60e-c382-4648-b7df-615f6db2e6ed",
   "metadata": {},
   "source": [
    "* In Python, the string value \"Howl's Moving Castle\" is valid because it is enclosed in double quotes (\"). This allows the single quote character (') inside the string to be used without needing to be escaped. Python recognizes the start and end of the string by the double quotes, so any single quotes within those double quotes are treated as regular characters."
   ]
  },
  {
   "cell_type": "markdown",
   "id": "70ccaf26-9a94-4f1e-b23b-729a737cee8b",
   "metadata": {},
   "source": [
    "#### 13> If you don’t want to put \\n in your string, how can you write a string with newlines in it?"
   ]
  },
  {
   "cell_type": "markdown",
   "id": "f13d6871-d55a-411c-bd29-4f7666253fb4",
   "metadata": {},
   "source": [
    "* Using triple quotes is a convenient way to include newlines in your string without needing to use the \\n escape character. This method is particularly useful for defining multiline strings in a readable and maintainable way."
   ]
  },
  {
   "cell_type": "markdown",
   "id": "947c2060-8e3e-493c-bbe2-33b43bcc387f",
   "metadata": {},
   "source": [
    "#### 14> What do the following expressions evaluate to?\r\n",
    "\r\n",
    "a)\t'Hello world!'[1]\r\n",
    "b)\t'Hello world!'[0:5]\r\n",
    "c)\t'Hello world!'[:5]\r\n",
    "d)\t'Hello world![3:]\r\n"
   ]
  },
  {
   "cell_type": "markdown",
   "id": "a6df54e5-c271-409d-aa1a-538a282632ff",
   "metadata": {},
   "source": [
    "a) 'Hello world!'[1]:\n",
    "\n",
    "-> Result: 'e'"
   ]
  },
  {
   "cell_type": "markdown",
   "id": "ed2d5fa5-f682-4fa0-a066-85e145bd1742",
   "metadata": {},
   "source": [
    "b) 'Hello world!'[0:5]: \n",
    "\n",
    "-> Result: 'Hello'"
   ]
  },
  {
   "cell_type": "markdown",
   "id": "377561dc-6f58-4d59-88e0-50625f9f5bb8",
   "metadata": {},
   "source": [
    "c) 'Hello world!'[:5]: \n",
    "\n",
    "-> Result: 'Hello'"
   ]
  },
  {
   "cell_type": "markdown",
   "id": "7c6e9af0-db40-4407-a585-8313394a2af4",
   "metadata": {},
   "source": [
    "d) 'Hello world!'[3:]: \n",
    "\n",
    "-> Result: 'lo world!'"
   ]
  },
  {
   "cell_type": "markdown",
   "id": "ec3307ef-705e-4c7e-b91c-6055dd032dfa",
   "metadata": {},
   "source": [
    "#### 15> What do the following expressions evaluate to?\n",
    "\n",
    "a)\t'Hello'.upper()\n",
    "b)\t'Hello'.upper().isupper()\n",
    "c)\t'Hello'.upper().lower()"
   ]
  },
  {
   "cell_type": "markdown",
   "id": "3275b59d-c43f-4d76-8af8-d706cbb18fda",
   "metadata": {},
   "source": [
    "a) 'Hello'.upper():\n",
    "\n",
    "-> Result: 'HELLO'"
   ]
  },
  {
   "cell_type": "markdown",
   "id": "6e30ceaa-f0c1-47a7-8baf-6599058abb18",
   "metadata": {},
   "source": [
    "b) 'Hello'.upper().isupper():\n",
    "\n",
    "-> Result: True"
   ]
  },
  {
   "cell_type": "markdown",
   "id": "ba1ac59b-162e-4ba7-a9a8-12c226ee0829",
   "metadata": {},
   "source": [
    "c) 'Hello'.upper().lower():\n",
    "\n",
    "-> Result: 'hello'"
   ]
  },
  {
   "cell_type": "markdown",
   "id": "63ac3d73-ebe0-4f67-83c3-ec29bd57616c",
   "metadata": {},
   "source": [
    "#### 16> What do the following expressions evaluate to?\r\n",
    "\r\n",
    "a)\t'Remember, remember, the fifth of November.'.split)\r\n",
    "\r\n"
   ]
  },
  {
   "cell_type": "markdown",
   "id": "ec44e58a-4e30-4aa2-8a97-3b7755bfc7e8",
   "metadata": {},
   "source": [
    "b)\t'-'.join('There can be only one.'.split())"
   ]
  },
  {
   "cell_type": "markdown",
   "id": "5d271f8c-07a1-4461-8e8b-59ebc529f312",
   "metadata": {},
   "source": [
    "* a)\n",
    "\n",
    "-> ['Remember,', 'remember,', 'the', 'fifth', 'of', 'November.']"
   ]
  },
  {
   "cell_type": "markdown",
   "id": "183da0d6-20aa-4a12-851b-46ca7004af6d",
   "metadata": {},
   "source": [
    "* b)\n",
    "\n",
    "-> 'There-can-be-only-one.'"
   ]
  },
  {
   "cell_type": "markdown",
   "id": "d13ab9a1-390f-4151-be96-fb581ebb21be",
   "metadata": {},
   "source": [
    "#### 17> What string methods can you use to right-justify, left-justify, and center a string?"
   ]
  },
  {
   "cell_type": "markdown",
   "id": "bafa0f0a-4bcd-463f-bc12-4eac84b55fc0",
   "metadata": {},
   "source": [
    "1. Right-justify: Use the str.rjust(width) method.\n",
    "\n",
    "   \n",
    "2. Left-justify: Use the str.ljust(width) method.\n",
    "\n",
    "   \n",
    "3. Center: Use the str.center(width) method.\n",
    "\n",
    "->code is already done in Task-4"
   ]
  },
  {
   "cell_type": "markdown",
   "id": "7ff26c34-e81b-4461-b92f-b7829f0c2488",
   "metadata": {},
   "source": [
    "#### 18> How can you trim whitespace characters from the beginning or end of a string?"
   ]
  },
  {
   "cell_type": "markdown",
   "id": "9b4df403-135e-4acc-a69b-9fa4dcb66d06",
   "metadata": {},
   "source": [
    "1. Trim from the Beginning: Use the str.lstrip() method.\n",
    "\n",
    "\n",
    "2. Trim from the End: Use the str.rstrip() method.\n",
    "\n",
    "   \n",
    "3. Trim from Both Sides: Use the str.strip() method.\n",
    "\n",
    "->code is already done in Task-4"
   ]
  },
  {
   "cell_type": "code",
   "execution_count": null,
   "id": "bd3cddda-36a4-4504-95ed-b834e79adedd",
   "metadata": {},
   "outputs": [],
   "source": []
  }
 ],
 "metadata": {
  "kernelspec": {
   "display_name": "Python 3 (ipykernel)",
   "language": "python",
   "name": "python3"
  },
  "language_info": {
   "codemirror_mode": {
    "name": "ipython",
    "version": 3
   },
   "file_extension": ".py",
   "mimetype": "text/x-python",
   "name": "python",
   "nbconvert_exporter": "python",
   "pygments_lexer": "ipython3",
   "version": "3.11.7"
  }
 },
 "nbformat": 4,
 "nbformat_minor": 5
}
