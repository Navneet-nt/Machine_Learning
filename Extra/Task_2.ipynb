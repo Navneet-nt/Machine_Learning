{
 "cells": [
  {
   "cell_type": "markdown",
   "id": "2b9cf32a-3472-4b30-aa86-1f1739563425",
   "metadata": {},
   "source": [
    "### 1> Markdown Language\n",
    "* What is Markdown\n",
    "\n",
    "Markdown is a lightweight markup language that you can use to add formatting elements to plaintext text documents, Created by John Gruber in 2004.\n",
    "\n",
    "* Why Use Markdown\n",
    "\n",
    "People use it to create websites, documents, notes, books, presentations, email messages, and technical documentation.\n",
    "\n",
    "* How Does it Work\n",
    "\n",
    "Markdown applications use something called a Markdown processor (also commonly referred to as a “parser” or an “implementation”) to take the Markdown-formatted text and output it to HTML format."
   ]
  },
  {
   "cell_type": "markdown",
   "id": "63cd2425-3ada-4327-a86c-7c26b79761cd",
   "metadata": {},
   "source": [
    "### 2> Shortcuts of Jupyter Notebook and Documentation\n",
    "\n",
    "* Shortcuts\n",
    "\n",
    "-> (Ctrl+Shift+H)\n",
    "\n",
    "* Documentation\n",
    "\n",
    " iously Used Tab\tCtrl + Shift + '\r\n",
    "Table of Contents\tCtrl + Shift + K\r\n"
   ]
  },
  {
   "cell_type": "markdown",
   "id": "98db1e86-81c1-4e82-b678-de55cfeed769",
   "metadata": {},
   "source": [
    "### 3> Including video and images in markdown cell\n",
    "\n",
    "* Including images\n",
    "![Jupiter](https://as2.ftcdn.net/v2/jpg/02/45/14/91/1000_F_245149125_8u9vd1ErtDVtkZHJnnqzYeqhdRUT3th2.jpg)\n",
    "\n",
    "* Including video\n",
    "\n",
    " -> When you will click on image the video will play on new tab\n",
    "[![Jupiter Again](https://img.youtube.com/vi/PtkqwslbLY8/0.jpg)](https://www.youtube.com/watch?v=PtkqwslbLY8)\n",
    "\n"
   ]
  },
  {
   "cell_type": "markdown",
   "id": "c2eef91f-a875-4281-bce9-7603a4375d96",
   "metadata": {},
   "source": [
    "### 4> Programs using input ,print function"
   ]
  },
  {
   "cell_type": "code",
   "execution_count": 2,
   "id": "0fc0eb48-14db-4c80-a7bc-4acc86f4944e",
   "metadata": {},
   "outputs": [
    {
     "name": "stdin",
     "output_type": "stream",
     "text": [
      "first: 23\n",
      "second: 56\n"
     ]
    },
    {
     "name": "stdout",
     "output_type": "stream",
     "text": [
      "Result: 2356\n"
     ]
    }
   ],
   "source": [
    "#concatenation\n",
    "a = input(\"first:\")\n",
    "b = input(\"second:\")\n",
    "print(\"Result:\",a+b)"
   ]
  },
  {
   "cell_type": "code",
   "execution_count": 4,
   "id": "01fc22e2-1b66-4823-9638-e5282b3bc239",
   "metadata": {},
   "outputs": [
    {
     "name": "stdin",
     "output_type": "stream",
     "text": [
      "first: 23\n",
      "second: 56\n"
     ]
    },
    {
     "name": "stdout",
     "output_type": "stream",
     "text": [
      "Result: 79\n"
     ]
    }
   ],
   "source": [
    "#addition\n",
    "a = int(input('first:'))\n",
    "b = int(input('second:'))\n",
    "print('Result:',a+b)"
   ]
  },
  {
   "cell_type": "code",
   "execution_count": 7,
   "id": "11b64f23-e697-4766-8af4-bb12dda1841d",
   "metadata": {},
   "outputs": [
    {
     "name": "stdin",
     "output_type": "stream",
     "text": [
      "Enter first name Navneet\n",
      "Enter Last name Tiwari\n"
     ]
    },
    {
     "name": "stdout",
     "output_type": "stream",
     "text": [
      "first name Navneet and last name Tiwari\n"
     ]
    }
   ],
   "source": [
    "#use formatted string to display\n",
    "a = input('Enter first name')\n",
    "b = input('Enter Last name')\n",
    "print(f'first name {a} and last name {b}')"
   ]
  },
  {
   "cell_type": "code",
   "execution_count": 10,
   "id": "df0d133a-2bcc-4545-956e-535916dcbf52",
   "metadata": {},
   "outputs": [
    {
     "name": "stdin",
     "output_type": "stream",
     "text": [
      "Enter name: Navneet Tiwari\n",
      "age: 20\n",
      "jupyter or jupiter jupyter\n"
     ]
    },
    {
     "name": "stdout",
     "output_type": "stream",
     "text": [
      "Your entered details:\n",
      "Name:  Navneet Tiwari\n",
      "age:  20\n",
      "M.L. Student\n"
     ]
    }
   ],
   "source": [
    "# display user data\n",
    "a = input('Enter name:')\n",
    "b = input('age:')\n",
    "c = input('jupyter or jupiter')\n",
    "print(\"Your entered details:\")\n",
    "print('Name: ',a)\n",
    "print('age: ',b)\n",
    "if c == 'jupyter':\n",
    "    print('M.L. Student')\n",
    "else:\n",
    "    print('Not a M.L. Student!!')"
   ]
  },
  {
   "cell_type": "markdown",
   "id": "5f44db83-add5-4c0d-bb4f-05ecac6dda57",
   "metadata": {},
   "source": [
    "### 5> Escape sequences\n",
    "\n",
    "* ( \\n: Newline )  , ( \\t: Tab ) , ( \\\\: Backslash ) , ( \\\": Double quote ) , ( \\': Single quote )\n",
    "uote\n",
    "### encoding\n",
    "\n",
    "Encoding refers to the process of converting data from one format to another.\n",
    "such as ASCII(American Standard Code for Information Interchange) , UTF-8(Unicode Transformation Format - 8-bit) , UTF-16.\n",
    "\n",
    "### Difference between ASCII and UTF-8\n",
    "\n",
    "##### Character \n",
    "* ASCII was designed to represent characters in the English language and includes control characters for basic text formatting (like newline, carriage return, and tab). It uses 7 bits to represent each character, allowing for a total of 128 characters.\n",
    "\n",
    "*  UTF-8 is capable of representing characters from virtually all languages and scripts in the world. It's a variable-width encoding, meaning it can use one to four bytes to represent each character , UTF-8 is backward compatible with ASCII.uote"
   ]
  },
  {
   "cell_type": "code",
   "execution_count": null,
   "id": "5b317858-8f75-4f9d-942c-f87627e04a7a",
   "metadata": {},
   "outputs": [],
   "source": []
  }
 ],
 "metadata": {
  "kernelspec": {
   "display_name": "Python 3 (ipykernel)",
   "language": "python",
   "name": "python3"
  },
  "language_info": {
   "codemirror_mode": {
    "name": "ipython",
    "version": 3
   },
   "file_extension": ".py",
   "mimetype": "text/x-python",
   "name": "python",
   "nbconvert_exporter": "python",
   "pygments_lexer": "ipython3",
   "version": "3.11.7"
  }
 },
 "nbformat": 4,
 "nbformat_minor": 5
}
