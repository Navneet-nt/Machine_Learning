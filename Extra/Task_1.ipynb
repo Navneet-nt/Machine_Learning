{
 "cells": [
  {
   "cell_type": "markdown",
   "id": "89cf3798-c372-4314-a588-26f27b052c09",
   "metadata": {},
   "source": [
    "### 1> History and future of Python\n",
    "\n",
    "\n",
    "* History\n",
    "\n",
    "\n",
    ". Python was invented in the late 1980s by Guido van rossum\n",
    "\n",
    "\n",
    ". It is successor to the ABC programming language, which was inspired by SETL\n",
    "\n",
    "\n",
    ". Its implementation began in December 1989\n",
    "\n",
    "\n",
    "* Future\n",
    "\n",
    "\n",
    ". Expansion in Data Science and Machine Learning\n",
    "\n",
    "\n",
    ". Cross-platform Compatibility"
   ]
  },
  {
   "cell_type": "markdown",
   "id": "18018e34-80f0-4bc2-8f72-85c22bc04ea7",
   "metadata": {},
   "source": [
    "### 2> Installation of Anaconda\n",
    "* https://www.youtube.com/watch?v=P2iT2mzR3-8"
   ]
  },
  {
   "cell_type": "markdown",
   "id": "bd05a5be-d2c9-410c-ac09-64302ec09117",
   "metadata": {},
   "source": [
    "### 3> Difference between Interpreted and Compiled languages\n",
    "\n",
    "* Execution Process\n",
    "\n",
    "  \n",
    "  In interpreted languages, code is executed line by line, typically by an interpreter program . In compiled languages, the source code is translated into machine code or bytecode by a compiler before execution\n",
    "\n",
    "* Performance\n",
    "\n",
    "  \n",
    "  Compiled languages often offer better performance because the compilation process allows for more extensive optimizations\n",
    "\n",
    "* Portability\n",
    "\n",
    "  \n",
    "  Compliled languages are less portable than Interpreted languages"
   ]
  },
  {
   "cell_type": "markdown",
   "id": "37fb2bff-4ab5-40bd-a601-17dcb6c7dfc7",
   "metadata": {},
   "source": [
    "### 4> Try to run some python code using input-output"
   ]
  },
  {
   "cell_type": "code",
   "execution_count": 3,
   "id": "6b5397f3-799e-412f-9779-199c24569551",
   "metadata": {},
   "outputs": [
    {
     "name": "stdin",
     "output_type": "stream",
     "text": [
      "Enter your name: Navneet Tiwari\n"
     ]
    },
    {
     "name": "stdout",
     "output_type": "stream",
     "text": [
      "Name: Navneet Tiwari\n"
     ]
    }
   ],
   "source": [
    "#input name\n",
    "name = input('Enter your name:')\n",
    "print('Name:' , name)"
   ]
  },
  {
   "cell_type": "code",
   "execution_count": 4,
   "id": "7383cf41-efdb-4eec-aecf-ec3464b53c5f",
   "metadata": {},
   "outputs": [
    {
     "name": "stdin",
     "output_type": "stream",
     "text": [
      "first: 4\n",
      "second: 6\n"
     ]
    },
    {
     "name": "stdout",
     "output_type": "stream",
     "text": [
      "Sum is:  10\n"
     ]
    }
   ],
   "source": [
    "#input two numbers and add them\n",
    "a = int(input('first:'))\n",
    "b = int(input('second:'))\n",
    "sum = a + b\n",
    "print('Sum is: ',sum)"
   ]
  },
  {
   "cell_type": "code",
   "execution_count": 5,
   "id": "a1f644d3-a049-4828-8ba6-3a00a35df8cf",
   "metadata": {},
   "outputs": [
    {
     "name": "stdin",
     "output_type": "stream",
     "text": [
      "first: abc\n",
      "second: def\n"
     ]
    },
    {
     "name": "stdout",
     "output_type": "stream",
     "text": [
      "Result is:  abcdef\n"
     ]
    }
   ],
   "source": [
    "#concatenate two Strings\n",
    "a = input('first:')\n",
    "b = input('second:')\n",
    "print('Result is: ',a+b)"
   ]
  },
  {
   "cell_type": "markdown",
   "id": "c9968d32-213b-4da0-a380-28e9e4c547a6",
   "metadata": {},
   "source": [
    "#### 5> Browse python.org to know more python, lists  python libraries used in Data Science and Machine Learning\n",
    "\n",
    "* NumPy\n",
    "* pandas\n",
    "* Matplotlib\n",
    "* Seaborn\n",
    "* Scikit-learn\n",
    "* TensorFlow\n",
    "* PyTorch\n",
    "* Keras\n",
    "* SciPy\n",
    "* Statsmodels\n",
    "* NLTK (Natural Language Toolkit)\n",
    "* Gensim\n",
    "-XGBoost\n",
    "-LightGBM\n",
    "-Dask"
   ]
  },
  {
   "cell_type": "code",
   "execution_count": null,
   "id": "776b2042-edfd-42e1-b52c-4c8ac25b46f8",
   "metadata": {},
   "outputs": [],
   "source": []
  }
 ],
 "metadata": {
  "kernelspec": {
   "display_name": "Python 3 (ipykernel)",
   "language": "python",
   "name": "python3"
  },
  "language_info": {
   "codemirror_mode": {
    "name": "ipython",
    "version": 3
   },
   "file_extension": ".py",
   "mimetype": "text/x-python",
   "name": "python",
   "nbconvert_exporter": "python",
   "pygments_lexer": "ipython3",
   "version": "3.11.7"
  }
 },
 "nbformat": 4,
 "nbformat_minor": 5
}
