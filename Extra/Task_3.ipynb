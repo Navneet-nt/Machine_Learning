{
 "cells": [
  {
   "cell_type": "markdown",
   "id": "c6ee1e1c-e913-4d9f-a1e4-89dc6fac0cca",
   "metadata": {},
   "source": [
    "#### 1> Explain development environment and virtual environment and its use in python\n",
    "\n",
    "###### Development environment\n",
    "\n",
    "A development environment in Python is a setup that enables developers to write, test, and debug Python code efficiently. It typically includes a combination of tools, software, and configurations tailored to the needs of Python development.\n",
    "\n",
    "* components of development environment\n",
    "\n",
    "  1. Text Editor or Integrated Development Environment (IDE)\n",
    "  2. Python Interpreter\n",
    "  3. Package Manager\n",
    "  4. Version Control System (VCS)\n",
    "  5. Virtual Environments\n",
    "  6. Debugging Tools\n",
    "  7. Testing Frameworks\n",
    "  8. Documentation Tools\n",
    "  9. Continuous Integration (CI) and Continuous Deployment (CD)\n",
    "\n",
    "###### Virtual Environment\n",
    "\n",
    "A virtual environment in Python is a self-contained directory that contains a specific Python interpreter and its own set of libraries and dependencies. It allows developers to work on multiple Python projects with different dependencies without interfering with each other.\n",
    "\n",
    "* Use in python\n",
    "\n",
    "1. Isolation: Virtual environments isolate Python projects from each other and from the system's global Python environment.\n",
    "2. Dependency Management: Virtual environments enable developers to manage project dependencies more effectively.\n",
    "3. Dependency Management: Virtual environments enable developers to manage project dependencies more effectively.\n",
    "4. Easy Cleanup: Virtual environments are self-contained directories that can be easily created, activated, deactivated, and deleted as needed.\n",
    "5. Compatibility: Virtual environments are compatible with different operating systems and Python versions. "
   ]
  },
  {
   "cell_type": "markdown",
   "id": "95aa39f1-8945-483a-8d66-ae59373468dd",
   "metadata": {},
   "source": [
    "##### 2> Try 5 different IDE's of Python\n",
    "\n",
    "1. PyCharm\n",
    "2. Spyder\n",
    "3. Visual Studio Code (VS Code)\n",
    "4. IDLE (Integrated Development and Learning Environment)\n",
    "5. JupyterLab\n",
    "   "
   ]
  },
  {
   "cell_type": "markdown",
   "id": "fa76b299-e2e6-40da-aafb-781e9700eb24",
   "metadata": {},
   "source": [
    "#### 3> Run some python code in VS code\n",
    "\n",
    "* Images of code\n",
    "\n",
    "![first](first.png)\n",
    "\n",
    "![second](second.png)"
   ]
  },
  {
   "cell_type": "markdown",
   "id": "0ba8e0b2-ebd3-4313-b77d-88e8950bb398",
   "metadata": {},
   "source": [
    "#### 4> What is OOPs? why do we use OOPs?\n",
    "\n",
    "* OOPs\n",
    "  \n",
    "  It is a programming paradigm that organizes software design around objects and data rather than functions and logic. In OOP, objects are instances of classes, which are templates that define the properties and behaviors of objects.\n",
    "\n",
    "* Its uses\n",
    "\n",
    "1. Software Design and Modeling: OOP allows developers to model real-world entities and their interactions in software systems.\n",
    "2. Modularity and Reusability: OOP promotes modularity by encapsulating related data and behavior into classes, which can then be reused in different parts of the program or in other projects.\n",
    "3. Code Organization: OOP facilitates organizing code into manageable units (classes) that represent distinct functionalities or entities.\n",
    "   "
   ]
  },
  {
   "cell_type": "markdown",
   "id": "07e2db2a-9001-4ae6-8fdd-74f28287f5a3",
   "metadata": {},
   "source": [
    "#### 5> Explain class , objects , and methods wrt to oops in detail\n",
    "\n",
    "###### Class\n",
    "\n",
    "-> A class is a blueprint or template for creating objects. It defines the properties (attributes) and behaviors (methods) that objects of the class will have. \n",
    "\n",
    "* Its components\n",
    "\n",
    "1. Attributes\n",
    "2. Methods\n",
    "3. Constructor\n",
    "4. Object\n",
    "5. Encapsulation\n",
    "6. Inheritance\n",
    "\n",
    "###### Objects\n",
    "\n",
    "-> An object is a fundamental unit of abstraction that represents a real-world entity, concept, or thing. Objects are instances of classes, which serve as blueprints or templates defining their structure and behavior.\n",
    "\n",
    "###### Methods\n",
    "\n",
    "-> Methods are functions defined within a class that operate on the attributes of the class or perform specific actions related to the class. Methods encapsulate behavior associated with the class, allowing objects to interact with and manipulate their data."
   ]
  },
  {
   "cell_type": "code",
   "execution_count": null,
   "id": "a88a1424-eade-4a13-92c6-03eda32644f2",
   "metadata": {},
   "outputs": [],
   "source": []
  }
 ],
 "metadata": {
  "kernelspec": {
   "display_name": "Python 3 (ipykernel)",
   "language": "python",
   "name": "python3"
  },
  "language_info": {
   "codemirror_mode": {
    "name": "ipython",
    "version": 3
   },
   "file_extension": ".py",
   "mimetype": "text/x-python",
   "name": "python",
   "nbconvert_exporter": "python",
   "pygments_lexer": "ipython3",
   "version": "3.11.7"
  }
 },
 "nbformat": 4,
 "nbformat_minor": 5
}
