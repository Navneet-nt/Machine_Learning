{
 "cells": [
  {
   "cell_type": "markdown",
   "id": "62d599d8-ec8c-420c-b07f-e0e492bb766f",
   "metadata": {},
   "source": [
    "#### 1> 10 project ideas i want to implement using python"
   ]
  },
  {
   "cell_type": "markdown",
   "id": "cc7cf49d-eb4d-449f-b0ce-02d8159c35c3",
   "metadata": {},
   "source": [
    "1. Resume (Using Django)\n",
    "2. Chatbot\n",
    "3. Food stall Feedback (creating csv file and then displaying that data through Histrogram)\n",
    "4. Diet Planner\n",
    "5. Portfolio guide\n",
    "6. Game\n",
    "7. Income Manager(tracks expenses and predicts suitable income)\n",
    "8. File manager\n",
    "9. Spam Filter\n",
    "10. Automation"
   ]
  },
  {
   "cell_type": "markdown",
   "id": "96e83928-3cce-4721-b49b-f1b25525420e",
   "metadata": {},
   "source": [
    "#### 2> Create at least 5 objects using list,dictionary"
   ]
  },
  {
   "cell_type": "code",
   "execution_count": 5,
   "id": "c3b9c1e9-4c51-4d49-a2c7-1c1e858feeba",
   "metadata": {},
   "outputs": [
    {
     "name": "stdin",
     "output_type": "stream",
     "text": [
      "name of student Navneet Tiwari\n",
      "name of book Java\n",
      "Enter price of book 3500\n",
      "Enter ID generated 12345678989\n",
      "Enter date on which book issued 12/07/2024\n"
     ]
    },
    {
     "name": "stdout",
     "output_type": "stream",
     "text": [
      "\n",
      "Details\n",
      "    Name of person: Navneet Tiwari\n",
      "    Name of book: Java\n",
      "    Price of Book: 3500\n",
      "    ID: 12345678989\n",
      "    Date on which book issued: 12/07/2024\n",
      "    \n"
     ]
    }
   ],
   "source": [
    "Book_Store = {}\n",
    "Book_Store[f'Person'] = input('name of student')\n",
    "Book_Store[f'Name'] = input('name of book')\n",
    "Book_Store[f'Price'] = input('Enter price of book')\n",
    "Book_Store[f'Id'] = input('Enter ID generated')\n",
    "Book_Store[f'Date'] = input('Enter date on which book issued')\n",
    "print()\n",
    "print(f'''Details\n",
    "    Name of person: {Book_Store[f'Person']}\n",
    "    Name of book: {Book_Store[f'Name']}\n",
    "    Price of Book: {Book_Store[f'Price']}\n",
    "    ID: {Book_Store[f'Id']}\n",
    "    Date on which book issued: {Book_Store[f'Date']}\n",
    "    ''')"
   ]
  },
  {
   "cell_type": "markdown",
   "id": "89cf2717-0fdb-487a-b2ec-973783263aea",
   "metadata": {},
   "source": [
    "#### 3> What is Duck typing,what are Dunder or special methods?"
   ]
  },
  {
   "cell_type": "markdown",
   "id": "ebc5d7da-025b-4cb3-bc30-c9cb79c0ae5b",
   "metadata": {},
   "source": [
    "* Duck typing\n",
    "\n",
    "->Duck typing is a concept in dynamic programming languages like Python where the type or the class of an object is determined by its behavior (methods and properties) rather than its explicit inheritance from a specific class."
   ]
  },
  {
   "cell_type": "markdown",
   "id": "05c01799-aa78-40a5-9751-05d9fb68369e",
   "metadata": {},
   "source": [
    "* \"If it looks like a duck, swims like a duck, and quacks like a duck, then it probably is a duck.\""
   ]
  },
  {
   "cell_type": "markdown",
   "id": "bea4c629-9ab0-4e60-8687-953d881bcbf9",
   "metadata": {},
   "source": [
    "* Dunder or special methods"
   ]
  },
  {
   "cell_type": "markdown",
   "id": "571db95e-07be-4b13-9292-425d56f0fd04",
   "metadata": {},
   "source": [
    "-> In Python, dunder methods (short for \"double underscore methods\") or special methods are methods that have double underscores at the beginning and end of their names (e.g., __init__, __str__). These methods enable developers to define the behavior of their objects for built-in operations and functions. They are also referred to as \"magic methods\"."
   ]
  },
  {
   "cell_type": "markdown",
   "id": "3a18a88c-6845-4d77-a555-e8ff2fc05768",
   "metadata": {},
   "source": [
    "* commom dunder methods"
   ]
  },
  {
   "cell_type": "markdown",
   "id": "f4652551-2205-4057-8ae5-e3c2686df97d",
   "metadata": {},
   "source": [
    "1. __init__(self, ...)\n",
    "2. __str__(self)\n",
    "3. __repr__(self)\n",
    "4. __add__(self, other)\n",
    "5. __sub__(self, other)\n",
    "6. __mul__(self, other)\n",
    "7. __eq__(self, other) , etc."
   ]
  },
  {
   "cell_type": "markdown",
   "id": "151e2ab8-16a6-4766-9b46-0ace20247fc9",
   "metadata": {},
   "source": [
    "#### 4> What are operators? How many types of operators are there in python?"
   ]
  },
  {
   "cell_type": "markdown",
   "id": "2c7a6ef4-1e1c-4b66-ac56-fab16523d73b",
   "metadata": {},
   "source": [
    "* Operators"
   ]
  },
  {
   "cell_type": "markdown",
   "id": "8ed18f78-b946-4490-a224-fddf2fdfd3d4",
   "metadata": {},
   "source": [
    "-> Operators in Python are special symbols that perform operations on variables and values. They are used to manipulate data and variables in various ways, such as performing arithmetic calculations, comparing values, and working with logical conditions."
   ]
  },
  {
   "cell_type": "markdown",
   "id": "f5ffcb37-ba2f-4582-be7c-cc52a07c0c81",
   "metadata": {},
   "source": [
    "* Types of operators"
   ]
  },
  {
   "cell_type": "markdown",
   "id": "db6cef8d-42d5-45ad-8511-4213d548beeb",
   "metadata": {},
   "source": [
    "1. Arithmetic Operators\n",
    "\n",
    "2. Comparison Operators\n",
    "   \n",
    "3. Logical Operators\n",
    "   \n",
    "4. Bitwise Operators\n",
    "   \n",
    "5. Assignment Operators\n",
    "   \n",
    "6. Identity Operators\n",
    "   \n",
    "7. Membership Operators"
   ]
  },
  {
   "cell_type": "code",
   "execution_count": null,
   "id": "2ce7fca2-44dc-48de-9bb2-2a8e9efb1cde",
   "metadata": {},
   "outputs": [],
   "source": []
  }
 ],
 "metadata": {
  "kernelspec": {
   "display_name": "Python 3 (ipykernel)",
   "language": "python",
   "name": "python3"
  },
  "language_info": {
   "codemirror_mode": {
    "name": "ipython",
    "version": 3
   },
   "file_extension": ".py",
   "mimetype": "text/x-python",
   "name": "python",
   "nbconvert_exporter": "python",
   "pygments_lexer": "ipython3",
   "version": "3.11.7"
  }
 },
 "nbformat": 4,
 "nbformat_minor": 5
}
