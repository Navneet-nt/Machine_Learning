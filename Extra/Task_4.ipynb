{
 "cells": [
  {
   "cell_type": "markdown",
   "id": "9d6909fd-8387-41d1-bf27-2f176d75e72f",
   "metadata": {},
   "source": [
    "#### 1> Difference between shallow copy and deep copy\n",
    "\n",
    "* Shallow copy\n",
    "\n",
    "->A shallow copy creates a new object, but inserts references into it to the objects found in the original. It constructs a new collection object and then populates it with references to the child objects found in the original. Therefore, the copy is only one level deep. \n",
    "\n",
    "* Deep copy\n",
    "\n",
    "->A deep copy creates a new object and recursively copies all objects found in the original, meaning that it duplicates everything. Changes to the nested objects in the deep copy will not affect the original object and vice versa."
   ]
  },
  {
   "cell_type": "markdown",
   "id": "a7bdfb3a-74dd-496e-bb68-3ebd3bb01dae",
   "metadata": {},
   "source": [
    "#### 2> library management using list "
   ]
  },
  {
   "cell_type": "code",
   "execution_count": 7,
   "id": "5ec30ed9-97cf-411f-9564-4dc65cc79114",
   "metadata": {},
   "outputs": [
    {
     "name": "stdin",
     "output_type": "stream",
     "text": [
      "Enter number of books 3\n",
      "Enter name of book1:  java\n",
      "Enter name of student issued book1:  Anuj\n",
      "Enter name of book2:  C\n",
      "Enter name of student issued book2:  Udayan\n",
      "Enter name of book3:  Python\n",
      "Enter name of student issued book3:  Navneet\n"
     ]
    },
    {
     "name": "stdout",
     "output_type": "stream",
     "text": [
      "Anuj  issued book  java\n",
      "Udayan  issued book  C\n",
      "Navneet  issued book  Python\n"
     ]
    }
   ],
   "source": [
    "library = {}\n",
    "#assumption one student can issue only one book\n",
    "n = int(input('Enter number of books'))\n",
    "for i in range(1,n+1):\n",
    "    library[f'book{i}'] = []\n",
    "    library[f'student{i}'] = []\n",
    "    name = input(f'Enter name of book{i}: ')\n",
    "    library[f'book{i}'] = name\n",
    "    name = input(f'Enter name of student issued book{i}: ')\n",
    "    library[f'student{i}'] = name\n",
    "\n",
    "for i in range(1,n+1):\n",
    "    print(library[f'student{i}'] , \" issued book \" , library[f'book{i}']) "
   ]
  },
  {
   "cell_type": "markdown",
   "id": "f106a381-ebc5-482a-8af9-9947f639147a",
   "metadata": {},
   "source": [
    "#### 3> Difference between an expression and a statement"
   ]
  },
  {
   "cell_type": "markdown",
   "id": "f91959bc-5cba-495a-8538-4681bf14cf28",
   "metadata": {},
   "source": [
    "1. Purpose:\n",
    "   \n",
    "* Expression: Its purpose is to produce a value.\n",
    "  \n",
    "* Statement: Its purpose is to perform an action or control the flow of the program."
   ]
  },
  {
   "cell_type": "markdown",
   "id": "4d5ab29a-4890-43c0-8caa-5089acf6a32c",
   "metadata": {},
   "source": [
    "2. Evaluation:\n",
    "\n",
    "* Expression: Can always be evaluated to produce a value.\n",
    " \n",
    "* Statement: May or may not produce a value, and its evaluation can lead to side efects."
   ]
  },
  {
   "cell_type": "markdown",
   "id": "57e69366-e937-45e5-96fb-ce656a3bf3f9",
   "metadata": {},
   "source": [
    "3. Usage:\n",
    "\n",
    "* Expression: Can be used anywhere a value is expected, such as in assignments, function argumen,or within other expressions.\n",
    "\n",
    "* Statement: Can stand alone as a line of code and is often used to structure the program's logic."
   ]
  },
  {
   "cell_type": "markdown",
   "id": "06dbad11-e766-490a-b6b0-2fcb7b44b070",
   "metadata": {},
   "source": [
    "#### 4> Define following\n",
    "1. Atomic data type\n",
    "2. secondary data type"
   ]
  },
  {
   "cell_type": "markdown",
   "id": "f896459b-d883-4543-b0eb-29996e724e2a",
   "metadata": {},
   "source": [
    "* Atomic data type\n",
    "\n",
    "->Atomic data types (also referred to as primary or primitive data types) are the simplest forms of data types that represent single values and are not composed of other data types. These are the building blocks for data manipulation and storage. \n",
    "\n",
    "1. Integers (int)\n",
    "2. Floating-Point Numbers (float)\n",
    "3. Complex Numbers (complex)\n",
    "4. Booleans (bool)"
   ]
  },
  {
   "cell_type": "markdown",
   "id": "987a49f3-5ffd-4c8a-b15b-8b6a7ee1fe65",
   "metadata": {},
   "source": [
    "* Secondary data type\n",
    "\n",
    "->Secondary data types, also known as composite or complex data types, are data structures that can store multiple values or a collection of values. These types are built from the primary (atomic) data types and can contain a mixture of data types, including other secondary data types.\n",
    "\n",
    "1. Lists (list)\n",
    "2. Tuples (tuple)\n",
    "3. Dictionaries (dict)\n",
    "4. Sets (set)"
   ]
  },
  {
   "cell_type": "markdown",
   "id": "8ebeaed0-bd57-4fec-96c4-50de13145367",
   "metadata": {},
   "source": [
    "#### 5> What is UDF"
   ]
  },
  {
   "cell_type": "markdown",
   "id": "df814738-70c7-48cd-b396-8e74108d9f5c",
   "metadata": {},
   "source": [
    "-> A User-Defined Function (UDF) is a function created by the user of a programming language to perform specific tasks that are not already available through the built-in functions of the language. UDFs allow for custom processing, making the code more modular, reusable, and easier to manage."
   ]
  },
  {
   "cell_type": "raw",
   "id": "e246de93-ea2d-4d6c-aeec-5ece0b119c0c",
   "metadata": {},
   "source": [
    "* Key Characteristics of UDFs:\n",
    "\n",
    "1. Custom Functionality: UDFs are written to perform tasks that are specific to the needs of the user.\n",
    "\n",
    "2. Modularity: By breaking down complex tasks into smaller, manageable functions, UDFs promote code modularity.\n",
    "\n",
    "3. Reusability: Once a UDF is defined, it can be reused throughout the codebase, reducing redundancy.\n",
    "\n",
    "4. Encapsulation: UDFs encapsulate specific functionality, which helps in organizing code logically.ly."
   ]
  },
  {
   "cell_type": "markdown",
   "id": "f513e11b-05a3-47f0-9c37-e0430e990468",
   "metadata": {},
   "source": [
    "* Defining UDFs in Python:\n",
    "\n",
    "-> In Python, UDFs are defined using the def keyword, followed by the function name, parentheses, and a colon. The function body is indented and can include any number of statements."
   ]
  },
  {
   "cell_type": "code",
   "execution_count": null,
   "id": "89bdb00f-5ddf-4db4-a5d1-f116194c9957",
   "metadata": {},
   "outputs": [],
   "source": []
  }
 ],
 "metadata": {
  "kernelspec": {
   "display_name": "Python 3 (ipykernel)",
   "language": "python",
   "name": "python3"
  },
  "language_info": {
   "codemirror_mode": {
    "name": "ipython",
    "version": 3
   },
   "file_extension": ".py",
   "mimetype": "text/x-python",
   "name": "python",
   "nbconvert_exporter": "python",
   "pygments_lexer": "ipython3",
   "version": "3.11.7"
  }
 },
 "nbformat": 4,
 "nbformat_minor": 5
}
