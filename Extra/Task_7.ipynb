{
 "cells": [
  {
   "cell_type": "markdown",
   "id": "87125c35-9164-4944-919e-81d22d8d8aac",
   "metadata": {},
   "source": [
    "#### 1> What are the two values of the Boolean data type? How do you write them?"
   ]
  },
  {
   "cell_type": "markdown",
   "id": "c6ef56a0-c301-4457-a857-1d7682a6e262",
   "metadata": {},
   "source": [
    "-> The Boolean data type has two values: true and false. These values are typically written in            programming languages as follows:\n",
    "\n",
    "\n",
    "* True: Represents a true condition or a logical high state.\n",
    "\n",
    "\n",
    "* False: Represents a false condition or a logical low state."
   ]
  },
  {
   "cell_type": "code",
   "execution_count": 4,
   "id": "5a4b056d-ab04-4158-9bfc-a9ebff3d6ba3",
   "metadata": {},
   "outputs": [
    {
     "name": "stdout",
     "output_type": "stream",
     "text": [
      "Hello i am navneet\n"
     ]
    }
   ],
   "source": [
    "a = True\n",
    "\n",
    "if a:\n",
    "    print(\"Hello i am navneet\")"
   ]
  },
  {
   "cell_type": "markdown",
   "id": "4a1022e4-fca7-4295-aab1-606377c4fe78",
   "metadata": {},
   "source": [
    "#### 2> What are the three Boolean operators?"
   ]
  },
  {
   "cell_type": "markdown",
   "id": "ff814fa2-9c83-4dcf-9d94-d9b0a348d247",
   "metadata": {},
   "source": [
    "* The three primary Boolean operators are:\n",
    "\n",
    "\n",
    "1. and\n",
    "\n",
    "\n",
    "-> This operator returns True if both operands are True. If either operand is False, it returns False.\n",
    "\n",
    "\n",
    "2. or\n",
    "\n",
    "\n",
    "-> This operator returns True if at least one of the operands is True. If both operands are False, it returns False.\n",
    "\n",
    "\n",
    "3. not\n",
    "\n",
    "\n",
    "-> This operator returns the opposite Boolean value of its operand. If the operand is True, not returns False, and if the operand is False, not returns True."
   ]
  },
  {
   "cell_type": "markdown",
   "id": "19459431-e4e6-4f61-b59d-2e877d7c98b2",
   "metadata": {},
   "source": [
    "#### 3> Write out the truth tables of each Boolean operator."
   ]
  },
  {
   "cell_type": "markdown",
   "id": "4a0bd7fd-214c-441a-99b5-26cc20a5a8d6",
   "metadata": {},
   "source": [
    "* Truth Table for and Operator:"
   ]
  },
  {
   "cell_type": "raw",
   "id": "95eabd57-bc9e-4b98-b083-8a6118f4b92d",
   "metadata": {},
   "source": [
    "A\t        B\t       A and B\n",
    "True\t   True\t        True\n",
    "True\t   False\t    False\n",
    "False\t   True\t        False\n",
    "False\t   False\t    False"
   ]
  },
  {
   "cell_type": "markdown",
   "id": "e26a8595-39e7-46a7-a72d-9acbd9ece4df",
   "metadata": {},
   "source": [
    "* Truth Table for or Operator:"
   ]
  },
  {
   "cell_type": "raw",
   "id": "6a317b92-adf5-4745-84e1-55957fa9e665",
   "metadata": {},
   "source": [
    "A\t       B\t    A or B\n",
    "True\t  True\t     True\n",
    "True\t  False\t     True\n",
    "False\t  True\t     True\n",
    "False\t  False\t     False"
   ]
  },
  {
   "cell_type": "markdown",
   "id": "9bae4228-3131-451e-85b4-f089756cae54",
   "metadata": {},
   "source": [
    "* Truth Table for not Operator:"
   ]
  },
  {
   "cell_type": "raw",
   "id": "732d4db8-e67c-4081-8923-324511627389",
   "metadata": {},
   "source": [
    " A\t       not A\n",
    "True\t   False\n",
    "False\t   True"
   ]
  },
  {
   "cell_type": "markdown",
   "id": "f647e0d7-e9f0-4461-8bfc-7dd0fc53e09e",
   "metadata": {},
   "source": [
    "#### 4> What do the following expressions evaluate to?"
   ]
  },
  {
   "cell_type": "markdown",
   "id": "ae379db0-de2b-4850-ab14-9e4fc1b11b71",
   "metadata": {},
   "source": [
    "* (5 > 4) and (3 == 5) "
   ]
  },
  {
   "cell_type": "markdown",
   "id": "37688460-cdb0-4720-b979-2a2f8bca93c6",
   "metadata": {},
   "source": [
    "-> (5 > 4) and (3 == 5) evaluates to False."
   ]
  },
  {
   "cell_type": "markdown",
   "id": "eda8d449-da97-4c04-848e-586e62833dea",
   "metadata": {},
   "source": [
    "* not (5 > 4)"
   ]
  },
  {
   "cell_type": "markdown",
   "id": "04a96129-69c1-4eee-b218-ae8ad77edac5",
   "metadata": {},
   "source": [
    "-> not (5 > 4) evaluates to False. "
   ]
  },
  {
   "cell_type": "markdown",
   "id": "11e97ad2-affb-45a0-9697-61c659c32f3f",
   "metadata": {},
   "source": [
    "* (5 > 4) or (3 == 5)"
   ]
  },
  {
   "cell_type": "markdown",
   "id": "55f2c1ae-cdd0-402c-91cb-53ab3a7552bc",
   "metadata": {},
   "source": [
    "-> (5 > 4) or (3 == 5) evaluates to True."
   ]
  },
  {
   "cell_type": "markdown",
   "id": "f9b32baf-ddf7-4ab9-918b-627272695a11",
   "metadata": {},
   "source": [
    "* not ((5 > 4) or (3 == 5))"
   ]
  },
  {
   "cell_type": "markdown",
   "id": "577ba97c-6b0c-4028-8474-55e73ae6248d",
   "metadata": {},
   "source": [
    "-> not ((5 > 4) or (3 == 5)) evaluates to False."
   ]
  },
  {
   "cell_type": "markdown",
   "id": "debe1f53-8b1e-4c72-a928-2d33813126cc",
   "metadata": {},
   "source": [
    "* (True and True) and (True == False) "
   ]
  },
  {
   "cell_type": "markdown",
   "id": "292f5a79-cf97-4c8c-a208-bc845ed80e29",
   "metadata": {},
   "source": [
    "-> (True and True) and (True == False) evaluates to False."
   ]
  },
  {
   "cell_type": "markdown",
   "id": "c1afce97-f109-46b5-a071-caeecf66a9bc",
   "metadata": {},
   "source": [
    "* (not False) or (not True)"
   ]
  },
  {
   "cell_type": "markdown",
   "id": "2e6408f5-d77c-4981-958b-d09e0cb4cb02",
   "metadata": {},
   "source": [
    "-> (not False) or (not True) evaluates to True."
   ]
  },
  {
   "cell_type": "markdown",
   "id": "c388ccf8-071c-4557-a7dc-c398cbeb3218",
   "metadata": {},
   "source": [
    "#### 5> What are the six comparison operators?"
   ]
  },
  {
   "cell_type": "markdown",
   "id": "f553e4b8-b7d5-4d40-8287-0a02453467ab",
   "metadata": {},
   "source": [
    "1. Equal to: ==\n",
    "2. Not equal to: !=\n",
    "3. Greater than: >\n",
    "4. Less than: <\n",
    "5. Greater than or equal to: >=\n",
    "6. Less than or equal to: <="
   ]
  },
  {
   "cell_type": "markdown",
   "id": "e2067e78-0ae6-47f0-8cb8-5a0dc5cf3f64",
   "metadata": {},
   "source": [
    "#### 6> What is the difference between the equal to operator and the assignment operator?"
   ]
  },
  {
   "cell_type": "markdown",
   "id": "ca12ec74-0e19-4c0b-8718-590cd617773c",
   "metadata": {},
   "source": [
    "* Key differences are:"
   ]
  },
  {
   "cell_type": "markdown",
   "id": "d19317b6-75d1-49c6-8059-5fcf52c323d9",
   "metadata": {},
   "source": [
    "* Purpose: The equal to operator compares values, while the assignment operator assigns a value to a variable."
   ]
  },
  {
   "cell_type": "markdown",
   "id": "13834641-d9d8-4e4f-a0b4-3491eec33c7a",
   "metadata": {},
   "source": [
    "* Usage: The equal to operator is used in conditional statements and comparisons, while the assignment operator is used to initialize or update variable values.\r\n"
   ]
  },
  {
   "cell_type": "markdown",
   "id": "0758d1e9-fa9b-44cd-afdc-1226c2e7fd96",
   "metadata": {},
   "source": [
    "* Symbol: The equal to operator is represented by ==, while the assignment operator is represented by =."
   ]
  },
  {
   "cell_type": "markdown",
   "id": "9bd6ec9e-1f86-4980-ada6-4236292c5a45",
   "metadata": {},
   "source": [
    "#### 7> Explain what a condition is and where you would use one."
   ]
  },
  {
   "cell_type": "markdown",
   "id": "6bdd90f6-64bc-49cf-81d1-73214083cc2a",
   "metadata": {},
   "source": [
    "-> A condition in programming is a statement or expression that evaluates to either true or false. Conditions are fundamental to controlling the flow of a program, allowing it to make decisions based on certain criteria. They are commonly used in conditional statements, loops, and branching structures."
   ]
  },
  {
   "cell_type": "markdown",
   "id": "c51043ce-14b3-48ed-8a97-21fcfcfef1be",
   "metadata": {},
   "source": [
    "* We can use conditions in: "
   ]
  },
  {
   "cell_type": "markdown",
   "id": "1fe0d437-b5cc-44e1-bdf1-4b5c3e2deed9",
   "metadata": {},
   "source": [
    "1. Conditional Statements\n",
    "2. Loop Control\n",
    "3. Function Execution"
   ]
  },
  {
   "cell_type": "code",
   "execution_count": null,
   "id": "83dff5b5-aaad-42c0-b98c-425511ad9303",
   "metadata": {},
   "outputs": [],
   "source": []
  }
 ],
 "metadata": {
  "kernelspec": {
   "display_name": "Python 3 (ipykernel)",
   "language": "python",
   "name": "python3"
  },
  "language_info": {
   "codemirror_mode": {
    "name": "ipython",
    "version": 3
   },
   "file_extension": ".py",
   "mimetype": "text/x-python",
   "name": "python",
   "nbconvert_exporter": "python",
   "pygments_lexer": "ipython3",
   "version": "3.11.7"
  }
 },
 "nbformat": 4,
 "nbformat_minor": 5
}
