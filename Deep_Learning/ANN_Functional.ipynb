{
 "cells": [
  {
   "cell_type": "code",
   "execution_count": 1,
   "id": "795ff85f-02d3-4e4e-9810-07cd3ce3a2d2",
   "metadata": {},
   "outputs": [],
   "source": [
    "# Function API Model"
   ]
  },
  {
   "cell_type": "code",
   "execution_count": 2,
   "id": "45c0229a-dc28-4159-b52d-d70e3d196620",
   "metadata": {},
   "outputs": [],
   "source": [
    "import tensorflow as tf"
   ]
  },
  {
   "cell_type": "code",
   "execution_count": 3,
   "id": "544315fe-4d31-462e-9168-4de8b25ebac5",
   "metadata": {},
   "outputs": [],
   "source": [
    "(X_train_full, y_train_full), (X_test, y_test) = tf.keras.datasets.california_housing.load_data()"
   ]
  },
  {
   "cell_type": "code",
   "execution_count": 4,
   "id": "ae79e5c9-d062-43d8-97d5-532eeef7bb2b",
   "metadata": {},
   "outputs": [
    {
     "data": {
      "text/plain": [
       "1651"
      ]
     },
     "execution_count": 4,
     "metadata": {},
     "output_type": "execute_result"
    }
   ],
   "source": [
    "val_size = 0.1\n",
    "ix = int(X_train_full.shape[0] * val_size)\n",
    "ix"
   ]
  },
  {
   "cell_type": "code",
   "execution_count": 5,
   "id": "d79ece1d-c356-4cb1-8536-d8edacf5f54e",
   "metadata": {},
   "outputs": [],
   "source": [
    "X_train, X_val = X_train_full[ix:], X_train_full[:ix]\n",
    "y_train, y_val = y_train_full[ix:], y_train_full[:ix]"
   ]
  },
  {
   "cell_type": "markdown",
   "id": "bd4cc547-f806-41f5-8a4e-10dd2ccf9ea6",
   "metadata": {},
   "source": [
    "layer1 = Normalization()\n",
    "\n",
    "layer2 = Dense(layer1)\n",
    "\n",
    "layer3 = Dense(layer2)\n",
    "\n",
    "layer5 = Dense(layer3)\n",
    "\n",
    "layer6 = concat(layer1, layer5)\n",
    "\n",
    "output = Dense(layer6)\n",
    "\n",
    "                    ---------------------------------->(wide network)\n",
    "                    \n",
    "    X --> input --> layer1                                   layer6 ---> output\n",
    "        \n",
    "                    layer2 ---> layer3 ---> layer5 --->(deep network)"
   ]
  },
  {
   "cell_type": "code",
   "execution_count": 6,
   "id": "b5b00de8-1029-4ab0-a4b7-aecb841fde84",
   "metadata": {},
   "outputs": [],
   "source": [
    "input_layer = tf.keras.layers.Input(shape=X_train.shape[-1:])\n",
    "\n",
    "norm_layer = tf.keras.layers.Normalization()(input_layer) # layer1\n",
    "\n",
    "hidden1 = tf.keras.layers.Dense(300, activation=\"relu\")(norm_layer) # layer2\n",
    "hidden2 = tf.keras.layers.Dense(200, activation=\"relu\")(hidden1) # layer3\n",
    "hidden3 = tf.keras.layers.Dense(100, activation=\"relu\")(hidden2) # layer5\n",
    "\n",
    "concat = tf.keras.layers.Concatenate()([norm_layer, hidden3])\n",
    "\n",
    "output_layer = tf.keras.layers.Dense(1, activation=\"relu\")(concat)\n",
    "\n",
    "model = tf.keras.Model(inputs=[input_layer], outputs=[output_layer])"
   ]
  },
  {
   "cell_type": "code",
   "execution_count": 7,
   "id": "17077247-93a1-4e1e-9903-0392c55b7e0c",
   "metadata": {},
   "outputs": [],
   "source": [
    "optimizer = tf.keras.optimizers.Adam(learning_rate=0.001)\n",
    "\n",
    "model.compile(\n",
    "    optimizer = optimizer,\n",
    "    loss = \"mse\",\n",
    "    metrics = [\"RootMeanSquaredError\"]\n",
    ")"
   ]
  },
  {
   "cell_type": "code",
   "execution_count": 8,
   "id": "896802af-1319-48de-9f9e-91172b5b621c",
   "metadata": {},
   "outputs": [
    {
     "name": "stdout",
     "output_type": "stream",
     "text": [
      "Epoch 1/30\n",
      "\u001b[1m465/465\u001b[0m \u001b[32m━━━━━━━━━━━━━━━━━━━━\u001b[0m\u001b[37m\u001b[0m \u001b[1m3s\u001b[0m 2ms/step - RootMeanSquaredError: 178924.2500 - loss: 32606490624.0000 - val_RootMeanSquaredError: 107428.9297 - val_loss: 11540974592.0000\n",
      "Epoch 2/30\n",
      "\u001b[1m465/465\u001b[0m \u001b[32m━━━━━━━━━━━━━━━━━━━━\u001b[0m\u001b[37m\u001b[0m \u001b[1m1s\u001b[0m 2ms/step - RootMeanSquaredError: 105959.2656 - loss: 11231289344.0000 - val_RootMeanSquaredError: 101376.8281 - val_loss: 10277261312.0000\n",
      "Epoch 3/30\n",
      "\u001b[1m465/465\u001b[0m \u001b[32m━━━━━━━━━━━━━━━━━━━━\u001b[0m\u001b[37m\u001b[0m \u001b[1m1s\u001b[0m 2ms/step - RootMeanSquaredError: 101242.3828 - loss: 10250598400.0000 - val_RootMeanSquaredError: 98653.8438 - val_loss: 9732581376.0000\n",
      "Epoch 4/30\n",
      "\u001b[1m465/465\u001b[0m \u001b[32m━━━━━━━━━━━━━━━━━━━━\u001b[0m\u001b[37m\u001b[0m \u001b[1m1s\u001b[0m 2ms/step - RootMeanSquaredError: 97212.3516 - loss: 9451752448.0000 - val_RootMeanSquaredError: 97371.7031 - val_loss: 9481248768.0000\n",
      "Epoch 5/30\n",
      "\u001b[1m465/465\u001b[0m \u001b[32m━━━━━━━━━━━━━━━━━━━━\u001b[0m\u001b[37m\u001b[0m \u001b[1m1s\u001b[0m 2ms/step - RootMeanSquaredError: 94011.8203 - loss: 8839469056.0000 - val_RootMeanSquaredError: 88079.2969 - val_loss: 7757962240.0000\n",
      "Epoch 6/30\n",
      "\u001b[1m465/465\u001b[0m \u001b[32m━━━━━━━━━━━━━━━━━━━━\u001b[0m\u001b[37m\u001b[0m \u001b[1m1s\u001b[0m 2ms/step - RootMeanSquaredError: 89046.7266 - loss: 7930919936.0000 - val_RootMeanSquaredError: 91653.9141 - val_loss: 8400440320.0000\n",
      "Epoch 7/30\n",
      "\u001b[1m465/465\u001b[0m \u001b[32m━━━━━━━━━━━━━━━━━━━━\u001b[0m\u001b[37m\u001b[0m \u001b[1m1s\u001b[0m 2ms/step - RootMeanSquaredError: 85324.5312 - loss: 7280948224.0000 - val_RootMeanSquaredError: 83307.7734 - val_loss: 6940184576.0000\n",
      "Epoch 8/30\n",
      "\u001b[1m465/465\u001b[0m \u001b[32m━━━━━━━━━━━━━━━━━━━━\u001b[0m\u001b[37m\u001b[0m \u001b[1m1s\u001b[0m 2ms/step - RootMeanSquaredError: 83359.2344 - loss: 6949559296.0000 - val_RootMeanSquaredError: 81382.7812 - val_loss: 6623156736.0000\n",
      "Epoch 9/30\n",
      "\u001b[1m465/465\u001b[0m \u001b[32m━━━━━━━━━━━━━━━━━━━━\u001b[0m\u001b[37m\u001b[0m \u001b[1m1s\u001b[0m 2ms/step - RootMeanSquaredError: 83380.8281 - loss: 6960582656.0000 - val_RootMeanSquaredError: 77868.4766 - val_loss: 6063499776.0000\n",
      "Epoch 10/30\n",
      "\u001b[1m465/465\u001b[0m \u001b[32m━━━━━━━━━━━━━━━━━━━━\u001b[0m\u001b[37m\u001b[0m \u001b[1m1s\u001b[0m 2ms/step - RootMeanSquaredError: 81006.5234 - loss: 6564011520.0000 - val_RootMeanSquaredError: 76935.7969 - val_loss: 5919117312.0000\n",
      "Epoch 11/30\n",
      "\u001b[1m465/465\u001b[0m \u001b[32m━━━━━━━━━━━━━━━━━━━━\u001b[0m\u001b[37m\u001b[0m \u001b[1m1s\u001b[0m 2ms/step - RootMeanSquaredError: 79412.9922 - loss: 6308205056.0000 - val_RootMeanSquaredError: 76258.1484 - val_loss: 5815305728.0000\n",
      "Epoch 12/30\n",
      "\u001b[1m465/465\u001b[0m \u001b[32m━━━━━━━━━━━━━━━━━━━━\u001b[0m\u001b[37m\u001b[0m \u001b[1m1s\u001b[0m 2ms/step - RootMeanSquaredError: 77954.3594 - loss: 6079115264.0000 - val_RootMeanSquaredError: 74122.0703 - val_loss: 5494081024.0000\n",
      "Epoch 13/30\n",
      "\u001b[1m465/465\u001b[0m \u001b[32m━━━━━━━━━━━━━━━━━━━━\u001b[0m\u001b[37m\u001b[0m \u001b[1m1s\u001b[0m 2ms/step - RootMeanSquaredError: 76214.6250 - loss: 5809125888.0000 - val_RootMeanSquaredError: 73027.5156 - val_loss: 5333018112.0000\n",
      "Epoch 14/30\n",
      "\u001b[1m465/465\u001b[0m \u001b[32m━━━━━━━━━━━━━━━━━━━━\u001b[0m\u001b[37m\u001b[0m \u001b[1m1s\u001b[0m 2ms/step - RootMeanSquaredError: 75522.8203 - loss: 5709979648.0000 - val_RootMeanSquaredError: 71012.6484 - val_loss: 5042796544.0000\n",
      "Epoch 15/30\n",
      "\u001b[1m465/465\u001b[0m \u001b[32m━━━━━━━━━━━━━━━━━━━━\u001b[0m\u001b[37m\u001b[0m \u001b[1m1s\u001b[0m 2ms/step - RootMeanSquaredError: 73396.1562 - loss: 5388571136.0000 - val_RootMeanSquaredError: 71457.7422 - val_loss: 5106209280.0000\n",
      "Epoch 16/30\n",
      "\u001b[1m465/465\u001b[0m \u001b[32m━━━━━━━━━━━━━━━━━━━━\u001b[0m\u001b[37m\u001b[0m \u001b[1m1s\u001b[0m 2ms/step - RootMeanSquaredError: 73265.5156 - loss: 5370578944.0000 - val_RootMeanSquaredError: 70205.4609 - val_loss: 4928806912.0000\n",
      "Epoch 17/30\n",
      "\u001b[1m465/465\u001b[0m \u001b[32m━━━━━━━━━━━━━━━━━━━━\u001b[0m\u001b[37m\u001b[0m \u001b[1m1s\u001b[0m 2ms/step - RootMeanSquaredError: 73376.4141 - loss: 5387353088.0000 - val_RootMeanSquaredError: 70611.3438 - val_loss: 4985961472.0000\n",
      "Epoch 18/30\n",
      "\u001b[1m465/465\u001b[0m \u001b[32m━━━━━━━━━━━━━━━━━━━━\u001b[0m\u001b[37m\u001b[0m \u001b[1m1s\u001b[0m 2ms/step - RootMeanSquaredError: 73574.7031 - loss: 5414760960.0000 - val_RootMeanSquaredError: 69514.1172 - val_loss: 4832211968.0000\n",
      "Epoch 19/30\n",
      "\u001b[1m465/465\u001b[0m \u001b[32m━━━━━━━━━━━━━━━━━━━━\u001b[0m\u001b[37m\u001b[0m \u001b[1m1s\u001b[0m 2ms/step - RootMeanSquaredError: 72327.2344 - loss: 5231710208.0000 - val_RootMeanSquaredError: 68129.9297 - val_loss: 4641687040.0000\n",
      "Epoch 20/30\n",
      "\u001b[1m465/465\u001b[0m \u001b[32m━━━━━━━━━━━━━━━━━━━━\u001b[0m\u001b[37m\u001b[0m \u001b[1m1s\u001b[0m 2ms/step - RootMeanSquaredError: 71638.6250 - loss: 5132658176.0000 - val_RootMeanSquaredError: 68264.2500 - val_loss: 4660007424.0000\n",
      "Epoch 21/30\n",
      "\u001b[1m465/465\u001b[0m \u001b[32m━━━━━━━━━━━━━━━━━━━━\u001b[0m\u001b[37m\u001b[0m \u001b[1m1s\u001b[0m 2ms/step - RootMeanSquaredError: 71008.3125 - loss: 5043523584.0000 - val_RootMeanSquaredError: 72528.2891 - val_loss: 5260352512.0000\n",
      "Epoch 22/30\n",
      "\u001b[1m465/465\u001b[0m \u001b[32m━━━━━━━━━━━━━━━━━━━━\u001b[0m\u001b[37m\u001b[0m \u001b[1m1s\u001b[0m 2ms/step - RootMeanSquaredError: 70435.0234 - loss: 4963311104.0000 - val_RootMeanSquaredError: 78543.6016 - val_loss: 6169097216.0000\n",
      "Epoch 23/30\n",
      "\u001b[1m465/465\u001b[0m \u001b[32m━━━━━━━━━━━━━━━━━━━━\u001b[0m\u001b[37m\u001b[0m \u001b[1m1s\u001b[0m 2ms/step - RootMeanSquaredError: 70331.6875 - loss: 4947409920.0000 - val_RootMeanSquaredError: 70041.6641 - val_loss: 4905835008.0000\n",
      "Epoch 24/30\n",
      "\u001b[1m465/465\u001b[0m \u001b[32m━━━━━━━━━━━━━━━━━━━━\u001b[0m\u001b[37m\u001b[0m \u001b[1m1s\u001b[0m 2ms/step - RootMeanSquaredError: 69483.7734 - loss: 4829026304.0000 - val_RootMeanSquaredError: 72669.7734 - val_loss: 5280896000.0000\n",
      "Epoch 25/30\n",
      "\u001b[1m465/465\u001b[0m \u001b[32m━━━━━━━━━━━━━━━━━━━━\u001b[0m\u001b[37m\u001b[0m \u001b[1m1s\u001b[0m 2ms/step - RootMeanSquaredError: 69789.9453 - loss: 4874088448.0000 - val_RootMeanSquaredError: 66706.7422 - val_loss: 4449789952.0000\n",
      "Epoch 26/30\n",
      "\u001b[1m465/465\u001b[0m \u001b[32m━━━━━━━━━━━━━━━━━━━━\u001b[0m\u001b[37m\u001b[0m \u001b[1m1s\u001b[0m 2ms/step - RootMeanSquaredError: 69227.3828 - loss: 4793952768.0000 - val_RootMeanSquaredError: 73617.4531 - val_loss: 5419529216.0000\n",
      "Epoch 27/30\n",
      "\u001b[1m465/465\u001b[0m \u001b[32m━━━━━━━━━━━━━━━━━━━━\u001b[0m\u001b[37m\u001b[0m \u001b[1m1s\u001b[0m 2ms/step - RootMeanSquaredError: 68307.2422 - loss: 4667403776.0000 - val_RootMeanSquaredError: 66039.0078 - val_loss: 4361150464.0000\n",
      "Epoch 28/30\n",
      "\u001b[1m465/465\u001b[0m \u001b[32m━━━━━━━━━━━━━━━━━━━━\u001b[0m\u001b[37m\u001b[0m \u001b[1m1s\u001b[0m 2ms/step - RootMeanSquaredError: 67654.7500 - loss: 4578103808.0000 - val_RootMeanSquaredError: 65993.7109 - val_loss: 4355169792.0000\n",
      "Epoch 29/30\n",
      "\u001b[1m465/465\u001b[0m \u001b[32m━━━━━━━━━━━━━━━━━━━━\u001b[0m\u001b[37m\u001b[0m \u001b[1m1s\u001b[0m 2ms/step - RootMeanSquaredError: 68257.4062 - loss: 4660333568.0000 - val_RootMeanSquaredError: 72500.1406 - val_loss: 5256270848.0000\n",
      "Epoch 30/30\n",
      "\u001b[1m465/465\u001b[0m \u001b[32m━━━━━━━━━━━━━━━━━━━━\u001b[0m\u001b[37m\u001b[0m \u001b[1m1s\u001b[0m 2ms/step - RootMeanSquaredError: 68608.8984 - loss: 4708375040.0000 - val_RootMeanSquaredError: 70809.6016 - val_loss: 5013999616.0000\n"
     ]
    }
   ],
   "source": [
    "history = model.fit(X_train, y_train, epochs=30,validation_data=(X_val, y_val))"
   ]
  },
  {
   "cell_type": "code",
   "execution_count": 9,
   "id": "f58baac6-dd0c-4a5a-aa55-5d6856317eab",
   "metadata": {},
   "outputs": [
    {
     "data": {
      "text/plain": [
       "<Axes: >"
      ]
     },
     "execution_count": 9,
     "metadata": {},
     "output_type": "execute_result"
    },
    {
     "data": {
      "image/png": "[encoded data removed]",
      "text/plain": [
       "<Figure size 640x480 with 1 Axes>"
      ]
     },
     "metadata": {},
     "output_type": "display_data"
    }
   ],
   "source": [
    "import pandas as pd\n",
    "error = pd.DataFrame(history.history)\n",
    "error[[\"RootMeanSquaredError\", \"val_RootMeanSquaredError\"]].plot()"
   ]
  },
  {
   "cell_type": "code",
   "execution_count": 10,
   "id": "0b892d0c-b5f9-45ba-8c31-d10678bd03f5",
   "metadata": {},
   "outputs": [
    {
     "name": "stdout",
     "output_type": "stream",
     "text": [
      "\u001b[1m129/129\u001b[0m \u001b[32m━━━━━━━━━━━━━━━━━━━━\u001b[0m\u001b[37m\u001b[0m \u001b[1m0s\u001b[0m 1ms/step - RootMeanSquaredError: 73239.0391 - loss: 5367779328.0000\n"
     ]
    },
    {
     "data": {
      "text/plain": [
       "[5185476608.0, 72010.25]"
      ]
     },
     "execution_count": 10,
     "metadata": {},
     "output_type": "execute_result"
    }
   ],
   "source": [
    "model.evaluate(X_test, y_test)"
   ]
  },
  {
   "cell_type": "code",
   "execution_count": 11,
   "id": "c910fa38-3012-4c88-892c-8c68877678c5",
   "metadata": {},
   "outputs": [],
   "source": [
    "# new model"
   ]
  },
  {
   "cell_type": "code",
   "execution_count": 12,
   "id": "fb6985d5-c1a6-4295-b226-84269ea538f8",
   "metadata": {},
   "outputs": [
    {
     "name": "stdout",
     "output_type": "stream",
     "text": [
      "Epoch 1/30\n",
      "\u001b[1m465/465\u001b[0m \u001b[32m━━━━━━━━━━━━━━━━━━━━\u001b[0m\u001b[37m\u001b[0m \u001b[1m3s\u001b[0m 2ms/step - RootMeanSquaredError: 236528.7188 - loss: 55951880192.0000 - val_RootMeanSquaredError: 230308.3125 - val_loss: 53041922048.0000\n",
      "Epoch 2/30\n",
      "\u001b[1m465/465\u001b[0m \u001b[32m━━━━━━━━━━━━━━━━━━━━\u001b[0m\u001b[37m\u001b[0m \u001b[1m1s\u001b[0m 2ms/step - RootMeanSquaredError: 236288.2031 - loss: 55836463104.0000 - val_RootMeanSquaredError: 227593.9062 - val_loss: 51798982656.0000\n",
      "Epoch 3/30\n",
      "\u001b[1m465/465\u001b[0m \u001b[32m━━━━━━━━━━━━━━━━━━━━\u001b[0m\u001b[37m\u001b[0m \u001b[1m1s\u001b[0m 2ms/step - RootMeanSquaredError: 232496.3438 - loss: 54060302336.0000 - val_RootMeanSquaredError: 222178.1719 - val_loss: 49363140608.0000\n",
      "Epoch 4/30\n",
      "\u001b[1m465/465\u001b[0m \u001b[32m━━━━━━━━━━━━━━━━━━━━\u001b[0m\u001b[37m\u001b[0m \u001b[1m1s\u001b[0m 2ms/step - RootMeanSquaredError: 225404.0625 - loss: 50811719680.0000 - val_RootMeanSquaredError: 212608.3438 - val_loss: 45202305024.0000\n",
      "Epoch 5/30\n",
      "\u001b[1m465/465\u001b[0m \u001b[32m━━━━━━━━━━━━━━━━━━━━\u001b[0m\u001b[37m\u001b[0m \u001b[1m1s\u001b[0m 2ms/step - RootMeanSquaredError: 215591.8125 - loss: 46489411584.0000 - val_RootMeanSquaredError: 199276.1406 - val_loss: 39710978048.0000\n",
      "Epoch 6/30\n",
      "\u001b[1m465/465\u001b[0m \u001b[32m━━━━━━━━━━━━━━━━━━━━\u001b[0m\u001b[37m\u001b[0m \u001b[1m1s\u001b[0m 2ms/step - RootMeanSquaredError: 200962.4375 - loss: 40398258176.0000 - val_RootMeanSquaredError: 184884.7344 - val_loss: 34182365184.0000\n",
      "Epoch 7/30\n",
      "\u001b[1m465/465\u001b[0m \u001b[32m━━━━━━━━━━━━━━━━━━━━\u001b[0m\u001b[37m\u001b[0m \u001b[1m1s\u001b[0m 2ms/step - RootMeanSquaredError: 186012.0000 - loss: 34606419968.0000 - val_RootMeanSquaredError: 173319.3438 - val_loss: 30039597056.0000\n",
      "Epoch 8/30\n",
      "\u001b[1m465/465\u001b[0m \u001b[32m━━━━━━━━━━━━━━━━━━━━\u001b[0m\u001b[37m\u001b[0m \u001b[1m1s\u001b[0m 2ms/step - RootMeanSquaredError: 176032.3750 - loss: 30997184512.0000 - val_RootMeanSquaredError: 167252.2656 - val_loss: 27973320704.0000\n",
      "Epoch 9/30\n",
      "\u001b[1m465/465\u001b[0m \u001b[32m━━━━━━━━━━━━━━━━━━━━\u001b[0m\u001b[37m\u001b[0m \u001b[1m1s\u001b[0m 2ms/step - RootMeanSquaredError: 171012.3750 - loss: 29251723264.0000 - val_RootMeanSquaredError: 165406.7344 - val_loss: 27359385600.0000\n",
      "Epoch 10/30\n",
      "\u001b[1m465/465\u001b[0m \u001b[32m━━━━━━━━━━━━━━━━━━━━\u001b[0m\u001b[37m\u001b[0m \u001b[1m1s\u001b[0m 2ms/step - RootMeanSquaredError: 166246.0312 - loss: 27651991552.0000 - val_RootMeanSquaredError: 165161.5156 - val_loss: 27278323712.0000\n",
      "Epoch 11/30\n",
      "\u001b[1m465/465\u001b[0m \u001b[32m━━━━━━━━━━━━━━━━━━━━\u001b[0m\u001b[37m\u001b[0m \u001b[1m1s\u001b[0m 2ms/step - RootMeanSquaredError: 168592.2969 - loss: 28427196416.0000 - val_RootMeanSquaredError: 165183.3750 - val_loss: 27285544960.0000\n",
      "Epoch 12/30\n",
      "\u001b[1m465/465\u001b[0m \u001b[32m━━━━━━━━━━━━━━━━━━━━\u001b[0m\u001b[37m\u001b[0m \u001b[1m1s\u001b[0m 2ms/step - RootMeanSquaredError: 166726.1719 - loss: 27799392256.0000 - val_RootMeanSquaredError: 165214.2812 - val_loss: 27295758336.0000\n",
      "Epoch 13/30\n",
      "\u001b[1m465/465\u001b[0m \u001b[32m━━━━━━━━━━━━━━━━━━━━\u001b[0m\u001b[37m\u001b[0m \u001b[1m1s\u001b[0m 2ms/step - RootMeanSquaredError: 167600.6719 - loss: 28093194240.0000 - val_RootMeanSquaredError: 165226.8125 - val_loss: 27299899392.0000\n",
      "Epoch 14/30\n",
      "\u001b[1m465/465\u001b[0m \u001b[32m━━━━━━━━━━━━━━━━━━━━\u001b[0m\u001b[37m\u001b[0m \u001b[1m1s\u001b[0m 2ms/step - RootMeanSquaredError: 164397.4531 - loss: 27034396672.0000 - val_RootMeanSquaredError: 165194.5938 - val_loss: 27289251840.0000\n",
      "Epoch 15/30\n",
      "\u001b[1m465/465\u001b[0m \u001b[32m━━━━━━━━━━━━━━━━━━━━\u001b[0m\u001b[37m\u001b[0m \u001b[1m1s\u001b[0m 2ms/step - RootMeanSquaredError: 166979.0625 - loss: 27919017984.0000 - val_RootMeanSquaredError: 165164.6719 - val_loss: 27279370240.0000\n",
      "Epoch 16/30\n",
      "\u001b[1m465/465\u001b[0m \u001b[32m━━━━━━━━━━━━━━━━━━━━\u001b[0m\u001b[37m\u001b[0m \u001b[1m1s\u001b[0m 2ms/step - RootMeanSquaredError: 166024.9844 - loss: 27591231488.0000 - val_RootMeanSquaredError: 165148.8750 - val_loss: 27274149888.0000\n",
      "Epoch 17/30\n",
      "\u001b[1m465/465\u001b[0m \u001b[32m━━━━━━━━━━━━━━━━━━━━\u001b[0m\u001b[37m\u001b[0m \u001b[1m1s\u001b[0m 2ms/step - RootMeanSquaredError: 169915.0312 - loss: 28905510912.0000 - val_RootMeanSquaredError: 165074.7031 - val_loss: 27249659904.0000\n",
      "Epoch 18/30\n",
      "\u001b[1m465/465\u001b[0m \u001b[32m━━━━━━━━━━━━━━━━━━━━\u001b[0m\u001b[37m\u001b[0m \u001b[1m1s\u001b[0m 2ms/step - RootMeanSquaredError: 166618.4844 - loss: 27769974784.0000 - val_RootMeanSquaredError: 165037.3438 - val_loss: 27237322752.0000\n",
      "Epoch 19/30\n",
      "\u001b[1m465/465\u001b[0m \u001b[32m━━━━━━━━━━━━━━━━━━━━\u001b[0m\u001b[37m\u001b[0m \u001b[1m1s\u001b[0m 2ms/step - RootMeanSquaredError: 166807.4062 - loss: 27829108736.0000 - val_RootMeanSquaredError: 164995.8125 - val_loss: 27223619584.0000\n",
      "Epoch 20/30\n",
      "\u001b[1m465/465\u001b[0m \u001b[32m━━━━━━━━━━━━━━━━━━━━\u001b[0m\u001b[37m\u001b[0m \u001b[1m1s\u001b[0m 2ms/step - RootMeanSquaredError: 165878.7969 - loss: 27529402368.0000 - val_RootMeanSquaredError: 164953.4688 - val_loss: 27209646080.0000\n",
      "Epoch 21/30\n",
      "\u001b[1m465/465\u001b[0m \u001b[32m━━━━━━━━━━━━━━━━━━━━\u001b[0m\u001b[37m\u001b[0m \u001b[1m1s\u001b[0m 2ms/step - RootMeanSquaredError: 161393.0156 - loss: 26063337472.0000 - val_RootMeanSquaredError: 164910.3750 - val_loss: 27195432960.0000\n",
      "Epoch 22/30\n",
      "\u001b[1m465/465\u001b[0m \u001b[32m━━━━━━━━━━━━━━━━━━━━\u001b[0m\u001b[37m\u001b[0m \u001b[1m1s\u001b[0m 2ms/step - RootMeanSquaredError: 167199.0000 - loss: 27959828480.0000 - val_RootMeanSquaredError: 164804.8281 - val_loss: 27160633344.0000\n",
      "Epoch 23/30\n",
      "\u001b[1m465/465\u001b[0m \u001b[32m━━━━━━━━━━━━━━━━━━━━\u001b[0m\u001b[37m\u001b[0m \u001b[1m1s\u001b[0m 2ms/step - RootMeanSquaredError: 165315.9062 - loss: 27333320704.0000 - val_RootMeanSquaredError: 164764.8906 - val_loss: 27147466752.0000\n",
      "Epoch 24/30\n",
      "\u001b[1m465/465\u001b[0m \u001b[32m━━━━━━━━━━━━━━━━━━━━\u001b[0m\u001b[37m\u001b[0m \u001b[1m1s\u001b[0m 2ms/step - RootMeanSquaredError: 165830.7812 - loss: 27510501376.0000 - val_RootMeanSquaredError: 164697.4375 - val_loss: 27125243904.0000\n",
      "Epoch 25/30\n",
      "\u001b[1m465/465\u001b[0m \u001b[32m━━━━━━━━━━━━━━━━━━━━\u001b[0m\u001b[37m\u001b[0m \u001b[1m1s\u001b[0m 2ms/step - RootMeanSquaredError: 166120.4219 - loss: 27599208448.0000 - val_RootMeanSquaredError: 164674.3281 - val_loss: 27117633536.0000\n",
      "Epoch 26/30\n",
      "\u001b[1m465/465\u001b[0m \u001b[32m━━━━━━━━━━━━━━━━━━━━\u001b[0m\u001b[37m\u001b[0m \u001b[1m1s\u001b[0m 2ms/step - RootMeanSquaredError: 166622.1406 - loss: 27773478912.0000 - val_RootMeanSquaredError: 164636.7188 - val_loss: 27105247232.0000\n",
      "Epoch 27/30\n",
      "\u001b[1m465/465\u001b[0m \u001b[32m━━━━━━━━━━━━━━━━━━━━\u001b[0m\u001b[37m\u001b[0m \u001b[1m1s\u001b[0m 2ms/step - RootMeanSquaredError: 168486.6406 - loss: 28403040256.0000 - val_RootMeanSquaredError: 164608.2812 - val_loss: 27095887872.0000\n",
      "Epoch 28/30\n",
      "\u001b[1m465/465\u001b[0m \u001b[32m━━━━━━━━━━━━━━━━━━━━\u001b[0m\u001b[37m\u001b[0m \u001b[1m1s\u001b[0m 2ms/step - RootMeanSquaredError: 167902.8438 - loss: 28198252544.0000 - val_RootMeanSquaredError: 164529.5469 - val_loss: 27069970432.0000\n",
      "Epoch 29/30\n",
      "\u001b[1m465/465\u001b[0m \u001b[32m━━━━━━━━━━━━━━━━━━━━\u001b[0m\u001b[37m\u001b[0m \u001b[1m1s\u001b[0m 2ms/step - RootMeanSquaredError: 165144.6094 - loss: 27278596096.0000 - val_RootMeanSquaredError: 164514.3750 - val_loss: 27064979456.0000\n",
      "Epoch 30/30\n",
      "\u001b[1m465/465\u001b[0m \u001b[32m━━━━━━━━━━━━━━━━━━━━\u001b[0m\u001b[37m\u001b[0m \u001b[1m1s\u001b[0m 2ms/step - RootMeanSquaredError: 165831.8594 - loss: 27511330816.0000 - val_RootMeanSquaredError: 164421.0625 - val_loss: 27034288128.0000\n"
     ]
    },
    {
     "data": {
      "text/plain": [
       "<keras.src.callbacks.history.History at 0x1f533772e10>"
      ]
     },
     "execution_count": 12,
     "metadata": {},
     "output_type": "execute_result"
    }
   ],
   "source": [
    "input_deep = tf.keras.layers.Input(shape=[6, ])\n",
    "input_wide = tf.keras.layers.Input(shape=[4, ])\n",
    "\n",
    "norm_deep = tf.keras.layers.Normalization()(input_deep)\n",
    "norm_wide = tf.keras.layers.Normalization()(input_wide)\n",
    "norm_wide = tf.keras.layers.Dense(100, activation='relu')(norm_wide)\n",
    "\n",
    "hidden1 = tf.keras.layers.Dense(300, activation='relu')(input_deep)\n",
    "hidden2 = tf.keras.layers.Dense(200, activation='relu')(hidden1)\n",
    "hidden3 = tf.keras.layers.Dense(100, activation='relu')(hidden2)\n",
    "\n",
    "concat = tf.keras.layers.concatenate([norm_wide, hidden3])\n",
    "\n",
    "output = tf.keras.layers.Dense(1)(concat)\n",
    "\n",
    "model = tf.keras.Model(inputs=[input_wide, input_deep], outputs=[output])\n",
    "\n",
    "optimizer = tf.keras.optimizers.Adam(learning_rate=1e-5)\n",
    "\n",
    "model.compile(optimizer=optimizer,\n",
    "             loss=\"mse\",\n",
    "             metrics=[\"RootMeanSquaredError\"])\n",
    "\n",
    "model.fit((X_train[:, :4], X_train[:, 2:]), y_train, epochs=30,\n",
    "         validation_data = ((X_val[:, :4], X_val[:, 2:]), y_val))"
   ]
  },
  {
   "cell_type": "code",
   "execution_count": 13,
   "id": "bbe61d85-cbd5-480b-8de6-13b188c55afd",
   "metadata": {},
   "outputs": [
    {
     "name": "stderr",
     "output_type": "stream",
     "text": [
      "WARNING:absl:You are saving your model as an HDF5 file via `model.save()` or `keras.saving.save_model(model)`. This file format is considered legacy. We recommend using instead the native Keras format, e.g. `model.save('my_model.keras')` or `keras.saving.save_model(model, 'my_model.keras')`. \n"
     ]
    }
   ],
   "source": [
    "model.save(\"housing_prediction.h5\")"
   ]
  },
  {
   "cell_type": "code",
   "execution_count": 14,
   "id": "43f808e4-a5ef-4dbf-8088-e2b31f71913a",
   "metadata": {},
   "outputs": [],
   "source": [
    "model.save(\"housing_prediction.keras\")"
   ]
  },
  {
   "cell_type": "code",
   "execution_count": null,
   "id": "7d87a603-a59d-4f63-b15e-c58d3af1499e",
   "metadata": {},
   "outputs": [],
   "source": []
  }
 ],
 "metadata": {
  "kernelspec": {
   "display_name": "Python 3 (ipykernel)",
   "language": "python",
   "name": "python3"
  },
  "language_info": {
   "codemirror_mode": {
    "name": "ipython",
    "version": 3
   },
   "file_extension": ".py",
   "mimetype": "text/x-python",
   "name": "python",
   "nbconvert_exporter": "python",
   "pygments_lexer": "ipython3",
   "version": "3.11.7"
  }
 },
 "nbformat": 4,
 "nbformat_minor": 5
}
