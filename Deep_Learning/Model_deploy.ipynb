{
 "cells": [
  {
   "cell_type": "code",
   "execution_count": 1,
   "id": "089e577c-cc35-45f9-97cc-e6d3850fc8fa",
   "metadata": {},
   "outputs": [],
   "source": [
    "import tensorflow as tf"
   ]
  },
  {
   "cell_type": "code",
   "execution_count": 2,
   "id": "611d0018-d4a4-410e-8c9a-3efdbdd15182",
   "metadata": {},
   "outputs": [
    {
     "name": "stderr",
     "output_type": "stream",
     "text": [
      "C:\\Users\\Dell\\anaconda3\\Lib\\site-packages\\keras\\src\\saving\\saving_lib.py:713: UserWarning: Skipping variable loading for optimizer 'rmsprop', because it has 12 variables whereas the saved optimizer has 22 variables. \n",
      "  saveable.load_own_variables(weights_store.get(inner_path))\n"
     ]
    }
   ],
   "source": [
    "model = tf.keras.models.load_model(\"housing_prediction.keras\")"
   ]
  },
  {
   "cell_type": "code",
   "execution_count": 3,
   "id": "ddcdc4fa-56b1-4f5e-be2a-03efdea7a410",
   "metadata": {},
   "outputs": [
    {
     "data": {
      "text/plain": [
       "<Functional name=functional_1, built=True>"
      ]
     },
     "execution_count": 3,
     "metadata": {},
     "output_type": "execute_result"
    }
   ],
   "source": [
    "model"
   ]
  },
  {
   "cell_type": "code",
   "execution_count": 4,
   "id": "4c05baf3-ade6-4af3-9272-f0fefa3eae9b",
   "metadata": {},
   "outputs": [],
   "source": [
    "(X, y), (X_t, y_t) = tf.keras.datasets.california_housing.load_data()"
   ]
  },
  {
   "cell_type": "code",
   "execution_count": 5,
   "id": "dded791e-e0f5-4290-a926-482c4efd7184",
   "metadata": {},
   "outputs": [
    {
     "name": "stdout",
     "output_type": "stream",
     "text": [
      "\u001b[1m129/129\u001b[0m \u001b[32m━━━━━━━━━━━━━━━━━━━━\u001b[0m\u001b[37m\u001b[0m \u001b[1m1s\u001b[0m 2ms/step\n"
     ]
    }
   ],
   "source": [
    "y_hat = model.predict((X_t[:, :4], X_t[:, 2:]))"
   ]
  },
  {
   "cell_type": "code",
   "execution_count": 6,
   "id": "449d612b-180d-4c83-b416-2a8204a84771",
   "metadata": {},
   "outputs": [
    {
     "data": {
      "text/plain": [
       "array([[115057.695],\n",
       "       [133161.9  ],\n",
       "       [ 91311.76 ],\n",
       "       ...,\n",
       "       [145292.3  ],\n",
       "       [ 74151.53 ],\n",
       "       [ 69788.69 ]], dtype=float32)"
      ]
     },
     "execution_count": 6,
     "metadata": {},
     "output_type": "execute_result"
    }
   ],
   "source": [
    "y_hat"
   ]
  },
  {
   "cell_type": "code",
   "execution_count": 7,
   "id": "45eaa415-b2c4-4d3b-b0e8-a3bf7c3eccfb",
   "metadata": {},
   "outputs": [
    {
     "data": {
      "text/plain": [
       "array([397900., 227900., 172100., ...,  98800., 234600., 100000.],\n",
       "      dtype=float32)"
      ]
     },
     "execution_count": 7,
     "metadata": {},
     "output_type": "execute_result"
    }
   ],
   "source": [
    "y_t"
   ]
  },
  {
   "cell_type": "code",
   "execution_count": 8,
   "id": "9ce76093-51ad-402a-90e4-71b7cdecf9a3",
   "metadata": {},
   "outputs": [
    {
     "data": {
      "text/plain": [
       "516833819.78294575"
      ]
     },
     "execution_count": 8,
     "metadata": {},
     "output_type": "execute_result"
    }
   ],
   "source": [
    "(abs(y_hat - y_t)).sum() / len(y_t)"
   ]
  },
  {
   "cell_type": "markdown",
   "id": "9917a0d8-316b-48c1-892a-cb7d2028c7b8",
   "metadata": {},
   "source": [
    "        CNN\n",
    "        LeNET\n",
    "        AlexNet\n",
    "        RNN\n",
    "        GAN\n",
    "        Transformer"
   ]
  },
  {
   "cell_type": "code",
   "execution_count": null,
   "id": "8c18c2af-e81c-42da-a943-ce6fa8a4a32f",
   "metadata": {},
   "outputs": [],
   "source": []
  }
 ],
 "metadata": {
  "kernelspec": {
   "display_name": "Python 3 (ipykernel)",
   "language": "python",
   "name": "python3"
  },
  "language_info": {
   "codemirror_mode": {
    "name": "ipython",
    "version": 3
   },
   "file_extension": ".py",
   "mimetype": "text/x-python",
   "name": "python",
   "nbconvert_exporter": "python",
   "pygments_lexer": "ipython3",
   "version": "3.11.7"
  }
 },
 "nbformat": 4,
 "nbformat_minor": 5
}
