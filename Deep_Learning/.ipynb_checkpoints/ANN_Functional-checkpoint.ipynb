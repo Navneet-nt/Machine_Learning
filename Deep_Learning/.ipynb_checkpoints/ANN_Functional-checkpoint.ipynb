{
 "cells": [
  {
   "cell_type": "code",
   "execution_count": 1,
   "id": "795ff85f-02d3-4e4e-9810-07cd3ce3a2d2",
   "metadata": {},
   "outputs": [],
   "source": [
    "# Function API Model"
   ]
  },
  {
   "cell_type": "code",
   "execution_count": 2,
   "id": "45c0229a-dc28-4159-b52d-d70e3d196620",
   "metadata": {},
   "outputs": [],
   "source": [
    "import tensorflow as tf"
   ]
  },
  {
   "cell_type": "code",
   "execution_count": 3,
   "id": "544315fe-4d31-462e-9168-4de8b25ebac5",
   "metadata": {},
   "outputs": [],
   "source": [
    "(X_train_full, y_train_full), (X_test, y_test) = tf.keras.datasets.california_housing.load_data()"
   ]
  },
  {
   "cell_type": "code",
   "execution_count": 4,
   "id": "ae79e5c9-d062-43d8-97d5-532eeef7bb2b",
   "metadata": {},
   "outputs": [
    {
     "data": {
      "text/plain": [
       "1651"
      ]
     },
     "execution_count": 4,
     "metadata": {},
     "output_type": "execute_result"
    }
   ],
   "source": [
    "val_size = 0.1\n",
    "ix = int(X_train_full.shape[0] * val_size)\n",
    "ix"
   ]
  },
  {
   "cell_type": "code",
   "execution_count": 5,
   "id": "d79ece1d-c356-4cb1-8536-d8edacf5f54e",
   "metadata": {},
   "outputs": [],
   "source": [
    "X_train, X_val = X_train_full[ix:], X_train_full[:ix]\n",
    "y_train, y_val = y_train_full[ix:], y_train_full[:ix]"
   ]
  },
  {
   "cell_type": "markdown",
   "id": "bd4cc547-f806-41f5-8a4e-10dd2ccf9ea6",
   "metadata": {},
   "source": [
    "layer1 = Normalization()\n",
    "\n",
    "layer2 = Dense(layer1)\n",
    "\n",
    "layer3 = Dense(layer2)\n",
    "\n",
    "layer5 = Dense(layer3)\n",
    "\n",
    "layer6 = concat(layer1, layer5)\n",
    "\n",
    "output = Dense(layer6)\n",
    "\n",
    "                    ---------------------------------->(wide network)\n",
    "                    \n",
    "    X --> input --> layer1                                   layer6 ---> output\n",
    "        \n",
    "                    layer2 ---> layer3 ---> layer5 --->(deep network)"
   ]
  },
  {
   "cell_type": "code",
   "execution_count": 6,
   "id": "b5b00de8-1029-4ab0-a4b7-aecb841fde84",
   "metadata": {},
   "outputs": [],
   "source": [
    "input_layer = tf.keras.layers.Input(shape=X_train.shape[-1:])\n",
    "\n",
    "norm_layer = tf.keras.layers.Normalization()(input_layer) # layer1\n",
    "\n",
    "hidden1 = tf.keras.layers.Dense(300, activation=\"relu\")(norm_layer) # layer2\n",
    "hidden2 = tf.keras.layers.Dense(200, activation=\"relu\")(hidden1) # layer3\n",
    "hidden3 = tf.keras.layers.Dense(100, activation=\"relu\")(hidden2) # layer5\n",
    "\n",
    "concat = tf.keras.layers.Concatenate()([norm_layer, hidden3])\n",
    "\n",
    "output_layer = tf.keras.layers.Dense(1, activation=\"relu\")(concat)\n",
    "\n",
    "model = tf.keras.Model(inputs=[input_layer], outputs=[output_layer])"
   ]
  },
  {
   "cell_type": "code",
   "execution_count": 7,
   "id": "17077247-93a1-4e1e-9903-0392c55b7e0c",
   "metadata": {},
   "outputs": [],
   "source": [
    "optimizer = tf.keras.optimizers.Adam(learning_rate=0.001)\n",
    "\n",
    "model.compile(\n",
    "    optimizer = optimizer,\n",
    "    loss = \"mse\",\n",
    "    metrics = [\"RootMeanSquaredError\"]\n",
    ")"
   ]
  },
  {
   "cell_type": "code",
   "execution_count": 8,
   "id": "896802af-1319-48de-9f9e-91172b5b621c",
   "metadata": {},
   "outputs": [
    {
     "name": "stdout",
     "output_type": "stream",
     "text": [
      "Epoch 1/30\n",
      "\u001b[1m465/465\u001b[0m \u001b[32m━━━━━━━━━━━━━━━━━━━━\u001b[0m\u001b[37m\u001b[0m \u001b[1m3s\u001b[0m 4ms/step - RootMeanSquaredError: 181054.3906 - loss: 33200719872.0000 - val_RootMeanSquaredError: 108032.6719 - val_loss: 11671058432.0000\n",
      "Epoch 2/30\n",
      "\u001b[1m465/465\u001b[0m \u001b[32m━━━━━━━━━━━━━━━━━━━━\u001b[0m\u001b[37m\u001b[0m \u001b[1m2s\u001b[0m 3ms/step - RootMeanSquaredError: 105536.0859 - loss: 11140164608.0000 - val_RootMeanSquaredError: 101548.9922 - val_loss: 10312197120.0000\n",
      "Epoch 3/30\n",
      "\u001b[1m465/465\u001b[0m \u001b[32m━━━━━━━━━━━━━━━━━━━━\u001b[0m\u001b[37m\u001b[0m \u001b[1m2s\u001b[0m 3ms/step - RootMeanSquaredError: 100113.4922 - loss: 10025095168.0000 - val_RootMeanSquaredError: 98912.3125 - val_loss: 9783646208.0000\n",
      "Epoch 4/30\n",
      "\u001b[1m465/465\u001b[0m \u001b[32m━━━━━━━━━━━━━━━━━━━━\u001b[0m\u001b[37m\u001b[0m \u001b[1m2s\u001b[0m 3ms/step - RootMeanSquaredError: 97757.2969 - loss: 9557275648.0000 - val_RootMeanSquaredError: 94494.9141 - val_loss: 8929288192.0000\n",
      "Epoch 5/30\n",
      "\u001b[1m465/465\u001b[0m \u001b[32m━━━━━━━━━━━━━━━━━━━━\u001b[0m\u001b[37m\u001b[0m \u001b[1m2s\u001b[0m 3ms/step - RootMeanSquaredError: 94134.8672 - loss: 8861867008.0000 - val_RootMeanSquaredError: 92699.6719 - val_loss: 8593229824.0000\n",
      "Epoch 6/30\n",
      "\u001b[1m465/465\u001b[0m \u001b[32m━━━━━━━━━━━━━━━━━━━━\u001b[0m\u001b[37m\u001b[0m \u001b[1m2s\u001b[0m 3ms/step - RootMeanSquaredError: 90802.9766 - loss: 8247375872.0000 - val_RootMeanSquaredError: 86358.5625 - val_loss: 7457800704.0000\n",
      "Epoch 7/30\n",
      "\u001b[1m465/465\u001b[0m \u001b[32m━━━━━━━━━━━━━━━━━━━━\u001b[0m\u001b[37m\u001b[0m \u001b[1m2s\u001b[0m 3ms/step - RootMeanSquaredError: 88068.9609 - loss: 7758256128.0000 - val_RootMeanSquaredError: 83213.3516 - val_loss: 6924462080.0000\n",
      "Epoch 8/30\n",
      "\u001b[1m465/465\u001b[0m \u001b[32m━━━━━━━━━━━━━━━━━━━━\u001b[0m\u001b[37m\u001b[0m \u001b[1m2s\u001b[0m 3ms/step - RootMeanSquaredError: 85171.8906 - loss: 7255694848.0000 - val_RootMeanSquaredError: 81274.4922 - val_loss: 6605542912.0000\n",
      "Epoch 9/30\n",
      "\u001b[1m465/465\u001b[0m \u001b[32m━━━━━━━━━━━━━━━━━━━━\u001b[0m\u001b[37m\u001b[0m \u001b[1m2s\u001b[0m 3ms/step - RootMeanSquaredError: 83163.6094 - loss: 6916756992.0000 - val_RootMeanSquaredError: 82152.9688 - val_loss: 6749110784.0000\n",
      "Epoch 10/30\n",
      "\u001b[1m465/465\u001b[0m \u001b[32m━━━━━━━━━━━━━━━━━━━━\u001b[0m\u001b[37m\u001b[0m \u001b[1m2s\u001b[0m 3ms/step - RootMeanSquaredError: 81304.0000 - loss: 6611181056.0000 - val_RootMeanSquaredError: 77333.1172 - val_loss: 5980410880.0000\n",
      "Epoch 11/30\n",
      "\u001b[1m465/465\u001b[0m \u001b[32m━━━━━━━━━━━━━━━━━━━━\u001b[0m\u001b[37m\u001b[0m \u001b[1m2s\u001b[0m 3ms/step - RootMeanSquaredError: 79694.7031 - loss: 6352469504.0000 - val_RootMeanSquaredError: 77967.2422 - val_loss: 6078891008.0000\n",
      "Epoch 12/30\n",
      "\u001b[1m465/465\u001b[0m \u001b[32m━━━━━━━━━━━━━━━━━━━━\u001b[0m\u001b[37m\u001b[0m \u001b[1m1s\u001b[0m 3ms/step - RootMeanSquaredError: 79868.8984 - loss: 6380794368.0000 - val_RootMeanSquaredError: 74561.3516 - val_loss: 5559394816.0000\n",
      "Epoch 13/30\n",
      "\u001b[1m465/465\u001b[0m \u001b[32m━━━━━━━━━━━━━━━━━━━━\u001b[0m\u001b[37m\u001b[0m \u001b[1m1s\u001b[0m 3ms/step - RootMeanSquaredError: 78161.1719 - loss: 6118545920.0000 - val_RootMeanSquaredError: 72934.8984 - val_loss: 5319499776.0000\n",
      "Epoch 14/30\n",
      "\u001b[1m465/465\u001b[0m \u001b[32m━━━━━━━━━━━━━━━━━━━━\u001b[0m\u001b[37m\u001b[0m \u001b[1m2s\u001b[0m 3ms/step - RootMeanSquaredError: 76484.2891 - loss: 5853465088.0000 - val_RootMeanSquaredError: 72179.0859 - val_loss: 5209820160.0000\n",
      "Epoch 15/30\n",
      "\u001b[1m465/465\u001b[0m \u001b[32m━━━━━━━━━━━━━━━━━━━━\u001b[0m\u001b[37m\u001b[0m \u001b[1m2s\u001b[0m 3ms/step - RootMeanSquaredError: 74352.7656 - loss: 5528696320.0000 - val_RootMeanSquaredError: 71807.3516 - val_loss: 5156295680.0000\n",
      "Epoch 16/30\n",
      "\u001b[1m465/465\u001b[0m \u001b[32m━━━━━━━━━━━━━━━━━━━━\u001b[0m\u001b[37m\u001b[0m \u001b[1m2s\u001b[0m 3ms/step - RootMeanSquaredError: 75892.2109 - loss: 5760868864.0000 - val_RootMeanSquaredError: 70183.9609 - val_loss: 4925788672.0000\n",
      "Epoch 17/30\n",
      "\u001b[1m465/465\u001b[0m \u001b[32m━━━━━━━━━━━━━━━━━━━━\u001b[0m\u001b[37m\u001b[0m \u001b[1m1s\u001b[0m 3ms/step - RootMeanSquaredError: 73528.0312 - loss: 5407024640.0000 - val_RootMeanSquaredError: 69449.5312 - val_loss: 4823237632.0000\n",
      "Epoch 18/30\n",
      "\u001b[1m465/465\u001b[0m \u001b[32m━━━━━━━━━━━━━━━━━━━━\u001b[0m\u001b[37m\u001b[0m \u001b[1m2s\u001b[0m 3ms/step - RootMeanSquaredError: 72843.4766 - loss: 5307033600.0000 - val_RootMeanSquaredError: 69184.2500 - val_loss: 4786460672.0000\n",
      "Epoch 19/30\n",
      "\u001b[1m465/465\u001b[0m \u001b[32m━━━━━━━━━━━━━━━━━━━━\u001b[0m\u001b[37m\u001b[0m \u001b[1m2s\u001b[0m 3ms/step - RootMeanSquaredError: 72091.9453 - loss: 5199624192.0000 - val_RootMeanSquaredError: 68717.1406 - val_loss: 4722044928.0000\n",
      "Epoch 20/30\n",
      "\u001b[1m465/465\u001b[0m \u001b[32m━━━━━━━━━━━━━━━━━━━━\u001b[0m\u001b[37m\u001b[0m \u001b[1m2s\u001b[0m 3ms/step - RootMeanSquaredError: 72647.2422 - loss: 5278915584.0000 - val_RootMeanSquaredError: 68195.2031 - val_loss: 4650585600.0000\n",
      "Epoch 21/30\n",
      "\u001b[1m465/465\u001b[0m \u001b[32m━━━━━━━━━━━━━━━━━━━━\u001b[0m\u001b[37m\u001b[0m \u001b[1m2s\u001b[0m 3ms/step - RootMeanSquaredError: 72654.8125 - loss: 5281108992.0000 - val_RootMeanSquaredError: 67864.2266 - val_loss: 4605553664.0000\n",
      "Epoch 22/30\n",
      "\u001b[1m465/465\u001b[0m \u001b[32m━━━━━━━━━━━━━━━━━━━━\u001b[0m\u001b[37m\u001b[0m \u001b[1m2s\u001b[0m 3ms/step - RootMeanSquaredError: 71932.6562 - loss: 5174686720.0000 - val_RootMeanSquaredError: 68243.3047 - val_loss: 4657148416.0000\n",
      "Epoch 23/30\n",
      "\u001b[1m465/465\u001b[0m \u001b[32m━━━━━━━━━━━━━━━━━━━━\u001b[0m\u001b[37m\u001b[0m \u001b[1m2s\u001b[0m 3ms/step - RootMeanSquaredError: 70073.9219 - loss: 4912610816.0000 - val_RootMeanSquaredError: 69089.5078 - val_loss: 4773360128.0000\n",
      "Epoch 24/30\n",
      "\u001b[1m465/465\u001b[0m \u001b[32m━━━━━━━━━━━━━━━━━━━━\u001b[0m\u001b[37m\u001b[0m \u001b[1m2s\u001b[0m 3ms/step - RootMeanSquaredError: 70776.3281 - loss: 5010589696.0000 - val_RootMeanSquaredError: 68117.0703 - val_loss: 4639934976.0000\n",
      "Epoch 25/30\n",
      "\u001b[1m465/465\u001b[0m \u001b[32m━━━━━━━━━━━━━━━━━━━━\u001b[0m\u001b[37m\u001b[0m \u001b[1m2s\u001b[0m 4ms/step - RootMeanSquaredError: 69615.0156 - loss: 4846947840.0000 - val_RootMeanSquaredError: 67792.7734 - val_loss: 4595860480.0000\n",
      "Epoch 26/30\n",
      "\u001b[1m465/465\u001b[0m \u001b[32m━━━━━━━━━━━━━━━━━━━━\u001b[0m\u001b[37m\u001b[0m \u001b[1m1s\u001b[0m 3ms/step - RootMeanSquaredError: 70718.1406 - loss: 5001890304.0000 - val_RootMeanSquaredError: 67442.0547 - val_loss: 4548430848.0000\n",
      "Epoch 27/30\n",
      "\u001b[1m465/465\u001b[0m \u001b[32m━━━━━━━━━━━━━━━━━━━━\u001b[0m\u001b[37m\u001b[0m \u001b[1m2s\u001b[0m 3ms/step - RootMeanSquaredError: 69828.6328 - loss: 4886342656.0000 - val_RootMeanSquaredError: 69423.1172 - val_loss: 4819569152.0000\n",
      "Epoch 28/30\n",
      "\u001b[1m465/465\u001b[0m \u001b[32m━━━━━━━━━━━━━━━━━━━━\u001b[0m\u001b[37m\u001b[0m \u001b[1m2s\u001b[0m 3ms/step - RootMeanSquaredError: 69234.3281 - loss: 4794092032.0000 - val_RootMeanSquaredError: 67338.4609 - val_loss: 4534468096.0000\n",
      "Epoch 29/30\n",
      "\u001b[1m465/465\u001b[0m \u001b[32m━━━━━━━━━━━━━━━━━━━━\u001b[0m\u001b[37m\u001b[0m \u001b[1m1s\u001b[0m 3ms/step - RootMeanSquaredError: 67874.3438 - loss: 4610003456.0000 - val_RootMeanSquaredError: 66977.1328 - val_loss: 4485936640.0000\n",
      "Epoch 30/30\n",
      "\u001b[1m465/465\u001b[0m \u001b[32m━━━━━━━━━━━━━━━━━━━━\u001b[0m\u001b[37m\u001b[0m \u001b[1m1s\u001b[0m 3ms/step - RootMeanSquaredError: 69228.2422 - loss: 4794397184.0000 - val_RootMeanSquaredError: 66164.7891 - val_loss: 4377779200.0000\n"
     ]
    }
   ],
   "source": [
    "history = model.fit(X_train, y_train, epochs=30,validation_data=(X_val, y_val))"
   ]
  },
  {
   "cell_type": "code",
   "execution_count": 9,
   "id": "f58baac6-dd0c-4a5a-aa55-5d6856317eab",
   "metadata": {},
   "outputs": [
    {
     "data": {
      "text/plain": [
       "<Axes: >"
      ]
     },
     "execution_count": 9,
     "metadata": {},
     "output_type": "execute_result"
    },
    {
     "data": {
      "image/png": "[encoded data removed]",
      "text/plain": [
       "<Figure size 640x480 with 1 Axes>"
      ]
     },
     "metadata": {},
     "output_type": "display_data"
    }
   ],
   "source": [
    "import pandas as pd\n",
    "error = pd.DataFrame(history.history)\n",
    "error[[\"RootMeanSquaredError\", \"val_RootMeanSquaredError\"]].plot()"
   ]
  },
  {
   "cell_type": "code",
   "execution_count": 10,
   "id": "0b892d0c-b5f9-45ba-8c31-d10678bd03f5",
   "metadata": {},
   "outputs": [
    {
     "name": "stdout",
     "output_type": "stream",
     "text": [
      "\u001b[1m129/129\u001b[0m \u001b[32m━━━━━━━━━━━━━━━━━━━━\u001b[0m\u001b[37m\u001b[0m \u001b[1m0s\u001b[0m 2ms/step - RootMeanSquaredError: 68765.0703 - loss: 4731949568.0000\n"
     ]
    },
    {
     "data": {
      "text/plain": [
       "[4547255296.0, 67433.3359375]"
      ]
     },
     "execution_count": 10,
     "metadata": {},
     "output_type": "execute_result"
    }
   ],
   "source": [
    "model.evaluate(X_test, y_test)"
   ]
  },
  {
   "cell_type": "code",
   "execution_count": 11,
   "id": "c910fa38-3012-4c88-892c-8c68877678c5",
   "metadata": {},
   "outputs": [],
   "source": [
    "# new model"
   ]
  },
  {
   "cell_type": "code",
   "execution_count": 16,
   "id": "fb6985d5-c1a6-4295-b226-84269ea538f8",
   "metadata": {},
   "outputs": [
    {
     "name": "stdout",
     "output_type": "stream",
     "text": [
      "Epoch 1/30\n",
      "\u001b[1m465/465\u001b[0m \u001b[32m━━━━━━━━━━━━━━━━━━━━\u001b[0m\u001b[37m\u001b[0m \u001b[1m3s\u001b[0m 2ms/step - RootMeanSquaredError: 235589.1875 - loss: 55508193280.0000 - val_RootMeanSquaredError: 230211.9844 - val_loss: 52997558272.0000\n",
      "Epoch 2/30\n",
      "\u001b[1m465/465\u001b[0m \u001b[32m━━━━━━━━━━━━━━━━━━━━\u001b[0m\u001b[37m\u001b[0m \u001b[1m1s\u001b[0m 2ms/step - RootMeanSquaredError: 231762.8750 - loss: 53718859776.0000 - val_RootMeanSquaredError: 226381.2188 - val_loss: 51248455680.0000\n",
      "Epoch 3/30\n",
      "\u001b[1m465/465\u001b[0m \u001b[32m━━━━━━━━━━━━━━━━━━━━\u001b[0m\u001b[37m\u001b[0m \u001b[1m1s\u001b[0m 2ms/step - RootMeanSquaredError: 229439.1406 - loss: 52645142528.0000 - val_RootMeanSquaredError: 218481.7500 - val_loss: 47734272000.0000\n",
      "Epoch 4/30\n",
      "\u001b[1m465/465\u001b[0m \u001b[32m━━━━━━━━━━━━━━━━━━━━\u001b[0m\u001b[37m\u001b[0m \u001b[1m1s\u001b[0m 2ms/step - RootMeanSquaredError: 221452.4688 - loss: 49050148864.0000 - val_RootMeanSquaredError: 205716.3125 - val_loss: 42319204352.0000\n",
      "Epoch 5/30\n",
      "\u001b[1m465/465\u001b[0m \u001b[32m━━━━━━━━━━━━━━━━━━━━\u001b[0m\u001b[37m\u001b[0m \u001b[1m1s\u001b[0m 2ms/step - RootMeanSquaredError: 208170.8438 - loss: 43350843392.0000 - val_RootMeanSquaredError: 189721.3594 - val_loss: 35994193920.0000\n",
      "Epoch 6/30\n",
      "\u001b[1m465/465\u001b[0m \u001b[32m━━━━━━━━━━━━━━━━━━━━\u001b[0m\u001b[37m\u001b[0m \u001b[1m1s\u001b[0m 2ms/step - RootMeanSquaredError: 191010.3906 - loss: 36500045824.0000 - val_RootMeanSquaredError: 175338.5781 - val_loss: 30743617536.0000\n",
      "Epoch 7/30\n",
      "\u001b[1m465/465\u001b[0m \u001b[32m━━━━━━━━━━━━━━━━━━━━\u001b[0m\u001b[37m\u001b[0m \u001b[1m1s\u001b[0m 2ms/step - RootMeanSquaredError: 175875.3594 - loss: 30937384960.0000 - val_RootMeanSquaredError: 167455.3906 - val_loss: 28041306112.0000\n",
      "Epoch 8/30\n",
      "\u001b[1m465/465\u001b[0m \u001b[32m━━━━━━━━━━━━━━━━━━━━\u001b[0m\u001b[37m\u001b[0m \u001b[1m1s\u001b[0m 2ms/step - RootMeanSquaredError: 168016.7656 - loss: 28237832192.0000 - val_RootMeanSquaredError: 165320.5000 - val_loss: 27330867200.0000\n",
      "Epoch 9/30\n",
      "\u001b[1m465/465\u001b[0m \u001b[32m━━━━━━━━━━━━━━━━━━━━\u001b[0m\u001b[37m\u001b[0m \u001b[1m1s\u001b[0m 2ms/step - RootMeanSquaredError: 167721.4219 - loss: 28140857344.0000 - val_RootMeanSquaredError: 165070.4844 - val_loss: 27248263168.0000\n",
      "Epoch 10/30\n",
      "\u001b[1m465/465\u001b[0m \u001b[32m━━━━━━━━━━━━━━━━━━━━\u001b[0m\u001b[37m\u001b[0m \u001b[1m1s\u001b[0m 2ms/step - RootMeanSquaredError: 165742.1719 - loss: 27481718784.0000 - val_RootMeanSquaredError: 165074.2812 - val_loss: 27249518592.0000\n",
      "Epoch 11/30\n",
      "\u001b[1m465/465\u001b[0m \u001b[32m━━━━━━━━━━━━━━━━━━━━\u001b[0m\u001b[37m\u001b[0m \u001b[1m1s\u001b[0m 2ms/step - RootMeanSquaredError: 166061.7812 - loss: 27585681408.0000 - val_RootMeanSquaredError: 165101.2812 - val_loss: 27258435584.0000\n",
      "Epoch 12/30\n",
      "\u001b[1m465/465\u001b[0m \u001b[32m━━━━━━━━━━━━━━━━━━━━\u001b[0m\u001b[37m\u001b[0m \u001b[1m1s\u001b[0m 2ms/step - RootMeanSquaredError: 167194.2656 - loss: 27958386688.0000 - val_RootMeanSquaredError: 165121.4062 - val_loss: 27265081344.0000\n",
      "Epoch 13/30\n",
      "\u001b[1m465/465\u001b[0m \u001b[32m━━━━━━━━━━━━━━━━━━━━\u001b[0m\u001b[37m\u001b[0m \u001b[1m1s\u001b[0m 2ms/step - RootMeanSquaredError: 167641.5312 - loss: 28113799168.0000 - val_RootMeanSquaredError: 165079.9531 - val_loss: 27251388416.0000\n",
      "Epoch 14/30\n",
      "\u001b[1m465/465\u001b[0m \u001b[32m━━━━━━━━━━━━━━━━━━━━\u001b[0m\u001b[37m\u001b[0m \u001b[1m1s\u001b[0m 2ms/step - RootMeanSquaredError: 165842.4219 - loss: 27517212672.0000 - val_RootMeanSquaredError: 165064.8750 - val_loss: 27246411776.0000\n",
      "Epoch 15/30\n",
      "\u001b[1m465/465\u001b[0m \u001b[32m━━━━━━━━━━━━━━━━━━━━\u001b[0m\u001b[37m\u001b[0m \u001b[1m1s\u001b[0m 2ms/step - RootMeanSquaredError: 165821.9531 - loss: 27499542528.0000 - val_RootMeanSquaredError: 165002.1875 - val_loss: 27225720832.0000\n",
      "Epoch 16/30\n",
      "\u001b[1m465/465\u001b[0m \u001b[32m━━━━━━━━━━━━━━━━━━━━\u001b[0m\u001b[37m\u001b[0m \u001b[1m1s\u001b[0m 2ms/step - RootMeanSquaredError: 166108.9062 - loss: 27612452864.0000 - val_RootMeanSquaredError: 164930.7812 - val_loss: 27202160640.0000\n",
      "Epoch 17/30\n",
      "\u001b[1m465/465\u001b[0m \u001b[32m━━━━━━━━━━━━━━━━━━━━\u001b[0m\u001b[37m\u001b[0m \u001b[1m1s\u001b[0m 2ms/step - RootMeanSquaredError: 167664.6094 - loss: 28135763968.0000 - val_RootMeanSquaredError: 164921.7656 - val_loss: 27199186944.0000\n",
      "Epoch 18/30\n",
      "\u001b[1m465/465\u001b[0m \u001b[32m━━━━━━━━━━━━━━━━━━━━\u001b[0m\u001b[37m\u001b[0m \u001b[1m1s\u001b[0m 2ms/step - RootMeanSquaredError: 166537.2188 - loss: 27745933312.0000 - val_RootMeanSquaredError: 164869.7656 - val_loss: 27182041088.0000\n",
      "Epoch 19/30\n",
      "\u001b[1m465/465\u001b[0m \u001b[32m━━━━━━━━━━━━━━━━━━━━\u001b[0m\u001b[37m\u001b[0m \u001b[1m1s\u001b[0m 2ms/step - RootMeanSquaredError: 167540.3438 - loss: 28088944640.0000 - val_RootMeanSquaredError: 164811.6719 - val_loss: 27162886144.0000\n",
      "Epoch 20/30\n",
      "\u001b[1m465/465\u001b[0m \u001b[32m━━━━━━━━━━━━━━━━━━━━\u001b[0m\u001b[37m\u001b[0m \u001b[1m1s\u001b[0m 2ms/step - RootMeanSquaredError: 165384.8750 - loss: 27355838464.0000 - val_RootMeanSquaredError: 164750.4375 - val_loss: 27142705152.0000\n",
      "Epoch 21/30\n",
      "\u001b[1m465/465\u001b[0m \u001b[32m━━━━━━━━━━━━━━━━━━━━\u001b[0m\u001b[37m\u001b[0m \u001b[1m1s\u001b[0m 2ms/step - RootMeanSquaredError: 164695.7188 - loss: 27133349888.0000 - val_RootMeanSquaredError: 164727.9688 - val_loss: 27135305728.0000\n",
      "Epoch 22/30\n",
      "\u001b[1m465/465\u001b[0m \u001b[32m━━━━━━━━━━━━━━━━━━━━\u001b[0m\u001b[37m\u001b[0m \u001b[1m1s\u001b[0m 2ms/step - RootMeanSquaredError: 163550.8281 - loss: 26761844736.0000 - val_RootMeanSquaredError: 164653.8594 - val_loss: 27110895616.0000\n",
      "Epoch 23/30\n",
      "\u001b[1m465/465\u001b[0m \u001b[32m━━━━━━━━━━━━━━━━━━━━\u001b[0m\u001b[37m\u001b[0m \u001b[1m1s\u001b[0m 2ms/step - RootMeanSquaredError: 167914.3594 - loss: 28206180352.0000 - val_RootMeanSquaredError: 164626.6250 - val_loss: 27101923328.0000\n",
      "Epoch 24/30\n",
      "\u001b[1m465/465\u001b[0m \u001b[32m━━━━━━━━━━━━━━━━━━━━\u001b[0m\u001b[37m\u001b[0m \u001b[1m1s\u001b[0m 2ms/step - RootMeanSquaredError: 164152.0625 - loss: 26952574976.0000 - val_RootMeanSquaredError: 164540.7031 - val_loss: 27073644544.0000\n",
      "Epoch 25/30\n",
      "\u001b[1m465/465\u001b[0m \u001b[32m━━━━━━━━━━━━━━━━━━━━\u001b[0m\u001b[37m\u001b[0m \u001b[1m1s\u001b[0m 2ms/step - RootMeanSquaredError: 164144.4531 - loss: 26958811136.0000 - val_RootMeanSquaredError: 164474.3906 - val_loss: 27051827200.0000\n",
      "Epoch 26/30\n",
      "\u001b[1m465/465\u001b[0m \u001b[32m━━━━━━━━━━━━━━━━━━━━\u001b[0m\u001b[37m\u001b[0m \u001b[1m1s\u001b[0m 2ms/step - RootMeanSquaredError: 162246.8438 - loss: 26348152832.0000 - val_RootMeanSquaredError: 164412.6562 - val_loss: 27031521280.0000\n",
      "Epoch 27/30\n",
      "\u001b[1m465/465\u001b[0m \u001b[32m━━━━━━━━━━━━━━━━━━━━\u001b[0m\u001b[37m\u001b[0m \u001b[1m1s\u001b[0m 2ms/step - RootMeanSquaredError: 165137.8125 - loss: 27288903680.0000 - val_RootMeanSquaredError: 164361.3906 - val_loss: 27014668288.0000\n",
      "Epoch 28/30\n",
      "\u001b[1m465/465\u001b[0m \u001b[32m━━━━━━━━━━━━━━━━━━━━\u001b[0m\u001b[37m\u001b[0m \u001b[1m1s\u001b[0m 2ms/step - RootMeanSquaredError: 163875.5781 - loss: 26868539392.0000 - val_RootMeanSquaredError: 164301.1875 - val_loss: 26994882560.0000\n",
      "Epoch 29/30\n",
      "\u001b[1m465/465\u001b[0m \u001b[32m━━━━━━━━━━━━━━━━━━━━\u001b[0m\u001b[37m\u001b[0m \u001b[1m1s\u001b[0m 2ms/step - RootMeanSquaredError: 165656.2656 - loss: 27448373248.0000 - val_RootMeanSquaredError: 164256.5781 - val_loss: 26980225024.0000\n",
      "Epoch 30/30\n",
      "\u001b[1m465/465\u001b[0m \u001b[32m━━━━━━━━━━━━━━━━━━━━\u001b[0m\u001b[37m\u001b[0m \u001b[1m1s\u001b[0m 2ms/step - RootMeanSquaredError: 166277.7656 - loss: 27654144000.0000 - val_RootMeanSquaredError: 164221.3906 - val_loss: 26968664064.0000\n"
     ]
    },
    {
     "data": {
      "text/plain": [
       "<keras.src.callbacks.history.History at 0x24bd9d16650>"
      ]
     },
     "execution_count": 16,
     "metadata": {},
     "output_type": "execute_result"
    }
   ],
   "source": [
    "input_deep = tf.keras.layers.Input(shape=[6, ])\n",
    "input_wide = tf.keras.layers.Input(shape=[4, ])\n",
    "\n",
    "norm_deep = tf.keras.layers.Normalization()(input_deep)\n",
    "norm_wide = tf.keras.layers.Normalization()(input_wide)\n",
    "norm_wide = tf.keras.layers.Dense(100, activation='relu')(norm_wide)\n",
    "\n",
    "hidden1 = tf.keras.layers.Dense(300, activation='relu')(input_deep)\n",
    "hidden2 = tf.keras.layers.Dense(200, activation='relu')(hidden1)\n",
    "hidden3 = tf.keras.layers.Dense(100, activation='relu')(hidden2)\n",
    "\n",
    "concat = tf.keras.layers.concatenate([norm_wide, hidden3])\n",
    "\n",
    "output = tf.keras.layers.Dense(1)(concat)\n",
    "\n",
    "model = tf.keras.Model(inputs=[input_wide, input_deep], outputs=[output])\n",
    "\n",
    "optimizer = tf.keras.optimizers.Adam(learning_rate=1e-5)\n",
    "\n",
    "model.compile(optimizer=optimizer,\n",
    "             loss=\"mse\",\n",
    "             metrics=[\"RootMeanSquaredError\"])\n",
    "\n",
    "model.fit((X_train[:, :4], X_train[:, 2:]), y_train, epochs=30,\n",
    "         validation_data = ((X_val[:, :4], X_val[:, 2:]), y_val))"
   ]
  },
  {
   "cell_type": "code",
   "execution_count": null,
   "id": "119dc4b6-1d5e-428d-8679-d9dc6f2d0914",
   "metadata": {},
   "outputs": [],
   "source": []
  }
 ],
 "metadata": {
  "kernelspec": {
   "display_name": "Python 3 (ipykernel)",
   "language": "python",
   "name": "python3"
  },
  "language_info": {
   "codemirror_mode": {
    "name": "ipython",
    "version": 3
   },
   "file_extension": ".py",
   "mimetype": "text/x-python",
   "name": "python",
   "nbconvert_exporter": "python",
   "pygments_lexer": "ipython3",
   "version": "3.11.7"
  }
 },
 "nbformat": 4,
 "nbformat_minor": 5
}
