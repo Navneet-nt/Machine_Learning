{
 "cells": [
  {
   "cell_type": "code",
   "execution_count": 1,
   "id": "9f98a6b1-20d4-4922-a02a-589372c9f93c",
   "metadata": {},
   "outputs": [],
   "source": [
    "from pathlib import Path"
   ]
  },
  {
   "cell_type": "code",
   "execution_count": 2,
   "id": "0faf4013-fd6e-47bf-ab87-1b067e1dc0de",
   "metadata": {},
   "outputs": [],
   "source": [
    "# !dir"
   ]
  },
  {
   "cell_type": "code",
   "execution_count": 3,
   "id": "4ac7ebd9-8236-410a-8c17-223c0dc0df0d",
   "metadata": {},
   "outputs": [
    {
     "name": "stdout",
     "output_type": "stream",
     "text": [
      "C:\\Users\\Dell\n"
     ]
    }
   ],
   "source": [
    "cd"
   ]
  },
  {
   "cell_type": "code",
   "execution_count": 4,
   "id": "ab8ac65e-3d7f-426c-afc9-07c673b2d208",
   "metadata": {},
   "outputs": [
    {
     "name": "stdout",
     "output_type": "stream",
     "text": [
      " Volume in drive C is OS\n",
      " Volume Serial Number is 38C8-8BCD\n",
      "\n",
      " Directory of C:\\Users\\Dell\\class_July\\sms+spam+collection\n",
      "\n",
      "08/21/2024  12:19 PM    <DIR>          .\n",
      "08/23/2024  09:07 PM    <DIR>          ..\n",
      "08/21/2024  12:12 PM             5,868 readme\n",
      "08/21/2024  12:12 PM           477,907 SMSSpamCollection\n",
      "               2 File(s)        483,775 bytes\n",
      "               2 Dir(s)  293,752,897,536 bytes free\n"
     ]
    }
   ],
   "source": [
    "!dir class_July\\sms+spam+collection\\"
   ]
  },
  {
   "cell_type": "code",
   "execution_count": 5,
   "id": "f7e0764c-2a1e-4cab-b785-8a6114b03bda",
   "metadata": {
    "scrolled": true
   },
   "outputs": [
    {
     "name": "stdout",
     "output_type": "stream",
     "text": [
      "SMS Spam Collection v.1\n",
      "-------------------------\n",
      "\n",
      "1. DESCRIPTION\n",
      "--------------\n",
      "\n",
      "The SMS Spam Collection v.1 (hereafter the corpus) is a set of SMS tagged messages that have been collected for SMS Spam research. It contains one set of SMS messages in English of 5,574 messages, tagged acording being ham (legitimate) or spam. \n",
      "\n",
      "1.1. Compilation\n",
      "----------------\n",
      "\n",
      "This corpus has been collected from free or free for research sources at the Web:\n",
      "\n",
      "- A collection of between 425 SMS spam messages extracted manually from the Grumbletext Web site. This is a UK forum in which cell phone users make public claims about SMS spam messages, most of them without reporting the very spam message received. The identification of the text of spam messages in the claims is a very hard and time-consuming task, and it involved carefully scanning hundreds of web pages. The Grumbletext Web site is: http://www.grumbletext.co.uk/\n",
      "- A list of 450 SMS ham messages collected from Caroline Tag's PhD Theses available at http://etheses.bham.ac.uk/253/1/Tagg09PhD.pdf\n",
      "- A subset of 3,375 SMS ham messages of the NUS SMS Corpus (NSC), which is a corpus of about 10,000 legitimate messages collected for research at the Department of Computer Science at the National University of Singapore. The messages largely originate from Singaporeans and mostly from students attending the University. These messages were collected from volunteers who were made aware that their contributions were going to be made publicly available. The NUS SMS Corpus is avalaible at: http://www.comp.nus.edu.sg/~rpnlpir/downloads/corpora/smsCorpus/\n",
      "- The amount of 1,002 SMS ham messages and 322 spam messages extracted from the SMS Spam Corpus v.0.1 Big created by José María Gómez Hidalgo and public available at: http://www.esp.uem.es/jmgomez/smsspamcorpus/\n",
      "\n",
      "\n",
      "1.2. Statistics\n",
      "---------------\n",
      "\n",
      "There is one collection:\n",
      "\n",
      "- The SMS Spam Collection v.1 (text file: smsspamcollection) has a total of 4,827 SMS legitimate messages (86.6%) and a total of 747 (13.4%) spam messages.\n",
      "\n",
      "\n",
      "1.3. Format\n",
      "-----------\n",
      "\n",
      "The files contain one message per line. Each line is composed by two columns: one with label (ham or spam) and other with the raw text. Here are some examples:\n",
      "\n",
      "ham   What you doing?how are you?\n",
      "ham   Ok lar... Joking wif u oni...\n",
      "ham   dun say so early hor... U c already then say...\n",
      "ham   MY NO. IN LUTON 0125698789 RING ME IF UR AROUND! H*\n",
      "ham   Siva is in hostel aha:-.\n",
      "ham   Cos i was out shopping wif darren jus now n i called him 2 ask wat present he wan lor. Then he started guessing who i was wif n he finally guessed darren lor.\n",
      "spam   FreeMsg: Txt: CALL to No: 86888 & claim your reward of 3 hours talk time to use from your phone now! ubscribe6GBP/ mnth inc 3hrs 16 stop?txtStop\n",
      "spam   Sunshine Quiz! Win a super Sony DVD recorder if you canname the capital of Australia? Text MQUIZ to 82277. B\n",
      "spam   URGENT! Your Mobile No 07808726822 was awarded a L2,000 Bonus Caller Prize on 02/09/03! This is our 2nd attempt to contact YOU! Call 0871-872-9758 BOX95QU\n",
      "\n",
      "Note: messages are not chronologically sorted.\n",
      "\n",
      "\n",
      "2. USAGE\n",
      "--------\n",
      "\n",
      "We offer a comprehensive study of this corpus in the following paper that is under review. This work presents a number of statistics, studies and baseline results for several machine learning methods.\n",
      "\n",
      "[1] Almeida, T.A., Gómez Hidalgo, J.M., Yamakami, A. Contributions to the study of SMS Spam Filtering: New Collection and Results. Proceedings of the 2011 ACM Symposium on Document Engineering (ACM DOCENG'11), Mountain View, CA, USA, 2011. (Under review)\n",
      "\n",
      "\n",
      "3. ABOUT\n",
      "--------\n",
      "\n",
      "The corpus has been collected by Tiago Agostinho de Almeida (http://www.dt.fee.unicamp.br/~tiago) and José María Gómez Hidalgo (http://www.esp.uem.es/jmgomez).\n",
      "\n",
      "We would like to thank Dr. Min-Yen Kan (http://www.comp.nus.edu.sg/~kanmy/) and his team for making the NUS SMS Corpus available. See: http://www.comp.nus.edu.sg/~rpnlpir/downloads/corpora/smsCorpus/. He is currently collecting a bigger SMS corpus at: http://wing.comp.nus.edu.sg:8080/SMSCorpus/\n",
      "\n",
      "4. LICENSE/DISCLAIMER\n",
      "---------------------\n",
      "\n",
      "We would appreciate if:\n",
      "\n",
      "- In case you find this corpus useful, please make a reference to previous paper and the web page: http://www.dt.fee.unicamp.br/~tiago/smsspamcollection/ in your papers, research, etc.\n",
      "- Send us a message to tiago@dt.fee.unicamp.br in case you make use of the corpus.\n",
      "\n",
      "The SMS Spam Collection v.1 is provided for free and with no limitations excepting:\n",
      "\n",
      "1. Tiago Agostinho de Almeida and José María Gómez Hidalgo hold the copyrigth (c) for the SMS Spam Collection v.1.\n",
      "\n",
      "2. No Warranty/Use At Your Risk. THE CORPUS IS MADE AT NO CHARGE. ACCORDINGLY, THE CORPUS IS PROVIDED `AS IS,' WITHOUT WARRANTY OF ANY KIND, INCLUDING WITHOUT LIMITATION THE WARRANTIES THAT THEY ARE MERCHANTABLE, FIT FOR A PARTICULAR PURPOSE OR NON-INFRINGING. YOU ARE SOLELY RESPONSIBLE FOR YOUR USE, DISTRIBUTION, MODIFICATION, REPRODUCTION AND PUBLICATION OF THE CORPUS AND ANY DERIVATIVE WORKS THEREOF BY YOU AND ANY OF YOUR SUBLICENSEES (COLLECTIVELY, `YOUR CORPUS USE'). THE ENTIRE RISK AS TO YOUR CORPUS USE IS BORNE BY YOU. YOU AGREE TO INDEMNIFY AND HOLD THE COPYRIGHT HOLDERS, AND THEIR AFFILIATES HARMLESS FROM ANY CLAIMS ARISING FROM OR RELATING TO YOUR CORPUS USE.\n",
      "\n",
      "3. Limitation of Liability. IN NO EVENT SHALL THE COPYRIGHT HOLDERS OR THEIR AFFILIATES, OR THE CORPUS CONTRIBUTING EDITORS, BE LIABLE FOR ANY INDIRECT, SPECIAL, INCIDENTAL OR CONSEQUENTIAL DAMAGES, INCLUDING, WITHOUT LIMITATION, DAMAGES FOR LOSS OF GOODWILL OR ANY AND ALL OTHER COMMERCIAL DAMAGES OR LOSSES, EVEN IF ADVISED OF THE POSSIBILITY THEREOF, AND REGARDLESS OF WHETHER ANY CLAIM IS BASED UPON ANY CONTRACT, TORT OR OTHER LEGAL OR EQUITABLE THEORY, RELATING OR ARISING FROM THE CORPUS, YOUR CORPUS USE OR THIS LICENSE AGREEMENT.\n"
     ]
    }
   ],
   "source": [
    "!type class_July\\sms+spam+collection\\readme"
   ]
  },
  {
   "cell_type": "code",
   "execution_count": 6,
   "id": "a5b15994-1f76-4816-a5e9-e86456c5d50d",
   "metadata": {},
   "outputs": [],
   "source": [
    "dir_path = Path('class_July/sms+spam+collection')\n",
    "\n",
    "file_path = dir_path / 'SMSSpamCollection'"
   ]
  },
  {
   "cell_type": "code",
   "execution_count": 7,
   "id": "c53b9982-98b9-4133-b867-4954ec7b09bb",
   "metadata": {},
   "outputs": [],
   "source": [
    "import pandas as pd"
   ]
  },
  {
   "cell_type": "code",
   "execution_count": 8,
   "id": "df5014b7-b541-4b68-8289-a135092d688e",
   "metadata": {},
   "outputs": [],
   "source": [
    "df = pd.read_csv(file_path, sep='\\t', header=None)\n",
    "df.columns = [\"class\", \"message\"]"
   ]
  },
  {
   "cell_type": "code",
   "execution_count": 9,
   "id": "7c35a19b-6fc7-4542-8817-94e30bd299fc",
   "metadata": {},
   "outputs": [
    {
     "data": {
      "text/html": [
       "<div>\n",
       "<style scoped>\n",
       "    .dataframe tbody tr th:only-of-type {\n",
       "        vertical-align: middle;\n",
       "    }\n",
       "\n",
       "    .dataframe tbody tr th {\n",
       "        vertical-align: top;\n",
       "    }\n",
       "\n",
       "    .dataframe thead th {\n",
       "        text-align: right;\n",
       "    }\n",
       "</style>\n",
       "<table border=\"1\" class=\"dataframe\">\n",
       "  <thead>\n",
       "    <tr style=\"text-align: right;\">\n",
       "      <th></th>\n",
       "      <th>class</th>\n",
       "      <th>message</th>\n",
       "    </tr>\n",
       "  </thead>\n",
       "  <tbody>\n",
       "    <tr>\n",
       "      <th>0</th>\n",
       "      <td>ham</td>\n",
       "      <td>Go until jurong point, crazy.. Available only ...</td>\n",
       "    </tr>\n",
       "    <tr>\n",
       "      <th>1</th>\n",
       "      <td>ham</td>\n",
       "      <td>Ok lar... Joking wif u oni...</td>\n",
       "    </tr>\n",
       "    <tr>\n",
       "      <th>2</th>\n",
       "      <td>spam</td>\n",
       "      <td>Free entry in 2 a wkly comp to win FA Cup fina...</td>\n",
       "    </tr>\n",
       "    <tr>\n",
       "      <th>3</th>\n",
       "      <td>ham</td>\n",
       "      <td>U dun say so early hor... U c already then say...</td>\n",
       "    </tr>\n",
       "    <tr>\n",
       "      <th>4</th>\n",
       "      <td>ham</td>\n",
       "      <td>Nah I don't think he goes to usf, he lives aro...</td>\n",
       "    </tr>\n",
       "  </tbody>\n",
       "</table>\n",
       "</div>"
      ],
      "text/plain": [
       "  class                                            message\n",
       "0   ham  Go until jurong point, crazy.. Available only ...\n",
       "1   ham                      Ok lar... Joking wif u oni...\n",
       "2  spam  Free entry in 2 a wkly comp to win FA Cup fina...\n",
       "3   ham  U dun say so early hor... U c already then say...\n",
       "4   ham  Nah I don't think he goes to usf, he lives aro..."
      ]
     },
     "execution_count": 9,
     "metadata": {},
     "output_type": "execute_result"
    }
   ],
   "source": [
    "df.head()"
   ]
  },
  {
   "cell_type": "markdown",
   "id": "cbd31bee-16ae-4571-a609-144c94701ef2",
   "metadata": {},
   "source": [
    "## EDA"
   ]
  },
  {
   "cell_type": "code",
   "execution_count": 10,
   "id": "e128e958-07ea-4728-8066-dd2ba4b02962",
   "metadata": {},
   "outputs": [
    {
     "name": "stdout",
     "output_type": "stream",
     "text": [
      "ham spam\n"
     ]
    }
   ],
   "source": [
    "print(*(df['class'].unique()))"
   ]
  },
  {
   "cell_type": "code",
   "execution_count": 11,
   "id": "5919a45b-65f0-41fc-92f3-ead5f5675778",
   "metadata": {},
   "outputs": [
    {
     "data": {
      "text/plain": [
       "class\n",
       "ham     4825\n",
       "spam     747\n",
       "Name: count, dtype: int64"
      ]
     },
     "execution_count": 11,
     "metadata": {},
     "output_type": "execute_result"
    }
   ],
   "source": [
    "df['class'].value_counts()"
   ]
  },
  {
   "cell_type": "markdown",
   "id": "9635d5df-e7f6-4396-a37c-fb94f65b7061",
   "metadata": {},
   "source": [
    "By dividing df['class'].value_counts() by df.shape[0], you are normalizing the counts by the total number of rows.\n",
    "\n",
    "This gives the proportion of each class relative to the entire DataFrame, effectively showing the distribution of classes."
   ]
  },
  {
   "cell_type": "code",
   "execution_count": 12,
   "id": "2e6dd3d8-d847-4f3a-852e-ac5d39b47346",
   "metadata": {},
   "outputs": [
    {
     "data": {
      "text/plain": [
       "class\n",
       "ham     0.865937\n",
       "spam    0.134063\n",
       "Name: count, dtype: float64"
      ]
     },
     "execution_count": 12,
     "metadata": {},
     "output_type": "execute_result"
    }
   ],
   "source": [
    "(df['class'].value_counts()) / df.shape[0]"
   ]
  },
  {
   "cell_type": "markdown",
   "id": "4bcfd625-e83e-4f38-b061-79ab4ad26e26",
   "metadata": {},
   "source": [
    "* SMOTE (Synthetic Minority Over-sampling Technique)"
   ]
  },
  {
   "cell_type": "markdown",
   "id": "29a48c15-41ac-4af0-826d-760298831dbb",
   "metadata": {},
   "source": [
    "##### EDA -> do it by yourself"
   ]
  },
  {
   "cell_type": "code",
   "execution_count": 13,
   "id": "15ca8d04-b1eb-4e84-9816-66c7f6f9d5e3",
   "metadata": {},
   "outputs": [
    {
     "data": {
      "text/html": [
       "<div>\n",
       "<style scoped>\n",
       "    .dataframe tbody tr th:only-of-type {\n",
       "        vertical-align: middle;\n",
       "    }\n",
       "\n",
       "    .dataframe tbody tr th {\n",
       "        vertical-align: top;\n",
       "    }\n",
       "\n",
       "    .dataframe thead th {\n",
       "        text-align: right;\n",
       "    }\n",
       "</style>\n",
       "<table border=\"1\" class=\"dataframe\">\n",
       "  <thead>\n",
       "    <tr style=\"text-align: right;\">\n",
       "      <th></th>\n",
       "      <th>class</th>\n",
       "      <th>message</th>\n",
       "    </tr>\n",
       "  </thead>\n",
       "  <tbody>\n",
       "    <tr>\n",
       "      <th>0</th>\n",
       "      <td>ham</td>\n",
       "      <td>Go until jurong point, crazy.. Available only ...</td>\n",
       "    </tr>\n",
       "    <tr>\n",
       "      <th>1</th>\n",
       "      <td>ham</td>\n",
       "      <td>Ok lar... Joking wif u oni...</td>\n",
       "    </tr>\n",
       "    <tr>\n",
       "      <th>2</th>\n",
       "      <td>spam</td>\n",
       "      <td>Free entry in 2 a wkly comp to win FA Cup fina...</td>\n",
       "    </tr>\n",
       "  </tbody>\n",
       "</table>\n",
       "</div>"
      ],
      "text/plain": [
       "  class                                            message\n",
       "0   ham  Go until jurong point, crazy.. Available only ...\n",
       "1   ham                      Ok lar... Joking wif u oni...\n",
       "2  spam  Free entry in 2 a wkly comp to win FA Cup fina..."
      ]
     },
     "execution_count": 13,
     "metadata": {},
     "output_type": "execute_result"
    }
   ],
   "source": [
    "df.head(3)"
   ]
  },
  {
   "cell_type": "code",
   "execution_count": 14,
   "id": "f93f2586-2ca2-422e-a863-f65284055d30",
   "metadata": {},
   "outputs": [],
   "source": [
    "df['message'] = df['message'].apply(lambda m: m.strip().lower())"
   ]
  },
  {
   "cell_type": "code",
   "execution_count": 15,
   "id": "9f3886d4-4eb9-441c-9d67-2c0580f5361d",
   "metadata": {},
   "outputs": [
    {
     "data": {
      "text/html": [
       "<div>\n",
       "<style scoped>\n",
       "    .dataframe tbody tr th:only-of-type {\n",
       "        vertical-align: middle;\n",
       "    }\n",
       "\n",
       "    .dataframe tbody tr th {\n",
       "        vertical-align: top;\n",
       "    }\n",
       "\n",
       "    .dataframe thead th {\n",
       "        text-align: right;\n",
       "    }\n",
       "</style>\n",
       "<table border=\"1\" class=\"dataframe\">\n",
       "  <thead>\n",
       "    <tr style=\"text-align: right;\">\n",
       "      <th></th>\n",
       "      <th>class</th>\n",
       "      <th>message</th>\n",
       "    </tr>\n",
       "  </thead>\n",
       "  <tbody>\n",
       "    <tr>\n",
       "      <th>0</th>\n",
       "      <td>ham</td>\n",
       "      <td>go until jurong point, crazy.. available only ...</td>\n",
       "    </tr>\n",
       "    <tr>\n",
       "      <th>1</th>\n",
       "      <td>ham</td>\n",
       "      <td>ok lar... joking wif u oni...</td>\n",
       "    </tr>\n",
       "  </tbody>\n",
       "</table>\n",
       "</div>"
      ],
      "text/plain": [
       "  class                                            message\n",
       "0   ham  go until jurong point, crazy.. available only ...\n",
       "1   ham                      ok lar... joking wif u oni..."
      ]
     },
     "execution_count": 15,
     "metadata": {},
     "output_type": "execute_result"
    }
   ],
   "source": [
    "df.head(2)"
   ]
  },
  {
   "cell_type": "markdown",
   "id": "03256269-0541-4796-bbff-bd998fd7d725",
   "metadata": {},
   "source": [
    "we cannot give message to machine learning model so convert,\n",
    "\n",
    "text -> 2D numerical data"
   ]
  },
  {
   "cell_type": "markdown",
   "id": "b327f073-5757-4e30-b72a-18c04bbe592d",
   "metadata": {},
   "source": [
    "## NLP"
   ]
  },
  {
   "cell_type": "markdown",
   "id": "5ce7f32a-9332-4eb6-b350-469976fbb38f",
   "metadata": {},
   "source": [
    "        Stop Words Remove\n",
    "\n",
    "        Stemming\n",
    "\n",
    "        Vectorization - TF/IDF"
   ]
  },
  {
   "cell_type": "markdown",
   "id": "763150cd-512d-412b-8e4a-4a0bfa1e0417",
   "metadata": {},
   "source": [
    "* Stop Words\n",
    "\n",
    "        helping verbs -> is, are, was, were, .....\n",
    "\n",
    "        common words -> the, it, they, you, ....."
   ]
  },
  {
   "cell_type": "code",
   "execution_count": 16,
   "id": "f023c766-611f-470c-b7f5-10a5ee759ff3",
   "metadata": {},
   "outputs": [],
   "source": [
    "import matplotlib.pyplot as plt"
   ]
  },
  {
   "cell_type": "code",
   "execution_count": 17,
   "id": "4058f3e2-709e-409d-bc44-64b7ce25a262",
   "metadata": {},
   "outputs": [],
   "source": [
    "import nltk"
   ]
  },
  {
   "cell_type": "code",
   "execution_count": 18,
   "id": "302cdff3-bec9-49b7-a0b3-2cd9cd1091ce",
   "metadata": {},
   "outputs": [
    {
     "name": "stderr",
     "output_type": "stream",
     "text": [
      "[nltk_data] Downloading package stopwords to\n",
      "[nltk_data]     C:\\Users\\Dell\\AppData\\Roaming\\nltk_data...\n",
      "[nltk_data]   Package stopwords is already up-to-date!\n"
     ]
    },
    {
     "data": {
      "text/plain": [
       "True"
      ]
     },
     "execution_count": 18,
     "metadata": {},
     "output_type": "execute_result"
    }
   ],
   "source": [
    "nltk.download('stopwords')"
   ]
  },
  {
   "cell_type": "code",
   "execution_count": 19,
   "id": "15009b7b-f064-4086-b0b2-2b5a53f331b6",
   "metadata": {},
   "outputs": [],
   "source": [
    "from nltk.corpus import stopwords"
   ]
  },
  {
   "cell_type": "code",
   "execution_count": 20,
   "id": "500c2f09-1928-487e-8c66-bbed7bd33643",
   "metadata": {},
   "outputs": [],
   "source": [
    "stop_words = stopwords.words('english')"
   ]
  },
  {
   "cell_type": "code",
   "execution_count": 21,
   "id": "3e6c97d8-de01-4988-bfe7-f3c8fd4a51b2",
   "metadata": {},
   "outputs": [],
   "source": [
    "def get_words(df):\n",
    "    words = []\n",
    "    for msg in df['message'].values:\n",
    "        words.extend(msg.split()) # \"[\"hello\", \"world\", \"this\", \"is\", \"awesome\"] \n",
    "    return words"
   ]
  },
  {
   "cell_type": "code",
   "execution_count": 22,
   "id": "011a1b48-46f7-4916-bc1b-0325be7773d1",
   "metadata": {},
   "outputs": [],
   "source": [
    "ix = df.groupby('class').groups['ham']\n",
    "ham_df = df.loc[ix]\n",
    "ix = df.groupby('class').groups['spam']\n",
    "spam_df = df.loc[ix]"
   ]
  },
  {
   "cell_type": "code",
   "execution_count": 23,
   "id": "deab5027-3f77-468f-80c4-7670e2f88c71",
   "metadata": {},
   "outputs": [
    {
     "data": {
      "text/html": [
       "<div>\n",
       "<style scoped>\n",
       "    .dataframe tbody tr th:only-of-type {\n",
       "        vertical-align: middle;\n",
       "    }\n",
       "\n",
       "    .dataframe tbody tr th {\n",
       "        vertical-align: top;\n",
       "    }\n",
       "\n",
       "    .dataframe thead th {\n",
       "        text-align: right;\n",
       "    }\n",
       "</style>\n",
       "<table border=\"1\" class=\"dataframe\">\n",
       "  <thead>\n",
       "    <tr style=\"text-align: right;\">\n",
       "      <th></th>\n",
       "      <th>class</th>\n",
       "      <th>message</th>\n",
       "    </tr>\n",
       "  </thead>\n",
       "  <tbody>\n",
       "    <tr>\n",
       "      <th>0</th>\n",
       "      <td>ham</td>\n",
       "      <td>go until jurong point, crazy.. available only ...</td>\n",
       "    </tr>\n",
       "    <tr>\n",
       "      <th>1</th>\n",
       "      <td>ham</td>\n",
       "      <td>ok lar... joking wif u oni...</td>\n",
       "    </tr>\n",
       "  </tbody>\n",
       "</table>\n",
       "</div>"
      ],
      "text/plain": [
       "  class                                            message\n",
       "0   ham  go until jurong point, crazy.. available only ...\n",
       "1   ham                      ok lar... joking wif u oni..."
      ]
     },
     "execution_count": 23,
     "metadata": {},
     "output_type": "execute_result"
    }
   ],
   "source": [
    "ham_df.head(2)"
   ]
  },
  {
   "cell_type": "code",
   "execution_count": 24,
   "id": "e0050780-34b0-4b58-ab78-d6cd291a2a1d",
   "metadata": {},
   "outputs": [
    {
     "data": {
      "text/html": [
       "<div>\n",
       "<style scoped>\n",
       "    .dataframe tbody tr th:only-of-type {\n",
       "        vertical-align: middle;\n",
       "    }\n",
       "\n",
       "    .dataframe tbody tr th {\n",
       "        vertical-align: top;\n",
       "    }\n",
       "\n",
       "    .dataframe thead th {\n",
       "        text-align: right;\n",
       "    }\n",
       "</style>\n",
       "<table border=\"1\" class=\"dataframe\">\n",
       "  <thead>\n",
       "    <tr style=\"text-align: right;\">\n",
       "      <th></th>\n",
       "      <th>class</th>\n",
       "      <th>message</th>\n",
       "    </tr>\n",
       "  </thead>\n",
       "  <tbody>\n",
       "    <tr>\n",
       "      <th>2</th>\n",
       "      <td>spam</td>\n",
       "      <td>free entry in 2 a wkly comp to win fa cup fina...</td>\n",
       "    </tr>\n",
       "    <tr>\n",
       "      <th>5</th>\n",
       "      <td>spam</td>\n",
       "      <td>freemsg hey there darling it's been 3 week's n...</td>\n",
       "    </tr>\n",
       "  </tbody>\n",
       "</table>\n",
       "</div>"
      ],
      "text/plain": [
       "  class                                            message\n",
       "2  spam  free entry in 2 a wkly comp to win fa cup fina...\n",
       "5  spam  freemsg hey there darling it's been 3 week's n..."
      ]
     },
     "execution_count": 24,
     "metadata": {},
     "output_type": "execute_result"
    }
   ],
   "source": [
    "spam_df.head(2)"
   ]
  },
  {
   "cell_type": "code",
   "execution_count": 25,
   "id": "42ed8b11-001c-4fc6-a15a-1d138cd4a0e8",
   "metadata": {},
   "outputs": [
    {
     "data": {
      "image/png": "[encoded data removed]",
      "text/plain": [
       "<Figure size 1200x600 with 1 Axes>"
      ]
     },
     "metadata": {},
     "output_type": "display_data"
    },
    {
     "data": {
      "image/png": "[encoded data removed]",
      "text/plain": [
       "<Figure size 1200x600 with 1 Axes>"
      ]
     },
     "metadata": {},
     "output_type": "display_data"
    }
   ],
   "source": [
    "ham_words = get_words(ham_df)\n",
    "spam_words = get_words(spam_df)\n",
    "\n",
    "plt.figure(figsize=(12,6))\n",
    "(pd.Series(ham_words).value_counts().sort_values(ascending=False)[:50]/len(ham_words)).plot(kind='bar')\n",
    "# we convert it to series so that we can use value_counts()\n",
    "plt.title('HAM')\n",
    "plt.show()\n",
    "\n",
    "plt.figure(figsize=(12,6))\n",
    "(pd.Series(spam_words).value_counts().sort_values(ascending=False)[:50]/len(spam_words)).plot(kind='bar')\n",
    "# we convert it to series so that we can use value_counts()\n",
    "plt.title('spam')\n",
    "plt.show()"
   ]
  },
  {
   "cell_type": "code",
   "execution_count": 26,
   "id": "ff7914ea-3116-47a6-b5d3-e209ca76dd83",
   "metadata": {},
   "outputs": [
    {
     "data": {
      "image/png": "[encoded data removed]",
      "text/plain": [
       "<Figure size 1200x800 with 1 Axes>"
      ]
     },
     "metadata": {},
     "output_type": "display_data"
    }
   ],
   "source": [
    "words = []\n",
    "for msg in df['message'].values:\n",
    "    words.extend(msg.split()) # [\"hello\", \"world\", \"this\", \"is\", \"awesome\"]\n",
    "\n",
    "plt.figure(figsize=(12,8))\n",
    "pd.Series(words).value_counts().sort_values(ascending=False)[:50].plot(kind='bar')\n",
    "# we convert it to series so that we can use value_counts()\n",
    "plt.show()"
   ]
  },
  {
   "cell_type": "markdown",
   "id": "ecf711f2-f156-486b-9985-9a57194dbcd0",
   "metadata": {},
   "source": [
    "text -> 2D(vector)\n",
    "\n",
    "    each column represents a word"
   ]
  },
  {
   "cell_type": "code",
   "execution_count": 27,
   "id": "fcfe445e-3dd5-46b6-bccf-d96680ccf9c2",
   "metadata": {},
   "outputs": [],
   "source": [
    "custom_stopwords = [\n",
    "    \"to\", \"i\", \"you\", \"a\", \"the\", \"u\", \"and\", \"is\", \"in\", \"my\", \"for\",\n",
    "]  # get through EDA"
   ]
  },
  {
   "cell_type": "code",
   "execution_count": 28,
   "id": "95202a76-ee70-438b-b9d4-fa7f625ac8cb",
   "metadata": {
    "scrolled": true
   },
   "outputs": [],
   "source": [
    "stop_words.extend(custom_stopwords)"
   ]
  },
  {
   "cell_type": "code",
   "execution_count": 29,
   "id": "8ae55b2f-60a7-402d-8d31-8de4484ac305",
   "metadata": {
    "scrolled": true
   },
   "outputs": [
    {
     "name": "stdout",
     "output_type": "stream",
     "text": [
      "['i', 'me', 'my', 'myself', 'we', 'our', 'ours', 'ourselves', 'you', \"you're\", \"you've\", \"you'll\", \"you'd\", 'your', 'yours', 'yourself', 'yourselves', 'he', 'him', 'his', 'himself', 'she', \"she's\", 'her', 'hers', 'herself', 'it', \"it's\", 'its', 'itself', 'they', 'them', 'their', 'theirs', 'themselves', 'what', 'which', 'who', 'whom', 'this', 'that', \"that'll\", 'these', 'those', 'am', 'is', 'are', 'was', 'were', 'be', 'been', 'being', 'have', 'has', 'had', 'having', 'do', 'does', 'did', 'doing', 'a', 'an', 'the', 'and', 'but', 'if', 'or', 'because', 'as', 'until', 'while', 'of', 'at', 'by', 'for', 'with', 'about', 'against', 'between', 'into', 'through', 'during', 'before', 'after', 'above', 'below', 'to', 'from', 'up', 'down', 'in', 'out', 'on', 'off', 'over', 'under', 'again', 'further', 'then', 'once', 'here', 'there', 'when', 'where', 'why', 'how', 'all', 'any', 'both', 'each', 'few', 'more', 'most', 'other', 'some', 'such', 'no', 'nor', 'not', 'only', 'own', 'same', 'so', 'than', 'too', 'very', 's', 't', 'can', 'will', 'just', 'don', \"don't\", 'should', \"should've\", 'now', 'd', 'll', 'm', 'o', 're', 've', 'y', 'ain', 'aren', \"aren't\", 'couldn', \"couldn't\", 'didn', \"didn't\", 'doesn', \"doesn't\", 'hadn', \"hadn't\", 'hasn', \"hasn't\", 'haven', \"haven't\", 'isn', \"isn't\", 'ma', 'mightn', \"mightn't\", 'mustn', \"mustn't\", 'needn', \"needn't\", 'shan', \"shan't\", 'shouldn', \"shouldn't\", 'wasn', \"wasn't\", 'weren', \"weren't\", 'won', \"won't\", 'wouldn', \"wouldn't\", 'to', 'i', 'you', 'a', 'the', 'u', 'and', 'is', 'in', 'my', 'for']\n"
     ]
    }
   ],
   "source": [
    "print(stop_words)"
   ]
  },
  {
   "cell_type": "code",
   "execution_count": 30,
   "id": "80dcad85-447c-477c-95c4-502741323455",
   "metadata": {},
   "outputs": [],
   "source": [
    "def remove_stopwords(message):\n",
    "    global stop_words\n",
    "    result = []\n",
    "    for word in message.split():\n",
    "        if word.lower().strip() not in stop_words:\n",
    "            result.append(word)\n",
    "    return \" \".join(result)"
   ]
  },
  {
   "cell_type": "code",
   "execution_count": 31,
   "id": "323fab2a-cf4d-4653-bcfa-cc9eb417589d",
   "metadata": {},
   "outputs": [],
   "source": [
    "stop_words.extend(['good', 'everyone', \"dosen't\"])"
   ]
  },
  {
   "cell_type": "code",
   "execution_count": 32,
   "id": "1b1e03c2-a003-4545-a005-ce3d450af6b1",
   "metadata": {},
   "outputs": [],
   "source": [
    "m = \"hello this is awesome I am good you are good everyone is good it doesn't seems right\""
   ]
  },
  {
   "cell_type": "code",
   "execution_count": 33,
   "id": "9268af30-db70-49c4-b139-86bc252ed779",
   "metadata": {},
   "outputs": [
    {
     "data": {
      "text/plain": [
       "'hello awesome seems right'"
      ]
     },
     "execution_count": 33,
     "metadata": {},
     "output_type": "execute_result"
    }
   ],
   "source": [
    "remove_stopwords(m)"
   ]
  },
  {
   "cell_type": "markdown",
   "id": "0f12600d-23ea-4597-b111-c5ae80aea1ae",
   "metadata": {},
   "source": [
    "step 1> stop word removal\n",
    "\n",
    "step 2> stemming "
   ]
  },
  {
   "cell_type": "markdown",
   "id": "fe1008d7-58c3-4ebc-a88b-360254058ad7",
   "metadata": {},
   "source": [
    "    play plays playing played -> can be converted to play\n",
    "\n",
    "    word -> s, ing, ed       --> play\n",
    "\n",
    "    play is root word and finding root word from different similar words is called stemming"
   ]
  },
  {
   "cell_type": "markdown",
   "id": "e4d0a5f0-87cb-44f2-810f-77988b816f2f",
   "metadata": {},
   "source": [
    "    stemming -> Rule Based approach to convert a word into its root word without considering the context or grammer"
   ]
  },
  {
   "cell_type": "markdown",
   "id": "2a8c201e-c3f1-405b-9a7f-3e67999bfc2b",
   "metadata": {},
   "source": [
    "    Lemmatization -> it converts a word into it's root word but it always returns a english word also it contains linguastic rules to stem the word"
   ]
  },
  {
   "cell_type": "markdown",
   "id": "433a6f23-b9cc-40ff-8a41-7499536c9bdc",
   "metadata": {},
   "source": [
    "was   ->   be\n",
    "\n",
    "better   ->   good\n",
    "\n",
    "flew    ->    fly"
   ]
  },
  {
   "cell_type": "markdown",
   "id": "2dd36037-37a5-478b-bff4-f1b8cae8a55b",
   "metadata": {},
   "source": [
    "we do not directly remove words , we remove them by using their frequency\n",
    " frequency for ham = words occuring in ham/total occurence of that word in ham + spam"
   ]
  },
  {
   "cell_type": "markdown",
   "id": "bec0fa0f-1539-484b-822e-059c744a35cf",
   "metadata": {},
   "source": [
    "## NLP Expert"
   ]
  },
  {
   "cell_type": "markdown",
   "id": "d02a1c93-6db5-4e88-a3db-8d047f68c606",
   "metadata": {},
   "source": [
    "TF/IDF\n",
    "\n",
    "    Vector convert\n",
    "\n",
    "KMeans"
   ]
  },
  {
   "cell_type": "code",
   "execution_count": 34,
   "id": "b6fe4319-a616-467d-ad39-f436bfcbe1c3",
   "metadata": {},
   "outputs": [],
   "source": [
    "import numpy as np\n",
    "import pandas as pd \n",
    "import matplotlib.pyplot as plt"
   ]
  },
  {
   "cell_type": "code",
   "execution_count": 35,
   "id": "f96a0d50-72d2-4658-92dd-83b173efe7ba",
   "metadata": {},
   "outputs": [],
   "source": [
    "from nltk.stem import LancasterStemmer, SnowballStemmer, PorterStemmer, WordNetLemmatizer"
   ]
  },
  {
   "cell_type": "code",
   "execution_count": 36,
   "id": "4db4c8c5-49be-4b87-9dff-6932339bedde",
   "metadata": {},
   "outputs": [],
   "source": [
    "Stemmer = PorterStemmer()"
   ]
  },
  {
   "cell_type": "code",
   "execution_count": 37,
   "id": "4e5089c6-f9d7-4de5-950f-9610fd7d7054",
   "metadata": {},
   "outputs": [],
   "source": [
    "plurals = ['caresses', 'flies', 'dies', 'mules', 'denied',\n",
    "           'died', 'agreed', 'owned', 'humbled', 'sized', 'meeting',\n",
    "           'plotted', 'traditional']"
   ]
  },
  {
   "cell_type": "code",
   "execution_count": 38,
   "id": "ac3aa56f-4abc-4e97-b127-cbf0cd9eeb66",
   "metadata": {},
   "outputs": [
    {
     "name": "stdout",
     "output_type": "stream",
     "text": [
      "caress fli die mule deni die agre own humbl size meet plot tradit "
     ]
    }
   ],
   "source": [
    "for word in plurals:\n",
    "    print(Stemmer.stem(word), end = \" \")"
   ]
  },
  {
   "cell_type": "code",
   "execution_count": 39,
   "id": "1836624d-db1f-416a-98d2-e632fad7e610",
   "metadata": {},
   "outputs": [
    {
     "name": "stdout",
     "output_type": "stream",
     "text": [
      "caress fli die mule deni die agre own humbl size meet plot tradit "
     ]
    }
   ],
   "source": [
    "# snowball stemmer supports different languages and we can also pass custom tools to it\n",
    "for word in plurals:\n",
    "    print(SnowballStemmer('english').stem(word), end=\" \")"
   ]
  },
  {
   "cell_type": "code",
   "execution_count": 40,
   "id": "c1353d21-1b7d-48f3-bac6-8fcaf5d92ae5",
   "metadata": {},
   "outputs": [
    {
     "name": "stdout",
     "output_type": "stream",
     "text": [
      "caress fli die mul deny died agree own humbl siz meet plot tradit "
     ]
    }
   ],
   "source": [
    "for word in plurals:\n",
    "    print(LancasterStemmer().stem(word), end = \" \")"
   ]
  },
  {
   "cell_type": "code",
   "execution_count": 41,
   "id": "e87a0dc9-fa0a-4af4-ab88-0356888295c2",
   "metadata": {},
   "outputs": [],
   "source": [
    "# vecctorization\n",
    "from sklearn.feature_extraction.text import CountVectorizer"
   ]
  },
  {
   "cell_type": "markdown",
   "id": "484d1fce-4fb9-4504-825e-8cbb7a4f71a5",
   "metadata": {},
   "source": [
    "term frequency = number of times a word has repeated"
   ]
  },
  {
   "cell_type": "code",
   "execution_count": 42,
   "id": "844d2079-a4a2-4d37-9411-0297f4d8186d",
   "metadata": {},
   "outputs": [],
   "source": [
    "documents = [\n",
    "    \"sachin good cricket\",\n",
    "    \"dhoni good cricket\",\n",
    "    \"virat face cricket right now\"\n",
    "]"
   ]
  },
  {
   "cell_type": "code",
   "execution_count": 43,
   "id": "16c1b230-74d6-420a-8891-0a64a1d44bda",
   "metadata": {},
   "outputs": [],
   "source": [
    "vector = CountVectorizer()"
   ]
  },
  {
   "cell_type": "code",
   "execution_count": 44,
   "id": "c0586950-57ba-4b7f-9c7f-f945506b78e7",
   "metadata": {},
   "outputs": [
    {
     "data": {
      "text/html": [
       "<style>#sk-container-id-1 {\n",
       "  /* Definition of color scheme common for light and dark mode */\n",
       "  --sklearn-color-text: black;\n",
       "  --sklearn-color-line: gray;\n",
       "  /* Definition of color scheme for unfitted estimators */\n",
       "  --sklearn-color-unfitted-level-0: #fff5e6;\n",
       "  --sklearn-color-unfitted-level-1: #f6e4d2;\n",
       "  --sklearn-color-unfitted-level-2: #ffe0b3;\n",
       "  --sklearn-color-unfitted-level-3: chocolate;\n",
       "  /* Definition of color scheme for fitted estimators */\n",
       "  --sklearn-color-fitted-level-0: #f0f8ff;\n",
       "  --sklearn-color-fitted-level-1: #d4ebff;\n",
       "  --sklearn-color-fitted-level-2: #b3dbfd;\n",
       "  --sklearn-color-fitted-level-3: cornflowerblue;\n",
       "\n",
       "  /* Specific color for light theme */\n",
       "  --sklearn-color-text-on-default-background: var(--sg-text-color, var(--theme-code-foreground, var(--jp-content-font-color1, black)));\n",
       "  --sklearn-color-background: var(--sg-background-color, var(--theme-background, var(--jp-layout-color0, white)));\n",
       "  --sklearn-color-border-box: var(--sg-text-color, var(--theme-code-foreground, var(--jp-content-font-color1, black)));\n",
       "  --sklearn-color-icon: #696969;\n",
       "\n",
       "  @media (prefers-color-scheme: dark) {\n",
       "    /* Redefinition of color scheme for dark theme */\n",
       "    --sklearn-color-text-on-default-background: var(--sg-text-color, var(--theme-code-foreground, var(--jp-content-font-color1, white)));\n",
       "    --sklearn-color-background: var(--sg-background-color, var(--theme-background, var(--jp-layout-color0, #111)));\n",
       "    --sklearn-color-border-box: var(--sg-text-color, var(--theme-code-foreground, var(--jp-content-font-color1, white)));\n",
       "    --sklearn-color-icon: #878787;\n",
       "  }\n",
       "}\n",
       "\n",
       "#sk-container-id-1 {\n",
       "  color: var(--sklearn-color-text);\n",
       "}\n",
       "\n",
       "#sk-container-id-1 pre {\n",
       "  padding: 0;\n",
       "}\n",
       "\n",
       "#sk-container-id-1 input.sk-hidden--visually {\n",
       "  border: 0;\n",
       "  clip: rect(1px 1px 1px 1px);\n",
       "  clip: rect(1px, 1px, 1px, 1px);\n",
       "  height: 1px;\n",
       "  margin: -1px;\n",
       "  overflow: hidden;\n",
       "  padding: 0;\n",
       "  position: absolute;\n",
       "  width: 1px;\n",
       "}\n",
       "\n",
       "#sk-container-id-1 div.sk-dashed-wrapped {\n",
       "  border: 1px dashed var(--sklearn-color-line);\n",
       "  margin: 0 0.4em 0.5em 0.4em;\n",
       "  box-sizing: border-box;\n",
       "  padding-bottom: 0.4em;\n",
       "  background-color: var(--sklearn-color-background);\n",
       "}\n",
       "\n",
       "#sk-container-id-1 div.sk-container {\n",
       "  /* jupyter's `normalize.less` sets `[hidden] { display: none; }`\n",
       "     but bootstrap.min.css set `[hidden] { display: none !important; }`\n",
       "     so we also need the `!important` here to be able to override the\n",
       "     default hidden behavior on the sphinx rendered scikit-learn.org.\n",
       "     See: https://github.com/scikit-learn/scikit-learn/issues/21755 */\n",
       "  display: inline-block !important;\n",
       "  position: relative;\n",
       "}\n",
       "\n",
       "#sk-container-id-1 div.sk-text-repr-fallback {\n",
       "  display: none;\n",
       "}\n",
       "\n",
       "div.sk-parallel-item,\n",
       "div.sk-serial,\n",
       "div.sk-item {\n",
       "  /* draw centered vertical line to link estimators */\n",
       "  background-image: linear-gradient(var(--sklearn-color-text-on-default-background), var(--sklearn-color-text-on-default-background));\n",
       "  background-size: 2px 100%;\n",
       "  background-repeat: no-repeat;\n",
       "  background-position: center center;\n",
       "}\n",
       "\n",
       "/* Parallel-specific style estimator block */\n",
       "\n",
       "#sk-container-id-1 div.sk-parallel-item::after {\n",
       "  content: \"\";\n",
       "  width: 100%;\n",
       "  border-bottom: 2px solid var(--sklearn-color-text-on-default-background);\n",
       "  flex-grow: 1;\n",
       "}\n",
       "\n",
       "#sk-container-id-1 div.sk-parallel {\n",
       "  display: flex;\n",
       "  align-items: stretch;\n",
       "  justify-content: center;\n",
       "  background-color: var(--sklearn-color-background);\n",
       "  position: relative;\n",
       "}\n",
       "\n",
       "#sk-container-id-1 div.sk-parallel-item {\n",
       "  display: flex;\n",
       "  flex-direction: column;\n",
       "}\n",
       "\n",
       "#sk-container-id-1 div.sk-parallel-item:first-child::after {\n",
       "  align-self: flex-end;\n",
       "  width: 50%;\n",
       "}\n",
       "\n",
       "#sk-container-id-1 div.sk-parallel-item:last-child::after {\n",
       "  align-self: flex-start;\n",
       "  width: 50%;\n",
       "}\n",
       "\n",
       "#sk-container-id-1 div.sk-parallel-item:only-child::after {\n",
       "  width: 0;\n",
       "}\n",
       "\n",
       "/* Serial-specific style estimator block */\n",
       "\n",
       "#sk-container-id-1 div.sk-serial {\n",
       "  display: flex;\n",
       "  flex-direction: column;\n",
       "  align-items: center;\n",
       "  background-color: var(--sklearn-color-background);\n",
       "  padding-right: 1em;\n",
       "  padding-left: 1em;\n",
       "}\n",
       "\n",
       "\n",
       "/* Toggleable style: style used for estimator/Pipeline/ColumnTransformer box that is\n",
       "clickable and can be expanded/collapsed.\n",
       "- Pipeline and ColumnTransformer use this feature and define the default style\n",
       "- Estimators will overwrite some part of the style using the `sk-estimator` class\n",
       "*/\n",
       "\n",
       "/* Pipeline and ColumnTransformer style (default) */\n",
       "\n",
       "#sk-container-id-1 div.sk-toggleable {\n",
       "  /* Default theme specific background. It is overwritten whether we have a\n",
       "  specific estimator or a Pipeline/ColumnTransformer */\n",
       "  background-color: var(--sklearn-color-background);\n",
       "}\n",
       "\n",
       "/* Toggleable label */\n",
       "#sk-container-id-1 label.sk-toggleable__label {\n",
       "  cursor: pointer;\n",
       "  display: block;\n",
       "  width: 100%;\n",
       "  margin-bottom: 0;\n",
       "  padding: 0.5em;\n",
       "  box-sizing: border-box;\n",
       "  text-align: center;\n",
       "}\n",
       "\n",
       "#sk-container-id-1 label.sk-toggleable__label-arrow:before {\n",
       "  /* Arrow on the left of the label */\n",
       "  content: \"▸\";\n",
       "  float: left;\n",
       "  margin-right: 0.25em;\n",
       "  color: var(--sklearn-color-icon);\n",
       "}\n",
       "\n",
       "#sk-container-id-1 label.sk-toggleable__label-arrow:hover:before {\n",
       "  color: var(--sklearn-color-text);\n",
       "}\n",
       "\n",
       "/* Toggleable content - dropdown */\n",
       "\n",
       "#sk-container-id-1 div.sk-toggleable__content {\n",
       "  max-height: 0;\n",
       "  max-width: 0;\n",
       "  overflow: hidden;\n",
       "  text-align: left;\n",
       "  /* unfitted */\n",
       "  background-color: var(--sklearn-color-unfitted-level-0);\n",
       "}\n",
       "\n",
       "#sk-container-id-1 div.sk-toggleable__content.fitted {\n",
       "  /* fitted */\n",
       "  background-color: var(--sklearn-color-fitted-level-0);\n",
       "}\n",
       "\n",
       "#sk-container-id-1 div.sk-toggleable__content pre {\n",
       "  margin: 0.2em;\n",
       "  border-radius: 0.25em;\n",
       "  color: var(--sklearn-color-text);\n",
       "  /* unfitted */\n",
       "  background-color: var(--sklearn-color-unfitted-level-0);\n",
       "}\n",
       "\n",
       "#sk-container-id-1 div.sk-toggleable__content.fitted pre {\n",
       "  /* unfitted */\n",
       "  background-color: var(--sklearn-color-fitted-level-0);\n",
       "}\n",
       "\n",
       "#sk-container-id-1 input.sk-toggleable__control:checked~div.sk-toggleable__content {\n",
       "  /* Expand drop-down */\n",
       "  max-height: 200px;\n",
       "  max-width: 100%;\n",
       "  overflow: auto;\n",
       "}\n",
       "\n",
       "#sk-container-id-1 input.sk-toggleable__control:checked~label.sk-toggleable__label-arrow:before {\n",
       "  content: \"▾\";\n",
       "}\n",
       "\n",
       "/* Pipeline/ColumnTransformer-specific style */\n",
       "\n",
       "#sk-container-id-1 div.sk-label input.sk-toggleable__control:checked~label.sk-toggleable__label {\n",
       "  color: var(--sklearn-color-text);\n",
       "  background-color: var(--sklearn-color-unfitted-level-2);\n",
       "}\n",
       "\n",
       "#sk-container-id-1 div.sk-label.fitted input.sk-toggleable__control:checked~label.sk-toggleable__label {\n",
       "  background-color: var(--sklearn-color-fitted-level-2);\n",
       "}\n",
       "\n",
       "/* Estimator-specific style */\n",
       "\n",
       "/* Colorize estimator box */\n",
       "#sk-container-id-1 div.sk-estimator input.sk-toggleable__control:checked~label.sk-toggleable__label {\n",
       "  /* unfitted */\n",
       "  background-color: var(--sklearn-color-unfitted-level-2);\n",
       "}\n",
       "\n",
       "#sk-container-id-1 div.sk-estimator.fitted input.sk-toggleable__control:checked~label.sk-toggleable__label {\n",
       "  /* fitted */\n",
       "  background-color: var(--sklearn-color-fitted-level-2);\n",
       "}\n",
       "\n",
       "#sk-container-id-1 div.sk-label label.sk-toggleable__label,\n",
       "#sk-container-id-1 div.sk-label label {\n",
       "  /* The background is the default theme color */\n",
       "  color: var(--sklearn-color-text-on-default-background);\n",
       "}\n",
       "\n",
       "/* On hover, darken the color of the background */\n",
       "#sk-container-id-1 div.sk-label:hover label.sk-toggleable__label {\n",
       "  color: var(--sklearn-color-text);\n",
       "  background-color: var(--sklearn-color-unfitted-level-2);\n",
       "}\n",
       "\n",
       "/* Label box, darken color on hover, fitted */\n",
       "#sk-container-id-1 div.sk-label.fitted:hover label.sk-toggleable__label.fitted {\n",
       "  color: var(--sklearn-color-text);\n",
       "  background-color: var(--sklearn-color-fitted-level-2);\n",
       "}\n",
       "\n",
       "/* Estimator label */\n",
       "\n",
       "#sk-container-id-1 div.sk-label label {\n",
       "  font-family: monospace;\n",
       "  font-weight: bold;\n",
       "  display: inline-block;\n",
       "  line-height: 1.2em;\n",
       "}\n",
       "\n",
       "#sk-container-id-1 div.sk-label-container {\n",
       "  text-align: center;\n",
       "}\n",
       "\n",
       "/* Estimator-specific */\n",
       "#sk-container-id-1 div.sk-estimator {\n",
       "  font-family: monospace;\n",
       "  border: 1px dotted var(--sklearn-color-border-box);\n",
       "  border-radius: 0.25em;\n",
       "  box-sizing: border-box;\n",
       "  margin-bottom: 0.5em;\n",
       "  /* unfitted */\n",
       "  background-color: var(--sklearn-color-unfitted-level-0);\n",
       "}\n",
       "\n",
       "#sk-container-id-1 div.sk-estimator.fitted {\n",
       "  /* fitted */\n",
       "  background-color: var(--sklearn-color-fitted-level-0);\n",
       "}\n",
       "\n",
       "/* on hover */\n",
       "#sk-container-id-1 div.sk-estimator:hover {\n",
       "  /* unfitted */\n",
       "  background-color: var(--sklearn-color-unfitted-level-2);\n",
       "}\n",
       "\n",
       "#sk-container-id-1 div.sk-estimator.fitted:hover {\n",
       "  /* fitted */\n",
       "  background-color: var(--sklearn-color-fitted-level-2);\n",
       "}\n",
       "\n",
       "/* Specification for estimator info (e.g. \"i\" and \"?\") */\n",
       "\n",
       "/* Common style for \"i\" and \"?\" */\n",
       "\n",
       ".sk-estimator-doc-link,\n",
       "a:link.sk-estimator-doc-link,\n",
       "a:visited.sk-estimator-doc-link {\n",
       "  float: right;\n",
       "  font-size: smaller;\n",
       "  line-height: 1em;\n",
       "  font-family: monospace;\n",
       "  background-color: var(--sklearn-color-background);\n",
       "  border-radius: 1em;\n",
       "  height: 1em;\n",
       "  width: 1em;\n",
       "  text-decoration: none !important;\n",
       "  margin-left: 1ex;\n",
       "  /* unfitted */\n",
       "  border: var(--sklearn-color-unfitted-level-1) 1pt solid;\n",
       "  color: var(--sklearn-color-unfitted-level-1);\n",
       "}\n",
       "\n",
       ".sk-estimator-doc-link.fitted,\n",
       "a:link.sk-estimator-doc-link.fitted,\n",
       "a:visited.sk-estimator-doc-link.fitted {\n",
       "  /* fitted */\n",
       "  border: var(--sklearn-color-fitted-level-1) 1pt solid;\n",
       "  color: var(--sklearn-color-fitted-level-1);\n",
       "}\n",
       "\n",
       "/* On hover */\n",
       "div.sk-estimator:hover .sk-estimator-doc-link:hover,\n",
       ".sk-estimator-doc-link:hover,\n",
       "div.sk-label-container:hover .sk-estimator-doc-link:hover,\n",
       ".sk-estimator-doc-link:hover {\n",
       "  /* unfitted */\n",
       "  background-color: var(--sklearn-color-unfitted-level-3);\n",
       "  color: var(--sklearn-color-background);\n",
       "  text-decoration: none;\n",
       "}\n",
       "\n",
       "div.sk-estimator.fitted:hover .sk-estimator-doc-link.fitted:hover,\n",
       ".sk-estimator-doc-link.fitted:hover,\n",
       "div.sk-label-container:hover .sk-estimator-doc-link.fitted:hover,\n",
       ".sk-estimator-doc-link.fitted:hover {\n",
       "  /* fitted */\n",
       "  background-color: var(--sklearn-color-fitted-level-3);\n",
       "  color: var(--sklearn-color-background);\n",
       "  text-decoration: none;\n",
       "}\n",
       "\n",
       "/* Span, style for the box shown on hovering the info icon */\n",
       ".sk-estimator-doc-link span {\n",
       "  display: none;\n",
       "  z-index: 9999;\n",
       "  position: relative;\n",
       "  font-weight: normal;\n",
       "  right: .2ex;\n",
       "  padding: .5ex;\n",
       "  margin: .5ex;\n",
       "  width: min-content;\n",
       "  min-width: 20ex;\n",
       "  max-width: 50ex;\n",
       "  color: var(--sklearn-color-text);\n",
       "  box-shadow: 2pt 2pt 4pt #999;\n",
       "  /* unfitted */\n",
       "  background: var(--sklearn-color-unfitted-level-0);\n",
       "  border: .5pt solid var(--sklearn-color-unfitted-level-3);\n",
       "}\n",
       "\n",
       ".sk-estimator-doc-link.fitted span {\n",
       "  /* fitted */\n",
       "  background: var(--sklearn-color-fitted-level-0);\n",
       "  border: var(--sklearn-color-fitted-level-3);\n",
       "}\n",
       "\n",
       ".sk-estimator-doc-link:hover span {\n",
       "  display: block;\n",
       "}\n",
       "\n",
       "/* \"?\"-specific style due to the `<a>` HTML tag */\n",
       "\n",
       "#sk-container-id-1 a.estimator_doc_link {\n",
       "  float: right;\n",
       "  font-size: 1rem;\n",
       "  line-height: 1em;\n",
       "  font-family: monospace;\n",
       "  background-color: var(--sklearn-color-background);\n",
       "  border-radius: 1rem;\n",
       "  height: 1rem;\n",
       "  width: 1rem;\n",
       "  text-decoration: none;\n",
       "  /* unfitted */\n",
       "  color: var(--sklearn-color-unfitted-level-1);\n",
       "  border: var(--sklearn-color-unfitted-level-1) 1pt solid;\n",
       "}\n",
       "\n",
       "#sk-container-id-1 a.estimator_doc_link.fitted {\n",
       "  /* fitted */\n",
       "  border: var(--sklearn-color-fitted-level-1) 1pt solid;\n",
       "  color: var(--sklearn-color-fitted-level-1);\n",
       "}\n",
       "\n",
       "/* On hover */\n",
       "#sk-container-id-1 a.estimator_doc_link:hover {\n",
       "  /* unfitted */\n",
       "  background-color: var(--sklearn-color-unfitted-level-3);\n",
       "  color: var(--sklearn-color-background);\n",
       "  text-decoration: none;\n",
       "}\n",
       "\n",
       "#sk-container-id-1 a.estimator_doc_link.fitted:hover {\n",
       "  /* fitted */\n",
       "  background-color: var(--sklearn-color-fitted-level-3);\n",
       "}\n",
       "</style><div id=\"sk-container-id-1\" class=\"sk-top-container\"><div class=\"sk-text-repr-fallback\"><pre>CountVectorizer()</pre><b>In a Jupyter environment, please rerun this cell to show the HTML representation or trust the notebook. <br />On GitHub, the HTML representation is unable to render, please try loading this page with nbviewer.org.</b></div><div class=\"sk-container\" hidden><div class=\"sk-item\"><div class=\"sk-estimator fitted sk-toggleable\"><input class=\"sk-toggleable__control sk-hidden--visually\" id=\"sk-estimator-id-1\" type=\"checkbox\" checked><label for=\"sk-estimator-id-1\" class=\"sk-toggleable__label fitted sk-toggleable__label-arrow fitted\">&nbsp;&nbsp;CountVectorizer<a class=\"sk-estimator-doc-link fitted\" rel=\"noreferrer\" target=\"_blank\" href=\"https://scikit-learn.org/1.4/modules/generated/sklearn.feature_extraction.text.CountVectorizer.html\">?<span>Documentation for CountVectorizer</span></a><span class=\"sk-estimator-doc-link fitted\">i<span>Fitted</span></span></label><div class=\"sk-toggleable__content fitted\"><pre>CountVectorizer()</pre></div> </div></div></div></div>"
      ],
      "text/plain": [
       "CountVectorizer()"
      ]
     },
     "execution_count": 44,
     "metadata": {},
     "output_type": "execute_result"
    }
   ],
   "source": [
    "vector.fit(documents)"
   ]
  },
  {
   "cell_type": "code",
   "execution_count": 45,
   "id": "2a710300-8a3b-4ec5-8ac6-701f19bcdd71",
   "metadata": {},
   "outputs": [
    {
     "data": {
      "text/plain": [
       "{'sachin': 6,\n",
       " 'good': 3,\n",
       " 'cricket': 0,\n",
       " 'dhoni': 1,\n",
       " 'virat': 7,\n",
       " 'face': 2,\n",
       " 'right': 5,\n",
       " 'now': 4}"
      ]
     },
     "execution_count": 45,
     "metadata": {},
     "output_type": "execute_result"
    }
   ],
   "source": [
    "vector.vocabulary_"
   ]
  },
  {
   "cell_type": "code",
   "execution_count": 46,
   "id": "55688592-5c83-4b44-8e27-02e7a5d53677",
   "metadata": {},
   "outputs": [],
   "source": [
    "# cricket dhoni face good now right sachin virat\n",
    "# if 10,000 unique words then 10,000 columns(features)"
   ]
  },
  {
   "cell_type": "code",
   "execution_count": 47,
   "id": "6e8f268d-16be-43c9-abdb-622ea6619c86",
   "metadata": {},
   "outputs": [],
   "source": [
    "tr = vector.transform(documents)"
   ]
  },
  {
   "cell_type": "code",
   "execution_count": 48,
   "id": "c81f1665-bd85-4571-a30b-d449b8b96592",
   "metadata": {},
   "outputs": [
    {
     "data": {
      "text/plain": [
       "<3x8 sparse matrix of type '<class 'numpy.int64'>'\n",
       "\twith 11 stored elements in Compressed Sparse Row format>"
      ]
     },
     "execution_count": 48,
     "metadata": {},
     "output_type": "execute_result"
    }
   ],
   "source": [
    "tr"
   ]
  },
  {
   "cell_type": "code",
   "execution_count": 49,
   "id": "b9f6e0a2-e8da-4c37-9d6a-9124be908427",
   "metadata": {},
   "outputs": [
    {
     "data": {
      "text/plain": [
       "['sachin good cricket', 'dhoni good cricket', 'virat face cricket right now']"
      ]
     },
     "execution_count": 49,
     "metadata": {},
     "output_type": "execute_result"
    }
   ],
   "source": [
    "documents"
   ]
  },
  {
   "cell_type": "code",
   "execution_count": 50,
   "id": "7d347a58-7903-4ed5-af3a-81dbe9be60d9",
   "metadata": {},
   "outputs": [
    {
     "data": {
      "text/plain": [
       "array([[1, 0, 0, 1, 0, 0, 1, 0],\n",
       "       [1, 1, 0, 1, 0, 0, 0, 0],\n",
       "       [1, 0, 1, 0, 1, 1, 0, 1]], dtype=int64)"
      ]
     },
     "execution_count": 50,
     "metadata": {},
     "output_type": "execute_result"
    }
   ],
   "source": [
    "tr.toarray()"
   ]
  },
  {
   "cell_type": "code",
   "execution_count": 51,
   "id": "28a5f281-bece-498b-ac28-241feccb023a",
   "metadata": {},
   "outputs": [],
   "source": [
    "test = [\n",
    "    \"sachin is sachin virat is virat and dhoni is dhoni there is no comparison\",\n",
    "    \"it's a new document which does not get any output\",\n",
    "    \"virat virat virat cricket cricket\"\n",
    "]"
   ]
  },
  {
   "cell_type": "code",
   "execution_count": 52,
   "id": "86ce5785-d740-4c01-8e99-2ba6d07395e3",
   "metadata": {},
   "outputs": [
    {
     "data": {
      "text/plain": [
       "array([[0, 2, 0, 0, 0, 0, 2, 2],\n",
       "       [0, 0, 0, 0, 0, 0, 0, 0],\n",
       "       [2, 0, 0, 0, 0, 0, 0, 3]], dtype=int64)"
      ]
     },
     "execution_count": 52,
     "metadata": {},
     "output_type": "execute_result"
    }
   ],
   "source": [
    "tr = vector.transform(test).toarray()\n",
    "tr"
   ]
  },
  {
   "cell_type": "code",
   "execution_count": 53,
   "id": "3dce2df8-bbad-4a6d-96a6-093150c54489",
   "metadata": {},
   "outputs": [],
   "source": [
    "# unigram model"
   ]
  },
  {
   "cell_type": "code",
   "execution_count": 54,
   "id": "c7d41269-847e-49af-8ed3-fd07189b0d89",
   "metadata": {},
   "outputs": [],
   "source": [
    "corpus = [\n",
    "    \"sachin is a good cricketer sachin sachin sachin sachin\",\n",
    "    \"virat is a good cricketer\"\n",
    "]"
   ]
  },
  {
   "cell_type": "code",
   "execution_count": 55,
   "id": "4b9ff369-f969-4a8e-bd68-48a997ea6e01",
   "metadata": {},
   "outputs": [],
   "source": [
    "cv = CountVectorizer(ngram_range=(1,3))"
   ]
  },
  {
   "cell_type": "code",
   "execution_count": 56,
   "id": "c555bbcd-3a33-441e-ad91-7689a09ce631",
   "metadata": {},
   "outputs": [],
   "source": [
    "tr = cv.fit_transform(corpus).toarray()"
   ]
  },
  {
   "cell_type": "code",
   "execution_count": 57,
   "id": "7f6f5cee-6fff-4784-92d0-65638ef0440b",
   "metadata": {},
   "outputs": [
    {
     "name": "stdout",
     "output_type": "stream",
     "text": [
      "{'sachin': 9, 'is': 6, 'good': 3, 'cricketer': 0, 'sachin is': 10, 'is good': 7, 'good cricketer': 4, 'cricketer sachin': 1, 'sachin sachin': 12, 'sachin is good': 11, 'is good cricketer': 8, 'good cricketer sachin': 5, 'cricketer sachin sachin': 2, 'sachin sachin sachin': 13, 'virat': 14, 'virat is': 15, 'virat is good': 16}\n"
     ]
    }
   ],
   "source": [
    "print(cv.vocabulary_)"
   ]
  },
  {
   "cell_type": "code",
   "execution_count": 58,
   "id": "6947c84a-539f-462d-ab30-95a1def9c6f4",
   "metadata": {},
   "outputs": [
    {
     "data": {
      "text/plain": [
       "array([[1, 1, 1, 1, 1, 1, 1, 1, 1, 5, 1, 1, 3, 2, 0, 0, 0],\n",
       "       [1, 0, 0, 1, 1, 0, 1, 1, 1, 0, 0, 0, 0, 0, 1, 1, 1]], dtype=int64)"
      ]
     },
     "execution_count": 58,
     "metadata": {},
     "output_type": "execute_result"
    }
   ],
   "source": [
    "tr"
   ]
  },
  {
   "cell_type": "markdown",
   "id": "6cc8857d-a787-41aa-8c09-80f532f53545",
   "metadata": {},
   "source": [
    "term frequency \n",
    "\n",
    "        -> importance of term in given document"
   ]
  },
  {
   "cell_type": "code",
   "execution_count": 59,
   "id": "c9794ada-cf58-4ce3-858f-58a8f74396ed",
   "metadata": {},
   "outputs": [],
   "source": [
    "from sklearn.feature_extraction.text import TfidfTransformer\n",
    "# input to this will be countvectorizer"
   ]
  },
  {
   "cell_type": "code",
   "execution_count": 60,
   "id": "0c2379d7-f758-4f12-a188-bbe30c977c59",
   "metadata": {},
   "outputs": [],
   "source": [
    "tfidf = TfidfTransformer()"
   ]
  },
  {
   "cell_type": "code",
   "execution_count": 61,
   "id": "a16a9458-36ef-4e1a-8c35-8b09dcf721ae",
   "metadata": {},
   "outputs": [],
   "source": [
    "output = tfidf.fit_transform(tr)"
   ]
  },
  {
   "cell_type": "code",
   "execution_count": 62,
   "id": "e411890f-f1e0-43c1-8460-344e5f02c0b2",
   "metadata": {},
   "outputs": [
    {
     "name": "stdout",
     "output_type": "stream",
     "text": [
      "[('cricketer', 0), ('cricketer sachin', 1), ('cricketer sachin sachin', 2), ('good', 3), ('good cricketer', 4), ('good cricketer sachin', 5), ('is', 6), ('is good', 7), ('is good cricketer', 8), ('sachin', 9), ('sachin is', 10), ('sachin is good', 11), ('sachin sachin', 12), ('sachin sachin sachin', 13), ('virat', 14), ('virat is', 15), ('virat is good', 16)]\n"
     ]
    }
   ],
   "source": [
    "print(sorted(cv.vocabulary_.items(), key=lambda v:v[1]))"
   ]
  },
  {
   "cell_type": "code",
   "execution_count": 63,
   "id": "5ffbda24-c624-4fba-9f29-308fc28156e4",
   "metadata": {},
   "outputs": [
    {
     "data": {
      "text/plain": [
       "array([[0.10486347, 0.14738195, 0.14738195, 0.10486347, 0.10486347,\n",
       "        0.14738195, 0.10486347, 0.10486347, 0.10486347, 0.73690976,\n",
       "        0.14738195, 0.14738195, 0.44214586, 0.2947639 , 0.        ,\n",
       "        0.        , 0.        ],\n",
       "       [0.2895694 , 0.        , 0.        , 0.2895694 , 0.2895694 ,\n",
       "        0.        , 0.2895694 , 0.2895694 , 0.2895694 , 0.        ,\n",
       "        0.        , 0.        , 0.        , 0.        , 0.40697968,\n",
       "        0.40697968, 0.40697968]])"
      ]
     },
     "execution_count": 63,
     "metadata": {},
     "output_type": "execute_result"
    }
   ],
   "source": [
    "output.toarray()"
   ]
  },
  {
   "cell_type": "markdown",
   "id": "c9949aef-fd6f-4b06-a5e8-e1ec1a3c06e4",
   "metadata": {},
   "source": [
    "## SPAM HAM PROJECT"
   ]
  },
  {
   "cell_type": "code",
   "execution_count": 64,
   "id": "84f73ecf-f85a-4441-b25e-a21875487731",
   "metadata": {},
   "outputs": [],
   "source": [
    "import numpy as np\n",
    "import pandas as pd \n",
    "import matplotlib.pyplot as plt"
   ]
  },
  {
   "cell_type": "code",
   "execution_count": 65,
   "id": "ebdf40bd-8ad2-4db8-b3c7-b0c5c8400008",
   "metadata": {},
   "outputs": [
    {
     "data": {
      "text/html": [
       "<div>\n",
       "<style scoped>\n",
       "    .dataframe tbody tr th:only-of-type {\n",
       "        vertical-align: middle;\n",
       "    }\n",
       "\n",
       "    .dataframe tbody tr th {\n",
       "        vertical-align: top;\n",
       "    }\n",
       "\n",
       "    .dataframe thead th {\n",
       "        text-align: right;\n",
       "    }\n",
       "</style>\n",
       "<table border=\"1\" class=\"dataframe\">\n",
       "  <thead>\n",
       "    <tr style=\"text-align: right;\">\n",
       "      <th></th>\n",
       "      <th>class</th>\n",
       "      <th>message</th>\n",
       "    </tr>\n",
       "  </thead>\n",
       "  <tbody>\n",
       "    <tr>\n",
       "      <th>0</th>\n",
       "      <td>ham</td>\n",
       "      <td>Go until jurong point, crazy.. Available only ...</td>\n",
       "    </tr>\n",
       "    <tr>\n",
       "      <th>1</th>\n",
       "      <td>ham</td>\n",
       "      <td>Ok lar... Joking wif u oni...</td>\n",
       "    </tr>\n",
       "    <tr>\n",
       "      <th>2</th>\n",
       "      <td>spam</td>\n",
       "      <td>Free entry in 2 a wkly comp to win FA Cup fina...</td>\n",
       "    </tr>\n",
       "    <tr>\n",
       "      <th>3</th>\n",
       "      <td>ham</td>\n",
       "      <td>U dun say so early hor... U c already then say...</td>\n",
       "    </tr>\n",
       "    <tr>\n",
       "      <th>4</th>\n",
       "      <td>ham</td>\n",
       "      <td>Nah I don't think he goes to usf, he lives aro...</td>\n",
       "    </tr>\n",
       "    <tr>\n",
       "      <th>...</th>\n",
       "      <td>...</td>\n",
       "      <td>...</td>\n",
       "    </tr>\n",
       "    <tr>\n",
       "      <th>5567</th>\n",
       "      <td>spam</td>\n",
       "      <td>This is the 2nd time we have tried 2 contact u...</td>\n",
       "    </tr>\n",
       "    <tr>\n",
       "      <th>5568</th>\n",
       "      <td>ham</td>\n",
       "      <td>Will ü b going to esplanade fr home?</td>\n",
       "    </tr>\n",
       "    <tr>\n",
       "      <th>5569</th>\n",
       "      <td>ham</td>\n",
       "      <td>Pity, * was in mood for that. So...any other s...</td>\n",
       "    </tr>\n",
       "    <tr>\n",
       "      <th>5570</th>\n",
       "      <td>ham</td>\n",
       "      <td>The guy did some bitching but I acted like i'd...</td>\n",
       "    </tr>\n",
       "    <tr>\n",
       "      <th>5571</th>\n",
       "      <td>ham</td>\n",
       "      <td>Rofl. Its true to its name</td>\n",
       "    </tr>\n",
       "  </tbody>\n",
       "</table>\n",
       "<p>5572 rows × 2 columns</p>\n",
       "</div>"
      ],
      "text/plain": [
       "     class                                            message\n",
       "0      ham  Go until jurong point, crazy.. Available only ...\n",
       "1      ham                      Ok lar... Joking wif u oni...\n",
       "2     spam  Free entry in 2 a wkly comp to win FA Cup fina...\n",
       "3      ham  U dun say so early hor... U c already then say...\n",
       "4      ham  Nah I don't think he goes to usf, he lives aro...\n",
       "...    ...                                                ...\n",
       "5567  spam  This is the 2nd time we have tried 2 contact u...\n",
       "5568   ham               Will ü b going to esplanade fr home?\n",
       "5569   ham  Pity, * was in mood for that. So...any other s...\n",
       "5570   ham  The guy did some bitching but I acted like i'd...\n",
       "5571   ham                         Rofl. Its true to its name\n",
       "\n",
       "[5572 rows x 2 columns]"
      ]
     },
     "execution_count": 65,
     "metadata": {},
     "output_type": "execute_result"
    }
   ],
   "source": [
    "df = pd.read_csv(\"class_July/sms+spam+collection/SMSSpamCollection\", sep=\"\\t\",\n",
    "                 header=None, names=[\"class\", \"message\"])\n",
    "df"
   ]
  },
  {
   "cell_type": "markdown",
   "id": "7ad68daa-539d-412c-8a05-71634f1920b3",
   "metadata": {},
   "source": [
    "### Regular Expression"
   ]
  },
  {
   "cell_type": "markdown",
   "id": "a4cadecf-ddc0-402e-857c-0409de93d90d",
   "metadata": {},
   "source": [
    "    To detect and replace certain patterns from a text"
   ]
  },
  {
   "cell_type": "markdown",
   "id": "6227c912-7772-4ce7-977c-c16ae8cf1c64",
   "metadata": {},
   "source": [
    "#### classes\n",
    "\n",
    "    \\d  -> digit class [0-9]\n",
    "    \\D  -> non-digit class\n",
    "    \\w  -> word class [a-fA-F]\n",
    "    \\W  -> non word class\n",
    "    \\s  -> space class [\" \", \"  \", \"\\t\", \"\\n\"]\n",
    "    \\S  -> non space class (except space remove everything)\n",
    "    \n",
    "    . dot means all classes(number, special character, space , etc)\n",
    "\n",
    "    ? can be or can not be "
   ]
  },
  {
   "cell_type": "code",
   "execution_count": 66,
   "id": "4923a211-4139-4d0e-9893-86f8b23bc6e8",
   "metadata": {},
   "outputs": [],
   "source": [
    "import re"
   ]
  },
  {
   "cell_type": "code",
   "execution_count": 67,
   "id": "f5296265-1536-427b-8038-969d2983e6eb",
   "metadata": {},
   "outputs": [],
   "source": [
    "text = \"hello 12345 jadu %$#@! \\t !@#$&^ 1234-4321-1423-1324  0000-1111-562222-5673333\""
   ]
  },
  {
   "cell_type": "markdown",
   "id": "65119005-63bd-4199-897a-0bbfcc110b0b",
   "metadata": {},
   "source": [
    "    *   -> 0 or more repetition\n",
    "    +   -> 1 or more repetition"
   ]
  },
  {
   "cell_type": "code",
   "execution_count": 68,
   "id": "986f3a3c-4589-4011-9ecb-83b595917df2",
   "metadata": {},
   "outputs": [
    {
     "data": {
      "text/plain": [
       "['1', '12', '123', '1231234']"
      ]
     },
     "execution_count": 68,
     "metadata": {},
     "output_type": "execute_result"
    }
   ],
   "source": [
    "re.findall(r\"\\d+\",\"1  12  123  1231234\")"
   ]
  },
  {
   "cell_type": "code",
   "execution_count": 69,
   "id": "0e200fc1-6b89-424e-8c21-e586c50e4daa",
   "metadata": {},
   "outputs": [
    {
     "data": {
      "text/plain": [
       "['1', '', '', '12', '', '', '123', '', '', '1231234', '']"
      ]
     },
     "execution_count": 69,
     "metadata": {},
     "output_type": "execute_result"
    }
   ],
   "source": [
    "re.findall(r\"\\d*\",\"1  12  123  1231234\")"
   ]
  },
  {
   "cell_type": "code",
   "execution_count": 70,
   "id": "5facaafc-00a5-4285-9269-ec25a295fc18",
   "metadata": {},
   "outputs": [],
   "source": [
    "credit_card = re.compile(r\"\\d\\d\\d\\d-\\d\\d\\d\\d-\\d\\d\\d\\d-\\d\\d\\d\\d\")"
   ]
  },
  {
   "cell_type": "code",
   "execution_count": 71,
   "id": "82e91f2e-6825-4d80-8127-990e3717f50d",
   "metadata": {},
   "outputs": [
    {
     "data": {
      "text/plain": [
       "['1234-4321-1423-1324']"
      ]
     },
     "execution_count": 71,
     "metadata": {},
     "output_type": "execute_result"
    }
   ],
   "source": [
    "credit_card.findall(text)"
   ]
  },
  {
   "cell_type": "code",
   "execution_count": 72,
   "id": "b5d2c51e-aece-4929-9317-8bca6665f313",
   "metadata": {},
   "outputs": [
    {
     "name": "stdout",
     "output_type": "stream",
     "text": [
      "['1234-4321-1423-1324']\n"
     ]
    }
   ],
   "source": [
    "credit_card = re.compile(r\"\\d{4}-\\d{4}-\\d{4}-\\d{4}\")\n",
    "print(credit_card.findall(text))"
   ]
  },
  {
   "cell_type": "code",
   "execution_count": 73,
   "id": "1a639a22-2b88-40b7-81a9-7bc333f8ece5",
   "metadata": {},
   "outputs": [
    {
     "name": "stdout",
     "output_type": "stream",
     "text": [
      "['1234-4321-1423-1324', '0000-1111-562222-5673333']\n"
     ]
    }
   ],
   "source": [
    "# if the digits are in a range then \n",
    "credit_card = re.compile(r\"\\d{2,8}-\\d{2,8}-\\d{2,8}-\\d{2,8}\")\n",
    "print(credit_card.findall(text))"
   ]
  },
  {
   "cell_type": "code",
   "execution_count": 74,
   "id": "e5b0765c-60bd-4df4-b4a5-bb3137dd359a",
   "metadata": {},
   "outputs": [
    {
     "name": "stdout",
     "output_type": "stream",
     "text": [
      "['h', 'e', 'l', 'l', 'o', '1', '2', '3', '4', '5', 'j', 'a', 'd', 'u', '1', '2', '3', '4', '4', '3', '2', '1', '1', '4', '2', '3', '1', '3', '2', '4', '0', '0', '0', '0', '1', '1', '1', '1', '5', '6', '2', '2', '2', '2', '5', '6', '7', '3', '3', '3', '3']\n"
     ]
    }
   ],
   "source": [
    "print(re.findall(r\"\\w\", text))"
   ]
  },
  {
   "cell_type": "code",
   "execution_count": 75,
   "id": "7df443dd-42db-497c-bd3e-a614f29d468f",
   "metadata": {},
   "outputs": [
    {
     "name": "stdout",
     "output_type": "stream",
     "text": [
      "['1', '2', '3', '4', '5', '1', '2', '3', '4', '4', '3', '2', '1', '1', '4', '2', '3', '1', '3', '2', '4', '0', '0', '0', '0', '1', '1', '1', '1', '5', '6', '2', '2', '2', '2', '5', '6', '7', '3', '3', '3', '3']\n"
     ]
    }
   ],
   "source": [
    "print(re.findall(r\"\\d\", text))"
   ]
  },
  {
   "cell_type": "code",
   "execution_count": 76,
   "id": "75b9b779-98ed-4ee2-924a-c3e540a021d1",
   "metadata": {},
   "outputs": [
    {
     "name": "stdout",
     "output_type": "stream",
     "text": [
      "[' ', ' ', ' ', '%', '$', '#', '@', '!', ' ', '\\t', ' ', '!', '@', '#', '$', '&', '^', ' ', '-', '-', '-', ' ', ' ', '-', '-', '-']\n"
     ]
    }
   ],
   "source": [
    "print(re.findall(r\"\\W\", text))"
   ]
  },
  {
   "cell_type": "code",
   "execution_count": 77,
   "id": "b26ae9bc-5661-4b9a-b31b-3cb97a37dbd1",
   "metadata": {},
   "outputs": [],
   "source": [
    "doc = \"\"\"\n",
    "        convert text to lowercase for caseless comparisons\n",
    "        remove hyper links, punctuations, alphanumeric words\n",
    "    \"\"\""
   ]
  },
  {
   "cell_type": "code",
   "execution_count": 78,
   "id": "554db78f-7704-457d-adf1-c858a17acb9b",
   "metadata": {},
   "outputs": [
    {
     "data": {
      "text/plain": [
       "32"
      ]
     },
     "execution_count": 78,
     "metadata": {},
     "output_type": "execute_result"
    }
   ],
   "source": [
    "len(re.findall(r\"[aeiouAEIOU]\",doc))"
   ]
  },
  {
   "cell_type": "code",
   "execution_count": 79,
   "id": "aa3c00dd-e564-43e4-80ab-213047515ab0",
   "metadata": {},
   "outputs": [
    {
     "data": {
      "text/plain": [
       "93"
      ]
     },
     "execution_count": 79,
     "metadata": {},
     "output_type": "execute_result"
    }
   ],
   "source": [
    "len(re.findall(r\"[^aeiouAEIOU]\",doc))"
   ]
  },
  {
   "cell_type": "markdown",
   "id": "85d13d9b-e6f2-4559-9853-225a8f69f51f",
   "metadata": {},
   "source": [
    "    [^aeiouAEIOU] -> [aeiouAEIOU] ko chor kr baaki sb return krega isi liye ye ^ use krte hain"
   ]
  },
  {
   "cell_type": "markdown",
   "id": "2824c5f2-36c5-453a-a4e8-2ad2da4f305e",
   "metadata": {},
   "source": [
    "\n",
    "    [aeiouAEIOU]   -> aeiouAEIOU in Text\n",
    "    \n",
    "    [^aeiouAEIOU]  -> aeiouAEIOU not in text"
   ]
  },
  {
   "cell_type": "markdown",
   "id": "c07c4553-6790-4e38-b7a5-804bb0165dde",
   "metadata": {},
   "source": [
    "\n",
    "    . dot means all classes(number, special character, space , etc)\n",
    "\n",
    "    ? can be or can not be "
   ]
  },
  {
   "cell_type": "code",
   "execution_count": 80,
   "id": "1f09b4c1-650e-4d3a-83d8-252ebfd48668",
   "metadata": {},
   "outputs": [
    {
     "data": {
      "text/plain": [
       "['123', '1234', '1234']"
      ]
     },
     "execution_count": 80,
     "metadata": {},
     "output_type": "execute_result"
    }
   ],
   "source": [
    "re.findall(r\"\\d\\d\\d\\d?\", \"12 123 1234 12345\")\n",
    "#  +  -> greedy search(not stops , just searching till getting number)\n",
    "#  ?  -> to make + or * non greedy (as it gets pattern mentioned it stops the search)"
   ]
  },
  {
   "cell_type": "code",
   "execution_count": 81,
   "id": "5a09179f-c295-447b-9593-b5cf5f807141",
   "metadata": {},
   "outputs": [],
   "source": [
    "s = \"sachin is a good boy\""
   ]
  },
  {
   "cell_type": "code",
   "execution_count": 82,
   "id": "1cf057d8-1832-459e-b84e-fe3927682ff0",
   "metadata": {},
   "outputs": [
    {
     "data": {
      "text/plain": [
       "'dhoni is a good boy'"
      ]
     },
     "execution_count": 82,
     "metadata": {},
     "output_type": "execute_result"
    }
   ],
   "source": [
    "re.sub(\"sachin\", \"dhoni\", s)"
   ]
  },
  {
   "cell_type": "markdown",
   "id": "82a9bfde-551d-4818-9210-2ef7ddb825c2",
   "metadata": {},
   "source": [
    "()  ->  group "
   ]
  },
  {
   "cell_type": "code",
   "execution_count": 83,
   "id": "09bd141f-522a-47e9-b56e-63ec4b52228d",
   "metadata": {},
   "outputs": [],
   "source": [
    "emails = \"sachin@gmail.com  rajat@yahoomail.com  sachin@grasssolutions.in\""
   ]
  },
  {
   "cell_type": "code",
   "execution_count": 84,
   "id": "2cd7976a-e645-4785-aea7-49fc6834306a",
   "metadata": {},
   "outputs": [],
   "source": [
    "pat = r\"[\\w\\.]+\""
   ]
  },
  {
   "cell_type": "code",
   "execution_count": 85,
   "id": "dbd8e0cd-d84b-46ac-bdfb-d738058a1a83",
   "metadata": {},
   "outputs": [
    {
     "data": {
      "text/plain": [
       "['sachin', 'sachin.yadav', 'sachin.yadav.grras', 'sachin']"
      ]
     },
     "execution_count": 85,
     "metadata": {},
     "output_type": "execute_result"
    }
   ],
   "source": [
    "re.findall(pat, \"sachin sachin.yadav sachin.yadav.grras sachin\")"
   ]
  },
  {
   "cell_type": "code",
   "execution_count": 86,
   "id": "01b17c88-9ef1-42e3-a367-b31cc2a1c62b",
   "metadata": {},
   "outputs": [],
   "source": [
    "pat = r\"([\\w\\.]+)@([a-zA-Z]+)\\.([a-zA-Z]+)\"\n",
    "    #     r\"\\1\"      r\"\\2\"        r\"\\3\"\n",
    "    #    group 1     group 2     group 3"
   ]
  },
  {
   "cell_type": "code",
   "execution_count": 87,
   "id": "35283347-cd08-42bf-9256-61976e858b8e",
   "metadata": {},
   "outputs": [
    {
     "data": {
      "text/plain": [
       "[('sachin', 'gmail', 'com'),\n",
       " ('rajat', 'yahoomail', 'com'),\n",
       " ('sachin', 'grasssolutions', 'in')]"
      ]
     },
     "execution_count": 87,
     "metadata": {},
     "output_type": "execute_result"
    }
   ],
   "source": [
    "re.findall(pat, emails)"
   ]
  },
  {
   "cell_type": "code",
   "execution_count": 88,
   "id": "6e819bbe-0311-4844-a113-af4d77edb8c9",
   "metadata": {},
   "outputs": [
    {
     "data": {
      "text/plain": [
       "'sachin  rajat  sachin'"
      ]
     },
     "execution_count": 88,
     "metadata": {},
     "output_type": "execute_result"
    }
   ],
   "source": [
    "re.sub(pat, r\"\\1\", emails)"
   ]
  },
  {
   "cell_type": "code",
   "execution_count": 89,
   "id": "ee2f3a7a-40c4-42ee-8d0c-182e0b42d765",
   "metadata": {},
   "outputs": [
    {
     "data": {
      "text/plain": [
       "['sachin@gmail.com  rajat@yahoomail.com  sachin@grasssolutions.in']"
      ]
     },
     "execution_count": 89,
     "metadata": {},
     "output_type": "execute_result"
    }
   ],
   "source": [
    "# greedy search\n",
    "re.findall(r\".*n\", emails)"
   ]
  },
  {
   "cell_type": "code",
   "execution_count": 90,
   "id": "6ae184f5-a9da-44b3-a666-70b4c20abf7f",
   "metadata": {},
   "outputs": [
    {
     "data": {
      "text/plain": [
       "['sachin', '@gmail.com  rajat@yahoomail.com  sachin', '@grasssolution', 's.in']"
      ]
     },
     "execution_count": 90,
     "metadata": {},
     "output_type": "execute_result"
    }
   ],
   "source": [
    "# non greedy search\n",
    "re.findall(r\".*?n\", emails)"
   ]
  },
  {
   "cell_type": "markdown",
   "id": "1818178f-e7f6-4d15-8100-0ebbc0361824",
   "metadata": {},
   "source": [
    "    \"<.*?>(.*)</.*?>\", r\"\\1\"    <h1 href=\"..\">doc</h1>"
   ]
  },
  {
   "cell_type": "code",
   "execution_count": 91,
   "id": "5631ab2b-6e63-4f94-92fc-e9f0f89b7054",
   "metadata": {},
   "outputs": [],
   "source": [
    "def clean_text(message):\n",
    "    \"\"\"\n",
    "        convert text to lowercase for caseless comparisons\n",
    "        remove hyper links, punctuations, alphanumeric words\n",
    "    \"\"\"\n",
    "    # convert string to lowercase\n",
    "    message = str(message).lower()\n",
    "    # remove all new-line character \"\\n\"\n",
    "    message = re.sub(r\"\\r?\\n\", \" \", message)\n",
    "    message = re.sub(r\"<.*?>(.*)</.*?>\", r\"1\", message) # for html cases \n",
    "    message = re.sub(r\"<.*?>+\", \" \", message)\n",
    "    # remove text present in any kind of brackets\n",
    "    message = re.sub(r\"\\[.*?\\]\", \" \", message)\n",
    "    message = re.sub(r\"\\(.*?\\)\", \" \", message)\n",
    "    message = re.sub(r\"\\{.*?\\}\", \" \", message)\n",
    "    # remove url/links from texts\n",
    "    message = re.sub(r\"https?://\\S+|www\\.\\S+\", \" \", message)\n",
    "    # remove punctuations letters from strings\n",
    "    message = re.sub(r\"[{}]\".format(re.escape(string.punctuation)), \" \", message)\n",
    "    # remove all words containing numbers\n",
    "    message = re.sub(r\"\\w*\\d+\\w*\", \" \", message)\n",
    "    # remove phone numbers / credit card numbers / etc\n",
    "    message = re.sub(r\"(\\d-?)+\", \" \", message)\n",
    "    # remove non-english characters from text\n",
    "    message = re.sub(r\"[^a-zA-Z\\s]\", \" \", message)\n",
    "    # remove all characters having length less than equal 3\n",
    "    message = re.sub(r\"\\b\\w{0,3}\\b\", \" \", message)\n",
    "    # merge multiple spaces into one space\n",
    "    message = re.sub(r\"\\s+\", \" \", message)\n",
    "    return message"
   ]
  },
  {
   "cell_type": "code",
   "execution_count": 92,
   "id": "063bbfa8-fa8e-4005-8a1e-241bf2061138",
   "metadata": {},
   "outputs": [],
   "source": [
    "def remove_stopwords(message):\n",
    "    global stop_words\n",
    "    clean_message = []\n",
    "    for word in message.split(\" \"):\n",
    "        if word.strip() not in stop_words:\n",
    "            clean_message.append(word)\n",
    "    return \" \".join(clean_message)"
   ]
  },
  {
   "cell_type": "code",
   "execution_count": 93,
   "id": "c52ac1a5-f571-4e01-b2f4-5ce241c94253",
   "metadata": {},
   "outputs": [],
   "source": [
    "from nltk.corpus import stopwords"
   ]
  },
  {
   "cell_type": "code",
   "execution_count": 94,
   "id": "064e3045-d102-4d6e-af78-d9e3df114eb6",
   "metadata": {},
   "outputs": [],
   "source": [
    "stop_words = stopwords.words(\"english\")"
   ]
  },
  {
   "cell_type": "code",
   "execution_count": 95,
   "id": "d34497d4-b4c8-4239-995a-596bc4b06b4f",
   "metadata": {},
   "outputs": [],
   "source": [
    "from sklearn.feature_extraction.text import CountVectorizer, TfidfTransformer\n",
    "from nltk.stem import SnowballStemmer"
   ]
  },
  {
   "cell_type": "code",
   "execution_count": 96,
   "id": "13cbfce5-97db-4665-8179-cee7e0494b82",
   "metadata": {},
   "outputs": [],
   "source": [
    "from sklearn.pipeline import make_pipeline\n",
    "from sklearn.preprocessing import FunctionTransformer"
   ]
  },
  {
   "cell_type": "code",
   "execution_count": 97,
   "id": "f1d51f01-5a8f-4382-85d9-c6571755fb92",
   "metadata": {},
   "outputs": [],
   "source": [
    "from sklearn.linear_model import LogisticRegression"
   ]
  },
  {
   "cell_type": "code",
   "execution_count": 98,
   "id": "c296090a-114a-41fd-a819-74cd44903038",
   "metadata": {},
   "outputs": [],
   "source": [
    "import string\n",
    "import re"
   ]
  },
  {
   "cell_type": "code",
   "execution_count": 99,
   "id": "9ef88532-5afb-49f0-8dfe-f5f780b114cd",
   "metadata": {},
   "outputs": [
    {
     "data": {
      "text/html": [
       "<div>\n",
       "<style scoped>\n",
       "    .dataframe tbody tr th:only-of-type {\n",
       "        vertical-align: middle;\n",
       "    }\n",
       "\n",
       "    .dataframe tbody tr th {\n",
       "        vertical-align: top;\n",
       "    }\n",
       "\n",
       "    .dataframe thead th {\n",
       "        text-align: right;\n",
       "    }\n",
       "</style>\n",
       "<table border=\"1\" class=\"dataframe\">\n",
       "  <thead>\n",
       "    <tr style=\"text-align: right;\">\n",
       "      <th></th>\n",
       "      <th>class</th>\n",
       "      <th>message</th>\n",
       "    </tr>\n",
       "  </thead>\n",
       "  <tbody>\n",
       "    <tr>\n",
       "      <th>0</th>\n",
       "      <td>ham</td>\n",
       "      <td>Go until jurong point, crazy.. Available only ...</td>\n",
       "    </tr>\n",
       "    <tr>\n",
       "      <th>1</th>\n",
       "      <td>ham</td>\n",
       "      <td>Ok lar... Joking wif u oni...</td>\n",
       "    </tr>\n",
       "    <tr>\n",
       "      <th>2</th>\n",
       "      <td>spam</td>\n",
       "      <td>Free entry in 2 a wkly comp to win FA Cup fina...</td>\n",
       "    </tr>\n",
       "  </tbody>\n",
       "</table>\n",
       "</div>"
      ],
      "text/plain": [
       "  class                                            message\n",
       "0   ham  Go until jurong point, crazy.. Available only ...\n",
       "1   ham                      Ok lar... Joking wif u oni...\n",
       "2  spam  Free entry in 2 a wkly comp to win FA Cup fina..."
      ]
     },
     "execution_count": 99,
     "metadata": {},
     "output_type": "execute_result"
    }
   ],
   "source": [
    "df.head(3)"
   ]
  },
  {
   "cell_type": "code",
   "execution_count": 100,
   "id": "2c591b2e-c289-41e5-913b-5cfe0ce50a34",
   "metadata": {},
   "outputs": [],
   "source": [
    "df['message'] = df['message'].apply(clean_text)"
   ]
  },
  {
   "cell_type": "code",
   "execution_count": 101,
   "id": "eb5df59c-9f6b-47de-92ec-f2b526fa3843",
   "metadata": {},
   "outputs": [],
   "source": [
    "df['message'] = df['message'].apply(remove_stopwords)"
   ]
  },
  {
   "cell_type": "code",
   "execution_count": 102,
   "id": "9a8bb79b-1271-4794-81b1-c3aa74a4ded9",
   "metadata": {},
   "outputs": [],
   "source": [
    "def find_root_word(message, stemmer=SnowballStemmer('english')):\n",
    "    root_words = []\n",
    "    for word in message.split(' '):\n",
    "        stem_word = stemmer.stem(word)\n",
    "        root_words.append(stem_word)\n",
    "    return \" \".join(root_words)"
   ]
  },
  {
   "cell_type": "code",
   "execution_count": 103,
   "id": "02044d4b-b1cf-4efb-b802-c6b897739c30",
   "metadata": {},
   "outputs": [],
   "source": [
    "df['message'] = df['message'].apply(find_root_word)"
   ]
  },
  {
   "cell_type": "code",
   "execution_count": 104,
   "id": "1c606768-213c-4d7c-b024-29e880eb924e",
   "metadata": {},
   "outputs": [
    {
     "data": {
      "text/html": [
       "<div>\n",
       "<style scoped>\n",
       "    .dataframe tbody tr th:only-of-type {\n",
       "        vertical-align: middle;\n",
       "    }\n",
       "\n",
       "    .dataframe tbody tr th {\n",
       "        vertical-align: top;\n",
       "    }\n",
       "\n",
       "    .dataframe thead th {\n",
       "        text-align: right;\n",
       "    }\n",
       "</style>\n",
       "<table border=\"1\" class=\"dataframe\">\n",
       "  <thead>\n",
       "    <tr style=\"text-align: right;\">\n",
       "      <th></th>\n",
       "      <th>class</th>\n",
       "      <th>message</th>\n",
       "    </tr>\n",
       "  </thead>\n",
       "  <tbody>\n",
       "    <tr>\n",
       "      <th>0</th>\n",
       "      <td>ham</td>\n",
       "      <td>jurong point crazi avail bugi great world buf...</td>\n",
       "    </tr>\n",
       "    <tr>\n",
       "      <th>1</th>\n",
       "      <td>ham</td>\n",
       "      <td>joke</td>\n",
       "    </tr>\n",
       "  </tbody>\n",
       "</table>\n",
       "</div>"
      ],
      "text/plain": [
       "  class                                            message\n",
       "0   ham   jurong point crazi avail bugi great world buf...\n",
       "1   ham                                              joke "
      ]
     },
     "execution_count": 104,
     "metadata": {},
     "output_type": "execute_result"
    }
   ],
   "source": [
    "df.head(2)"
   ]
  },
  {
   "cell_type": "code",
   "execution_count": 105,
   "id": "461dacd0-c689-451a-8d25-4a51d7447c8d",
   "metadata": {},
   "outputs": [],
   "source": [
    "pipeline = make_pipeline(\n",
    "    CountVectorizer(ngram_range=(1, 2)),\n",
    "    TfidfTransformer(),\n",
    "    LogisticRegression(max_iter=10000,n_jobs=-1)\n",
    ")"
   ]
  },
  {
   "cell_type": "code",
   "execution_count": 106,
   "id": "a1cd94ea-2da0-4248-8840-f1b9995e4b65",
   "metadata": {},
   "outputs": [],
   "source": [
    "from sklearn.model_selection import train_test_split"
   ]
  },
  {
   "cell_type": "code",
   "execution_count": 107,
   "id": "f5f36cac-2c68-48e0-bfc7-8f4425666f38",
   "metadata": {},
   "outputs": [],
   "source": [
    "X_train, X_test, y_train, y_test = train_test_split(df['message'], df['class'])"
   ]
  },
  {
   "cell_type": "code",
   "execution_count": 108,
   "id": "b6fbe166-8d30-4eb5-9b9b-a71cd5b1bb70",
   "metadata": {},
   "outputs": [],
   "source": [
    "model = pipeline.fit(X_train,y_train)"
   ]
  },
  {
   "cell_type": "code",
   "execution_count": 109,
   "id": "2098e0ef-de32-467e-a1da-690a5f669051",
   "metadata": {
    "scrolled": true
   },
   "outputs": [],
   "source": [
    "# pipeline.steps[0][1].vocabulary_"
   ]
  },
  {
   "cell_type": "code",
   "execution_count": 110,
   "id": "71b4e5fe-fc13-498f-9b1e-0ca37431f123",
   "metadata": {},
   "outputs": [],
   "source": [
    "y_hat = model.predict(X_test)"
   ]
  },
  {
   "cell_type": "code",
   "execution_count": 111,
   "id": "edde10e8-2a11-47d8-a6c7-56bb4afffa97",
   "metadata": {},
   "outputs": [],
   "source": [
    "from sklearn.metrics import classification_report"
   ]
  },
  {
   "cell_type": "code",
   "execution_count": 112,
   "id": "54d3bce4-317c-4c3d-88ea-76ad4b794671",
   "metadata": {},
   "outputs": [
    {
     "name": "stdout",
     "output_type": "stream",
     "text": [
      "              precision    recall  f1-score   support\n",
      "\n",
      "         ham       0.94      0.99      0.97      1208\n",
      "        spam       0.93      0.59      0.72       185\n",
      "\n",
      "    accuracy                           0.94      1393\n",
      "   macro avg       0.94      0.79      0.84      1393\n",
      "weighted avg       0.94      0.94      0.93      1393\n",
      "\n"
     ]
    }
   ],
   "source": [
    "print(classification_report(y_test, y_hat))"
   ]
  },
  {
   "cell_type": "code",
   "execution_count": 113,
   "id": "f7222148-6922-4c6c-b0c7-d06bd1feaa7e",
   "metadata": {},
   "outputs": [],
   "source": [
    "from sklearn.naive_bayes import MultinomialNB"
   ]
  },
  {
   "cell_type": "code",
   "execution_count": 114,
   "id": "0bb01154-f88b-4e25-8dc5-af9f8c2bfad9",
   "metadata": {},
   "outputs": [],
   "source": [
    "pipeline = make_pipeline(\n",
    "    CountVectorizer(ngram_range=(1, 2)),\n",
    "    TfidfTransformer(),\n",
    "    MultinomialNB()\n",
    ")"
   ]
  },
  {
   "cell_type": "code",
   "execution_count": 115,
   "id": "42652545-180f-4896-8d2f-ed5c9a7b9897",
   "metadata": {},
   "outputs": [
    {
     "name": "stdout",
     "output_type": "stream",
     "text": [
      "              precision    recall  f1-score   support\n",
      "\n",
      "         ham       0.95      1.00      0.97      1208\n",
      "        spam       1.00      0.62      0.77       185\n",
      "\n",
      "    accuracy                           0.95      1393\n",
      "   macro avg       0.97      0.81      0.87      1393\n",
      "weighted avg       0.95      0.95      0.94      1393\n",
      "\n"
     ]
    }
   ],
   "source": [
    "model = pipeline.fit(X_train, y_train)\n",
    "y_hat = model.predict(X_test)\n",
    "print(classification_report(y_test, y_hat))"
   ]
  },
  {
   "cell_type": "code",
   "execution_count": 116,
   "id": "f101c71d-35f5-4775-a27e-5e43eadd7037",
   "metadata": {},
   "outputs": [],
   "source": [
    "  from sklearn.linear_model import SGDClassifier  "
   ]
  },
  {
   "cell_type": "code",
   "execution_count": 117,
   "id": "ef35b377-14b1-4298-9c85-d9318f79fe49",
   "metadata": {},
   "outputs": [],
   "source": [
    "pipeline = make_pipeline(\n",
    "    CountVectorizer(ngram_range=(1, 2)),\n",
    "    TfidfTransformer(),\n",
    "    SGDClassifier()\n",
    ")"
   ]
  },
  {
   "cell_type": "code",
   "execution_count": 118,
   "id": "d8a509c6-b160-4592-974d-735e71e6d034",
   "metadata": {},
   "outputs": [
    {
     "name": "stdout",
     "output_type": "stream",
     "text": [
      "              precision    recall  f1-score   support\n",
      "\n",
      "         ham       0.98      0.99      0.99      1208\n",
      "        spam       0.94      0.87      0.90       185\n",
      "\n",
      "    accuracy                           0.98      1393\n",
      "   macro avg       0.96      0.93      0.95      1393\n",
      "weighted avg       0.98      0.98      0.98      1393\n",
      "\n"
     ]
    }
   ],
   "source": [
    "model = pipeline.fit(X_train, y_train)\n",
    "y_hat = model.predict(X_test)\n",
    "print(classification_report(y_test, y_hat))"
   ]
  },
  {
   "cell_type": "code",
   "execution_count": 119,
   "id": "02132423-78a6-4fd9-9bb6-73894e9a6360",
   "metadata": {},
   "outputs": [],
   "source": [
    "pipeline = make_pipeline(\n",
    "    CountVectorizer(ngram_range=(1, 2)),\n",
    "    TfidfTransformer(),\n",
    ")"
   ]
  },
  {
   "cell_type": "code",
   "execution_count": 120,
   "id": "322d6ea1-0bda-4fdd-820b-336c98524425",
   "metadata": {},
   "outputs": [
    {
     "data": {
      "text/html": [
       "<style>#sk-container-id-2 {\n",
       "  /* Definition of color scheme common for light and dark mode */\n",
       "  --sklearn-color-text: black;\n",
       "  --sklearn-color-line: gray;\n",
       "  /* Definition of color scheme for unfitted estimators */\n",
       "  --sklearn-color-unfitted-level-0: #fff5e6;\n",
       "  --sklearn-color-unfitted-level-1: #f6e4d2;\n",
       "  --sklearn-color-unfitted-level-2: #ffe0b3;\n",
       "  --sklearn-color-unfitted-level-3: chocolate;\n",
       "  /* Definition of color scheme for fitted estimators */\n",
       "  --sklearn-color-fitted-level-0: #f0f8ff;\n",
       "  --sklearn-color-fitted-level-1: #d4ebff;\n",
       "  --sklearn-color-fitted-level-2: #b3dbfd;\n",
       "  --sklearn-color-fitted-level-3: cornflowerblue;\n",
       "\n",
       "  /* Specific color for light theme */\n",
       "  --sklearn-color-text-on-default-background: var(--sg-text-color, var(--theme-code-foreground, var(--jp-content-font-color1, black)));\n",
       "  --sklearn-color-background: var(--sg-background-color, var(--theme-background, var(--jp-layout-color0, white)));\n",
       "  --sklearn-color-border-box: var(--sg-text-color, var(--theme-code-foreground, var(--jp-content-font-color1, black)));\n",
       "  --sklearn-color-icon: #696969;\n",
       "\n",
       "  @media (prefers-color-scheme: dark) {\n",
       "    /* Redefinition of color scheme for dark theme */\n",
       "    --sklearn-color-text-on-default-background: var(--sg-text-color, var(--theme-code-foreground, var(--jp-content-font-color1, white)));\n",
       "    --sklearn-color-background: var(--sg-background-color, var(--theme-background, var(--jp-layout-color0, #111)));\n",
       "    --sklearn-color-border-box: var(--sg-text-color, var(--theme-code-foreground, var(--jp-content-font-color1, white)));\n",
       "    --sklearn-color-icon: #878787;\n",
       "  }\n",
       "}\n",
       "\n",
       "#sk-container-id-2 {\n",
       "  color: var(--sklearn-color-text);\n",
       "}\n",
       "\n",
       "#sk-container-id-2 pre {\n",
       "  padding: 0;\n",
       "}\n",
       "\n",
       "#sk-container-id-2 input.sk-hidden--visually {\n",
       "  border: 0;\n",
       "  clip: rect(1px 1px 1px 1px);\n",
       "  clip: rect(1px, 1px, 1px, 1px);\n",
       "  height: 1px;\n",
       "  margin: -1px;\n",
       "  overflow: hidden;\n",
       "  padding: 0;\n",
       "  position: absolute;\n",
       "  width: 1px;\n",
       "}\n",
       "\n",
       "#sk-container-id-2 div.sk-dashed-wrapped {\n",
       "  border: 1px dashed var(--sklearn-color-line);\n",
       "  margin: 0 0.4em 0.5em 0.4em;\n",
       "  box-sizing: border-box;\n",
       "  padding-bottom: 0.4em;\n",
       "  background-color: var(--sklearn-color-background);\n",
       "}\n",
       "\n",
       "#sk-container-id-2 div.sk-container {\n",
       "  /* jupyter's `normalize.less` sets `[hidden] { display: none; }`\n",
       "     but bootstrap.min.css set `[hidden] { display: none !important; }`\n",
       "     so we also need the `!important` here to be able to override the\n",
       "     default hidden behavior on the sphinx rendered scikit-learn.org.\n",
       "     See: https://github.com/scikit-learn/scikit-learn/issues/21755 */\n",
       "  display: inline-block !important;\n",
       "  position: relative;\n",
       "}\n",
       "\n",
       "#sk-container-id-2 div.sk-text-repr-fallback {\n",
       "  display: none;\n",
       "}\n",
       "\n",
       "div.sk-parallel-item,\n",
       "div.sk-serial,\n",
       "div.sk-item {\n",
       "  /* draw centered vertical line to link estimators */\n",
       "  background-image: linear-gradient(var(--sklearn-color-text-on-default-background), var(--sklearn-color-text-on-default-background));\n",
       "  background-size: 2px 100%;\n",
       "  background-repeat: no-repeat;\n",
       "  background-position: center center;\n",
       "}\n",
       "\n",
       "/* Parallel-specific style estimator block */\n",
       "\n",
       "#sk-container-id-2 div.sk-parallel-item::after {\n",
       "  content: \"\";\n",
       "  width: 100%;\n",
       "  border-bottom: 2px solid var(--sklearn-color-text-on-default-background);\n",
       "  flex-grow: 1;\n",
       "}\n",
       "\n",
       "#sk-container-id-2 div.sk-parallel {\n",
       "  display: flex;\n",
       "  align-items: stretch;\n",
       "  justify-content: center;\n",
       "  background-color: var(--sklearn-color-background);\n",
       "  position: relative;\n",
       "}\n",
       "\n",
       "#sk-container-id-2 div.sk-parallel-item {\n",
       "  display: flex;\n",
       "  flex-direction: column;\n",
       "}\n",
       "\n",
       "#sk-container-id-2 div.sk-parallel-item:first-child::after {\n",
       "  align-self: flex-end;\n",
       "  width: 50%;\n",
       "}\n",
       "\n",
       "#sk-container-id-2 div.sk-parallel-item:last-child::after {\n",
       "  align-self: flex-start;\n",
       "  width: 50%;\n",
       "}\n",
       "\n",
       "#sk-container-id-2 div.sk-parallel-item:only-child::after {\n",
       "  width: 0;\n",
       "}\n",
       "\n",
       "/* Serial-specific style estimator block */\n",
       "\n",
       "#sk-container-id-2 div.sk-serial {\n",
       "  display: flex;\n",
       "  flex-direction: column;\n",
       "  align-items: center;\n",
       "  background-color: var(--sklearn-color-background);\n",
       "  padding-right: 1em;\n",
       "  padding-left: 1em;\n",
       "}\n",
       "\n",
       "\n",
       "/* Toggleable style: style used for estimator/Pipeline/ColumnTransformer box that is\n",
       "clickable and can be expanded/collapsed.\n",
       "- Pipeline and ColumnTransformer use this feature and define the default style\n",
       "- Estimators will overwrite some part of the style using the `sk-estimator` class\n",
       "*/\n",
       "\n",
       "/* Pipeline and ColumnTransformer style (default) */\n",
       "\n",
       "#sk-container-id-2 div.sk-toggleable {\n",
       "  /* Default theme specific background. It is overwritten whether we have a\n",
       "  specific estimator or a Pipeline/ColumnTransformer */\n",
       "  background-color: var(--sklearn-color-background);\n",
       "}\n",
       "\n",
       "/* Toggleable label */\n",
       "#sk-container-id-2 label.sk-toggleable__label {\n",
       "  cursor: pointer;\n",
       "  display: block;\n",
       "  width: 100%;\n",
       "  margin-bottom: 0;\n",
       "  padding: 0.5em;\n",
       "  box-sizing: border-box;\n",
       "  text-align: center;\n",
       "}\n",
       "\n",
       "#sk-container-id-2 label.sk-toggleable__label-arrow:before {\n",
       "  /* Arrow on the left of the label */\n",
       "  content: \"▸\";\n",
       "  float: left;\n",
       "  margin-right: 0.25em;\n",
       "  color: var(--sklearn-color-icon);\n",
       "}\n",
       "\n",
       "#sk-container-id-2 label.sk-toggleable__label-arrow:hover:before {\n",
       "  color: var(--sklearn-color-text);\n",
       "}\n",
       "\n",
       "/* Toggleable content - dropdown */\n",
       "\n",
       "#sk-container-id-2 div.sk-toggleable__content {\n",
       "  max-height: 0;\n",
       "  max-width: 0;\n",
       "  overflow: hidden;\n",
       "  text-align: left;\n",
       "  /* unfitted */\n",
       "  background-color: var(--sklearn-color-unfitted-level-0);\n",
       "}\n",
       "\n",
       "#sk-container-id-2 div.sk-toggleable__content.fitted {\n",
       "  /* fitted */\n",
       "  background-color: var(--sklearn-color-fitted-level-0);\n",
       "}\n",
       "\n",
       "#sk-container-id-2 div.sk-toggleable__content pre {\n",
       "  margin: 0.2em;\n",
       "  border-radius: 0.25em;\n",
       "  color: var(--sklearn-color-text);\n",
       "  /* unfitted */\n",
       "  background-color: var(--sklearn-color-unfitted-level-0);\n",
       "}\n",
       "\n",
       "#sk-container-id-2 div.sk-toggleable__content.fitted pre {\n",
       "  /* unfitted */\n",
       "  background-color: var(--sklearn-color-fitted-level-0);\n",
       "}\n",
       "\n",
       "#sk-container-id-2 input.sk-toggleable__control:checked~div.sk-toggleable__content {\n",
       "  /* Expand drop-down */\n",
       "  max-height: 200px;\n",
       "  max-width: 100%;\n",
       "  overflow: auto;\n",
       "}\n",
       "\n",
       "#sk-container-id-2 input.sk-toggleable__control:checked~label.sk-toggleable__label-arrow:before {\n",
       "  content: \"▾\";\n",
       "}\n",
       "\n",
       "/* Pipeline/ColumnTransformer-specific style */\n",
       "\n",
       "#sk-container-id-2 div.sk-label input.sk-toggleable__control:checked~label.sk-toggleable__label {\n",
       "  color: var(--sklearn-color-text);\n",
       "  background-color: var(--sklearn-color-unfitted-level-2);\n",
       "}\n",
       "\n",
       "#sk-container-id-2 div.sk-label.fitted input.sk-toggleable__control:checked~label.sk-toggleable__label {\n",
       "  background-color: var(--sklearn-color-fitted-level-2);\n",
       "}\n",
       "\n",
       "/* Estimator-specific style */\n",
       "\n",
       "/* Colorize estimator box */\n",
       "#sk-container-id-2 div.sk-estimator input.sk-toggleable__control:checked~label.sk-toggleable__label {\n",
       "  /* unfitted */\n",
       "  background-color: var(--sklearn-color-unfitted-level-2);\n",
       "}\n",
       "\n",
       "#sk-container-id-2 div.sk-estimator.fitted input.sk-toggleable__control:checked~label.sk-toggleable__label {\n",
       "  /* fitted */\n",
       "  background-color: var(--sklearn-color-fitted-level-2);\n",
       "}\n",
       "\n",
       "#sk-container-id-2 div.sk-label label.sk-toggleable__label,\n",
       "#sk-container-id-2 div.sk-label label {\n",
       "  /* The background is the default theme color */\n",
       "  color: var(--sklearn-color-text-on-default-background);\n",
       "}\n",
       "\n",
       "/* On hover, darken the color of the background */\n",
       "#sk-container-id-2 div.sk-label:hover label.sk-toggleable__label {\n",
       "  color: var(--sklearn-color-text);\n",
       "  background-color: var(--sklearn-color-unfitted-level-2);\n",
       "}\n",
       "\n",
       "/* Label box, darken color on hover, fitted */\n",
       "#sk-container-id-2 div.sk-label.fitted:hover label.sk-toggleable__label.fitted {\n",
       "  color: var(--sklearn-color-text);\n",
       "  background-color: var(--sklearn-color-fitted-level-2);\n",
       "}\n",
       "\n",
       "/* Estimator label */\n",
       "\n",
       "#sk-container-id-2 div.sk-label label {\n",
       "  font-family: monospace;\n",
       "  font-weight: bold;\n",
       "  display: inline-block;\n",
       "  line-height: 1.2em;\n",
       "}\n",
       "\n",
       "#sk-container-id-2 div.sk-label-container {\n",
       "  text-align: center;\n",
       "}\n",
       "\n",
       "/* Estimator-specific */\n",
       "#sk-container-id-2 div.sk-estimator {\n",
       "  font-family: monospace;\n",
       "  border: 1px dotted var(--sklearn-color-border-box);\n",
       "  border-radius: 0.25em;\n",
       "  box-sizing: border-box;\n",
       "  margin-bottom: 0.5em;\n",
       "  /* unfitted */\n",
       "  background-color: var(--sklearn-color-unfitted-level-0);\n",
       "}\n",
       "\n",
       "#sk-container-id-2 div.sk-estimator.fitted {\n",
       "  /* fitted */\n",
       "  background-color: var(--sklearn-color-fitted-level-0);\n",
       "}\n",
       "\n",
       "/* on hover */\n",
       "#sk-container-id-2 div.sk-estimator:hover {\n",
       "  /* unfitted */\n",
       "  background-color: var(--sklearn-color-unfitted-level-2);\n",
       "}\n",
       "\n",
       "#sk-container-id-2 div.sk-estimator.fitted:hover {\n",
       "  /* fitted */\n",
       "  background-color: var(--sklearn-color-fitted-level-2);\n",
       "}\n",
       "\n",
       "/* Specification for estimator info (e.g. \"i\" and \"?\") */\n",
       "\n",
       "/* Common style for \"i\" and \"?\" */\n",
       "\n",
       ".sk-estimator-doc-link,\n",
       "a:link.sk-estimator-doc-link,\n",
       "a:visited.sk-estimator-doc-link {\n",
       "  float: right;\n",
       "  font-size: smaller;\n",
       "  line-height: 1em;\n",
       "  font-family: monospace;\n",
       "  background-color: var(--sklearn-color-background);\n",
       "  border-radius: 1em;\n",
       "  height: 1em;\n",
       "  width: 1em;\n",
       "  text-decoration: none !important;\n",
       "  margin-left: 1ex;\n",
       "  /* unfitted */\n",
       "  border: var(--sklearn-color-unfitted-level-1) 1pt solid;\n",
       "  color: var(--sklearn-color-unfitted-level-1);\n",
       "}\n",
       "\n",
       ".sk-estimator-doc-link.fitted,\n",
       "a:link.sk-estimator-doc-link.fitted,\n",
       "a:visited.sk-estimator-doc-link.fitted {\n",
       "  /* fitted */\n",
       "  border: var(--sklearn-color-fitted-level-1) 1pt solid;\n",
       "  color: var(--sklearn-color-fitted-level-1);\n",
       "}\n",
       "\n",
       "/* On hover */\n",
       "div.sk-estimator:hover .sk-estimator-doc-link:hover,\n",
       ".sk-estimator-doc-link:hover,\n",
       "div.sk-label-container:hover .sk-estimator-doc-link:hover,\n",
       ".sk-estimator-doc-link:hover {\n",
       "  /* unfitted */\n",
       "  background-color: var(--sklearn-color-unfitted-level-3);\n",
       "  color: var(--sklearn-color-background);\n",
       "  text-decoration: none;\n",
       "}\n",
       "\n",
       "div.sk-estimator.fitted:hover .sk-estimator-doc-link.fitted:hover,\n",
       ".sk-estimator-doc-link.fitted:hover,\n",
       "div.sk-label-container:hover .sk-estimator-doc-link.fitted:hover,\n",
       ".sk-estimator-doc-link.fitted:hover {\n",
       "  /* fitted */\n",
       "  background-color: var(--sklearn-color-fitted-level-3);\n",
       "  color: var(--sklearn-color-background);\n",
       "  text-decoration: none;\n",
       "}\n",
       "\n",
       "/* Span, style for the box shown on hovering the info icon */\n",
       ".sk-estimator-doc-link span {\n",
       "  display: none;\n",
       "  z-index: 9999;\n",
       "  position: relative;\n",
       "  font-weight: normal;\n",
       "  right: .2ex;\n",
       "  padding: .5ex;\n",
       "  margin: .5ex;\n",
       "  width: min-content;\n",
       "  min-width: 20ex;\n",
       "  max-width: 50ex;\n",
       "  color: var(--sklearn-color-text);\n",
       "  box-shadow: 2pt 2pt 4pt #999;\n",
       "  /* unfitted */\n",
       "  background: var(--sklearn-color-unfitted-level-0);\n",
       "  border: .5pt solid var(--sklearn-color-unfitted-level-3);\n",
       "}\n",
       "\n",
       ".sk-estimator-doc-link.fitted span {\n",
       "  /* fitted */\n",
       "  background: var(--sklearn-color-fitted-level-0);\n",
       "  border: var(--sklearn-color-fitted-level-3);\n",
       "}\n",
       "\n",
       ".sk-estimator-doc-link:hover span {\n",
       "  display: block;\n",
       "}\n",
       "\n",
       "/* \"?\"-specific style due to the `<a>` HTML tag */\n",
       "\n",
       "#sk-container-id-2 a.estimator_doc_link {\n",
       "  float: right;\n",
       "  font-size: 1rem;\n",
       "  line-height: 1em;\n",
       "  font-family: monospace;\n",
       "  background-color: var(--sklearn-color-background);\n",
       "  border-radius: 1rem;\n",
       "  height: 1rem;\n",
       "  width: 1rem;\n",
       "  text-decoration: none;\n",
       "  /* unfitted */\n",
       "  color: var(--sklearn-color-unfitted-level-1);\n",
       "  border: var(--sklearn-color-unfitted-level-1) 1pt solid;\n",
       "}\n",
       "\n",
       "#sk-container-id-2 a.estimator_doc_link.fitted {\n",
       "  /* fitted */\n",
       "  border: var(--sklearn-color-fitted-level-1) 1pt solid;\n",
       "  color: var(--sklearn-color-fitted-level-1);\n",
       "}\n",
       "\n",
       "/* On hover */\n",
       "#sk-container-id-2 a.estimator_doc_link:hover {\n",
       "  /* unfitted */\n",
       "  background-color: var(--sklearn-color-unfitted-level-3);\n",
       "  color: var(--sklearn-color-background);\n",
       "  text-decoration: none;\n",
       "}\n",
       "\n",
       "#sk-container-id-2 a.estimator_doc_link.fitted:hover {\n",
       "  /* fitted */\n",
       "  background-color: var(--sklearn-color-fitted-level-3);\n",
       "}\n",
       "</style><div id=\"sk-container-id-2\" class=\"sk-top-container\"><div class=\"sk-text-repr-fallback\"><pre>Pipeline(steps=[(&#x27;countvectorizer&#x27;, CountVectorizer(ngram_range=(1, 2))),\n",
       "                (&#x27;tfidftransformer&#x27;, TfidfTransformer())])</pre><b>In a Jupyter environment, please rerun this cell to show the HTML representation or trust the notebook. <br />On GitHub, the HTML representation is unable to render, please try loading this page with nbviewer.org.</b></div><div class=\"sk-container\" hidden><div class=\"sk-item sk-dashed-wrapped\"><div class=\"sk-label-container\"><div class=\"sk-label fitted sk-toggleable\"><input class=\"sk-toggleable__control sk-hidden--visually\" id=\"sk-estimator-id-2\" type=\"checkbox\" ><label for=\"sk-estimator-id-2\" class=\"sk-toggleable__label fitted sk-toggleable__label-arrow fitted\">&nbsp;&nbsp;Pipeline<a class=\"sk-estimator-doc-link fitted\" rel=\"noreferrer\" target=\"_blank\" href=\"https://scikit-learn.org/1.4/modules/generated/sklearn.pipeline.Pipeline.html\">?<span>Documentation for Pipeline</span></a><span class=\"sk-estimator-doc-link fitted\">i<span>Fitted</span></span></label><div class=\"sk-toggleable__content fitted\"><pre>Pipeline(steps=[(&#x27;countvectorizer&#x27;, CountVectorizer(ngram_range=(1, 2))),\n",
       "                (&#x27;tfidftransformer&#x27;, TfidfTransformer())])</pre></div> </div></div><div class=\"sk-serial\"><div class=\"sk-item\"><div class=\"sk-estimator fitted sk-toggleable\"><input class=\"sk-toggleable__control sk-hidden--visually\" id=\"sk-estimator-id-3\" type=\"checkbox\" ><label for=\"sk-estimator-id-3\" class=\"sk-toggleable__label fitted sk-toggleable__label-arrow fitted\">&nbsp;CountVectorizer<a class=\"sk-estimator-doc-link fitted\" rel=\"noreferrer\" target=\"_blank\" href=\"https://scikit-learn.org/1.4/modules/generated/sklearn.feature_extraction.text.CountVectorizer.html\">?<span>Documentation for CountVectorizer</span></a></label><div class=\"sk-toggleable__content fitted\"><pre>CountVectorizer(ngram_range=(1, 2))</pre></div> </div></div><div class=\"sk-item\"><div class=\"sk-estimator fitted sk-toggleable\"><input class=\"sk-toggleable__control sk-hidden--visually\" id=\"sk-estimator-id-4\" type=\"checkbox\" ><label for=\"sk-estimator-id-4\" class=\"sk-toggleable__label fitted sk-toggleable__label-arrow fitted\">&nbsp;TfidfTransformer<a class=\"sk-estimator-doc-link fitted\" rel=\"noreferrer\" target=\"_blank\" href=\"https://scikit-learn.org/1.4/modules/generated/sklearn.feature_extraction.text.TfidfTransformer.html\">?<span>Documentation for TfidfTransformer</span></a></label><div class=\"sk-toggleable__content fitted\"><pre>TfidfTransformer()</pre></div> </div></div></div></div></div></div>"
      ],
      "text/plain": [
       "Pipeline(steps=[('countvectorizer', CountVectorizer(ngram_range=(1, 2))),\n",
       "                ('tfidftransformer', TfidfTransformer())])"
      ]
     },
     "execution_count": 120,
     "metadata": {},
     "output_type": "execute_result"
    }
   ],
   "source": [
    "pipeline.fit(X_train)"
   ]
  },
  {
   "cell_type": "code",
   "execution_count": 121,
   "id": "41b639b1-a212-4e51-b89e-b72667a1a37e",
   "metadata": {},
   "outputs": [],
   "source": [
    "new_messages = [\n",
    "    \"free free free click here to win prize\",\n",
    "    \"hey call me back there is some important news to tell you\"\n",
    "]"
   ]
  },
  {
   "cell_type": "code",
   "execution_count": 122,
   "id": "c945c492-7c52-4baa-b86a-ad29756ffbf1",
   "metadata": {},
   "outputs": [
    {
     "data": {
      "text/plain": [
       "[' free free free click here prize ',\n",
       " ' call back there some important news tell ']"
      ]
     },
     "execution_count": 122,
     "metadata": {},
     "output_type": "execute_result"
    }
   ],
   "source": [
    "new_messages = [clean_text(msg) for msg in new_messages]\n",
    "new_messages"
   ]
  },
  {
   "cell_type": "code",
   "execution_count": 123,
   "id": "31960f15-db89-4338-bed1-0f6e33f375c6",
   "metadata": {},
   "outputs": [
    {
     "data": {
      "text/plain": [
       "[' free free free click prize ', ' call back important news tell ']"
      ]
     },
     "execution_count": 123,
     "metadata": {},
     "output_type": "execute_result"
    }
   ],
   "source": [
    "new_messages = [ remove_stopwords(msg) for msg in new_messages]\n",
    "new_messages"
   ]
  },
  {
   "cell_type": "code",
   "execution_count": 131,
   "id": "7600d68b-e607-4176-bff3-88579860b47e",
   "metadata": {},
   "outputs": [
    {
     "data": {
      "text/plain": [
       "[' free free free click prize ', ' call back import news tell ']"
      ]
     },
     "execution_count": 131,
     "metadata": {},
     "output_type": "execute_result"
    }
   ],
   "source": [
    "new_messages = [find_root_word(msg) for msg in new_messages]\n",
    "new_messages"
   ]
  },
  {
   "cell_type": "code",
   "execution_count": 132,
   "id": "ff06a733-7a7e-48f9-842b-280109524848",
   "metadata": {},
   "outputs": [
    {
     "data": {
      "text/plain": [
       "array(['spam', 'ham'], dtype='<U4')"
      ]
     },
     "execution_count": 132,
     "metadata": {},
     "output_type": "execute_result"
    }
   ],
   "source": [
    "model.predict(new_messages)"
   ]
  },
  {
   "cell_type": "code",
   "execution_count": 125,
   "id": "36b700cd-3a30-4cf2-a55b-bf83b2701e58",
   "metadata": {},
   "outputs": [],
   "source": [
    "#  we use count vectorizer to get the frequency\n",
    "tr_data = pipeline.transform(new_messages).toarray()"
   ]
  },
  {
   "cell_type": "code",
   "execution_count": 126,
   "id": "a32f660c-7662-4a5d-8bdc-fef10a1353b6",
   "metadata": {},
   "outputs": [
    {
     "data": {
      "text/plain": [
       "array([[0., 0., 0., ..., 0., 0., 0.],\n",
       "       [0., 0., 0., ..., 0., 0., 0.]])"
      ]
     },
     "execution_count": 126,
     "metadata": {},
     "output_type": "execute_result"
    }
   ],
   "source": [
    "tr_data"
   ]
  },
  {
   "cell_type": "code",
   "execution_count": 127,
   "id": "9a068c17-73ba-4f86-bc57-3e045d78e578",
   "metadata": {},
   "outputs": [
    {
     "data": {
      "text/plain": [
       "(2, 21448)"
      ]
     },
     "execution_count": 127,
     "metadata": {},
     "output_type": "execute_result"
    }
   ],
   "source": [
    "tr_data.shape"
   ]
  },
  {
   "cell_type": "code",
   "execution_count": 133,
   "id": "c59cbec0-9779-468e-91f7-6546d87a24d9",
   "metadata": {},
   "outputs": [],
   "source": [
    "# model.predict(tr_data)"
   ]
  }
 ],
 "metadata": {
  "kernelspec": {
   "display_name": "Python 3 (ipykernel)",
   "language": "python",
   "name": "python3"
  },
  "language_info": {
   "codemirror_mode": {
    "name": "ipython",
    "version": 3
   },
   "file_extension": ".py",
   "mimetype": "text/x-python",
   "name": "python",
   "nbconvert_exporter": "python",
   "pygments_lexer": "ipython3",
   "version": "3.11.7"
  }
 },
 "nbformat": 4,
 "nbformat_minor": 5
}
