{
 "cells": [
  {
   "cell_type": "markdown",
   "id": "2b7c799a-357c-483d-a1b0-b4c141951b07",
   "metadata": {},
   "source": [
    "### Ridge Regression"
   ]
  },
  {
   "cell_type": "code",
   "execution_count": 1,
   "id": "127d6d94-916e-48a9-8822-ec31509a4e8c",
   "metadata": {},
   "outputs": [],
   "source": [
    "import numpy as np\n",
    "import pandas as pd\n",
    "import matplotlib.pyplot as plt"
   ]
  },
  {
   "cell_type": "code",
   "execution_count": 12,
   "id": "e0bd8274-44b2-4f81-9c12-5f59f87f51fa",
   "metadata": {},
   "outputs": [],
   "source": [
    "# generate a very small and noisy linear dataset\n",
    "np.random.seed(42)\n",
    "m = 20\n",
    "X = 3 * np.random.randn(m,1) \n",
    "y = 1 + 0.5 * X + np.random.randn(m,1) / 1.5\n",
    "X_new = np.linspace(0,3,100).reshape(100,1)"
   ]
  },
  {
   "cell_type": "code",
   "execution_count": 13,
   "id": "e922df58-291e-4a6f-aa93-ee32620db071",
   "metadata": {},
   "outputs": [
    {
     "data": {
      "image/png": "[encoded data removed]",
      "text/plain": [
       "<Figure size 600x400 with 1 Axes>"
      ]
     },
     "metadata": {},
     "output_type": "display_data"
    }
   ],
   "source": [
    "plt.figure(figsize=(6,4))\n",
    "plt.plot(X, y, \".\")\n",
    "plt.xlabel(\"$x_1$\")\n",
    "plt.ylabel(\"$y$\", rotation=0)\n",
    "plt.axis([0, 3, 0, 3.5])\n",
    "plt.grid()\n",
    "plt.show()"
   ]
  },
  {
   "cell_type": "code",
   "execution_count": 17,
   "id": "8a358df4-c720-4828-a338-405ef9fcb541",
   "metadata": {},
   "outputs": [],
   "source": [
    "from sklearn.linear_model import RidgeCV\n",
    "# Implements Ridge regression with built-in cross-validation for choosing the optimal alpha"
   ]
  },
  {
   "cell_type": "code",
   "execution_count": 18,
   "id": "acab98ed-6b95-47bf-8391-d73041ae8edf",
   "metadata": {},
   "outputs": [],
   "source": [
    "from sklearn.linear_model import Ridge\n",
    "#  Requires you to manually specify the regularization strength (alpha). \n",
    "#  You must decide the value of alpha based on prior knowledge or \n",
    "#  through a separate cross-validation process."
   ]
  },
  {
   "cell_type": "code",
   "execution_count": 19,
   "id": "752ab797-7091-4d4c-900d-52c5d20fcd7c",
   "metadata": {},
   "outputs": [
    {
     "data": {
      "text/plain": [
       "array([[1.50110825]])"
      ]
     },
     "execution_count": 19,
     "metadata": {},
     "output_type": "execute_result"
    }
   ],
   "source": [
    "ridge_reg = Ridge(alpha=0.1, solver=\"cholesky\")\n",
    "ridge_reg.fit(X, y)\n",
    "ridge_reg.predict([[1.5]])"
   ]
  },
  {
   "cell_type": "code",
   "execution_count": null,
   "id": "083c41f9-3eab-4305-a166-90ea46ed387f",
   "metadata": {},
   "outputs": [],
   "source": []
  }
 ],
 "metadata": {
  "kernelspec": {
   "display_name": "Python 3 (ipykernel)",
   "language": "python",
   "name": "python3"
  },
  "language_info": {
   "codemirror_mode": {
    "name": "ipython",
    "version": 3
   },
   "file_extension": ".py",
   "mimetype": "text/x-python",
   "name": "python",
   "nbconvert_exporter": "python",
   "pygments_lexer": "ipython3",
   "version": "3.11.7"
  }
 },
 "nbformat": 4,
 "nbformat_minor": 5
}
