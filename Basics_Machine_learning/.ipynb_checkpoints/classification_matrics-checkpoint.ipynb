{
 "cells": [
  {
   "cell_type": "markdown",
   "id": "50587e26-b30f-49ff-a608-5cefef0c4f8e",
   "metadata": {},
   "source": [
    "### Classification Metrics"
   ]
  },
  {
   "cell_type": "code",
   "execution_count": 1,
   "id": "dcd7a776-11ae-45f1-bd8d-1fe13f116d90",
   "metadata": {},
   "outputs": [],
   "source": [
    "import numpy as np\n",
    "import pandas as pd\n",
    "import seaborn as sns\n",
    "from sklearn.datasets import load_iris\n",
    "from sklearn.linear_model import LogisticRegression\n",
    "from sklearn.ensemble import RandomForestClassifier\n",
    "from sklearn.svm import SVC\n",
    "from sklearn.tree import DecisionTreeClassifier"
   ]
  },
  {
   "cell_type": "code",
   "execution_count": 3,
   "id": "e87227a3-a762-476f-8b72-6d14e5d64cc9",
   "metadata": {},
   "outputs": [],
   "source": [
    "# Binary Classification"
   ]
  },
  {
   "cell_type": "code",
   "execution_count": 5,
   "id": "bf835b27-bc32-4c71-93c7-078131ccc4de",
   "metadata": {
    "scrolled": true
   },
   "outputs": [],
   "source": [
    "dataset = load_iris()"
   ]
  },
  {
   "cell_type": "code",
   "execution_count": 6,
   "id": "04d63723-93ad-400c-907d-1eb258881b45",
   "metadata": {},
   "outputs": [
    {
     "name": "stdout",
     "output_type": "stream",
     "text": [
      ".. _iris_dataset:\n",
      "\n",
      "Iris plants dataset\n",
      "--------------------\n",
      "\n",
      "**Data Set Characteristics:**\n",
      "\n",
      ":Number of Instances: 150 (50 in each of three classes)\n",
      ":Number of Attributes: 4 numeric, predictive attributes and the class\n",
      ":Attribute Information:\n",
      "    - sepal length in cm\n",
      "    - sepal width in cm\n",
      "    - petal length in cm\n",
      "    - petal width in cm\n",
      "    - class:\n",
      "            - Iris-Setosa\n",
      "            - Iris-Versicolour\n",
      "            - Iris-Virginica\n",
      "\n",
      ":Summary Statistics:\n",
      "\n",
      "============== ==== ==== ======= ===== ====================\n",
      "                Min  Max   Mean    SD   Class Correlation\n",
      "============== ==== ==== ======= ===== ====================\n",
      "sepal length:   4.3  7.9   5.84   0.83    0.7826\n",
      "sepal width:    2.0  4.4   3.05   0.43   -0.4194\n",
      "petal length:   1.0  6.9   3.76   1.76    0.9490  (high!)\n",
      "petal width:    0.1  2.5   1.20   0.76    0.9565  (high!)\n",
      "============== ==== ==== ======= ===== ====================\n",
      "\n",
      ":Missing Attribute Values: None\n",
      ":Class Distribution: 33.3% for each of 3 classes.\n",
      ":Creator: R.A. Fisher\n",
      ":Donor: Michael Marshall (MARSHALL%PLU@io.arc.nasa.gov)\n",
      ":Date: July, 1988\n",
      "\n",
      "The famous Iris database, first used by Sir R.A. Fisher. The dataset is taken\n",
      "from Fisher's paper. Note that it's the same as in R, but not as in the UCI\n",
      "Machine Learning Repository, which has two wrong data points.\n",
      "\n",
      "This is perhaps the best known database to be found in the\n",
      "pattern recognition literature.  Fisher's paper is a classic in the field and\n",
      "is referenced frequently to this day.  (See Duda & Hart, for example.)  The\n",
      "data set contains 3 classes of 50 instances each, where each class refers to a\n",
      "type of iris plant.  One class is linearly separable from the other 2; the\n",
      "latter are NOT linearly separable from each other.\n",
      "\n",
      "|details-start|\n",
      "**References**\n",
      "|details-split|\n",
      "\n",
      "- Fisher, R.A. \"The use of multiple measurements in taxonomic problems\"\n",
      "  Annual Eugenics, 7, Part II, 179-188 (1936); also in \"Contributions to\n",
      "  Mathematical Statistics\" (John Wiley, NY, 1950).\n",
      "- Duda, R.O., & Hart, P.E. (1973) Pattern Classification and Scene Analysis.\n",
      "  (Q327.D83) John Wiley & Sons.  ISBN 0-471-22361-1.  See page 218.\n",
      "- Dasarathy, B.V. (1980) \"Nosing Around the Neighborhood: A New System\n",
      "  Structure and Classification Rule for Recognition in Partially Exposed\n",
      "  Environments\".  IEEE Transactions on Pattern Analysis and Machine\n",
      "  Intelligence, Vol. PAMI-2, No. 1, 67-71.\n",
      "- Gates, G.W. (1972) \"The Reduced Nearest Neighbor Rule\".  IEEE Transactions\n",
      "  on Information Theory, May 1972, 431-433.\n",
      "- See also: 1988 MLC Proceedings, 54-64.  Cheeseman et al\"s AUTOCLASS II\n",
      "  conceptual clustering system finds 3 classes in the data.\n",
      "- Many, many more ...\n",
      "\n",
      "|details-end|\n",
      "\n"
     ]
    }
   ],
   "source": [
    "print(dataset['DESCR'])"
   ]
  },
  {
   "cell_type": "code",
   "execution_count": 7,
   "id": "0bc8988d-4eb3-48b5-9038-9070d40a2253",
   "metadata": {},
   "outputs": [],
   "source": [
    "X = dataset[\"data\"]"
   ]
  },
  {
   "cell_type": "code",
   "execution_count": 8,
   "id": "515cd28f-e68d-4bf7-8b21-8d3a0d767180",
   "metadata": {},
   "outputs": [
    {
     "data": {
      "text/plain": [
       "array([[5.1, 3.5, 1.4, 0.2],\n",
       "       [4.9, 3. , 1.4, 0.2],\n",
       "       [4.7, 3.2, 1.3, 0.2],\n",
       "       [4.6, 3.1, 1.5, 0.2],\n",
       "       [5. , 3.6, 1.4, 0.2]])"
      ]
     },
     "execution_count": 8,
     "metadata": {},
     "output_type": "execute_result"
    }
   ],
   "source": [
    "X[:5]"
   ]
  },
  {
   "cell_type": "code",
   "execution_count": 9,
   "id": "76136c14-099e-4baf-87a1-04050d023377",
   "metadata": {},
   "outputs": [],
   "source": [
    "y = dataset[\"target\"]"
   ]
  },
  {
   "cell_type": "code",
   "execution_count": 10,
   "id": "38872ca9-38e1-42d0-813f-325ba66b66be",
   "metadata": {},
   "outputs": [
    {
     "data": {
      "text/plain": [
       "array([0, 0, 0, 0, 0])"
      ]
     },
     "execution_count": 10,
     "metadata": {},
     "output_type": "execute_result"
    }
   ],
   "source": [
    "y[:5]"
   ]
  },
  {
   "cell_type": "code",
   "execution_count": 13,
   "id": "5e9b2a4a-2c5f-4eaf-937e-cb4f7289ed7d",
   "metadata": {},
   "outputs": [],
   "source": [
    "from sklearn.metrics import confusion_matrix, precision_score, recall_score, f1_score, accuracy_score, classification_report"
   ]
  },
  {
   "cell_type": "code",
   "execution_count": 21,
   "id": "234c3f72-680e-4f6e-be9a-c242386bb00d",
   "metadata": {},
   "outputs": [
    {
     "data": {
      "text/plain": [
       "array([0, 1, 2])"
      ]
     },
     "execution_count": 21,
     "metadata": {},
     "output_type": "execute_result"
    }
   ],
   "source": [
    "np.unique(y)"
   ]
  },
  {
   "cell_type": "code",
   "execution_count": 22,
   "id": "83b8b117-7652-47e9-8110-0b201615504f",
   "metadata": {},
   "outputs": [],
   "source": [
    "y_b = (y == 1).astype(int)\n",
    "# 1 = versicolor, y == 0 -> versicolor -> True -> 1, False -> 0\n",
    "# y_b = 1 -> versicolor, 0 -> not versicolor"
   ]
  },
  {
   "cell_type": "code",
   "execution_count": 23,
   "id": "4419bda0-2b59-40db-9d7b-e8c63fae8b77",
   "metadata": {},
   "outputs": [
    {
     "data": {
      "text/plain": [
       "array([0, 1])"
      ]
     },
     "execution_count": 23,
     "metadata": {},
     "output_type": "execute_result"
    }
   ],
   "source": [
    "np.unique(y_b)"
   ]
  },
  {
   "cell_type": "code",
   "execution_count": 24,
   "id": "aa1fc41f-3407-4935-9fa5-585896ddc9aa",
   "metadata": {},
   "outputs": [
    {
     "data": {
      "text/plain": [
       "array([0, 0, 0, 0, 0])"
      ]
     },
     "execution_count": 24,
     "metadata": {},
     "output_type": "execute_result"
    }
   ],
   "source": [
    "y_b[:5]"
   ]
  },
  {
   "cell_type": "code",
   "execution_count": 35,
   "id": "9500692c-07d1-414e-ab41-4e85a911d0a9",
   "metadata": {},
   "outputs": [],
   "source": [
    "models = {\n",
    "    \"logistic regression\": LogisticRegression(),\n",
    "    \"Support vector classifier\": SVC(),\n",
    "    \"Decision Tree\": DecisionTreeClassifier(),\n",
    "    \"Random Forest\": RandomForestClassifier()\n",
    "}"
   ]
  },
  {
   "cell_type": "code",
   "execution_count": 40,
   "id": "5c851882-6a07-4405-b504-89a548694cc1",
   "metadata": {},
   "outputs": [
    {
     "name": "stdout",
     "output_type": "stream",
     "text": [
      "                                   logistic regression                                    \n",
      "Confusion Matrix\n",
      "[[88 12]\n",
      " [29 21]]\n",
      "precision:  0.6363636363636364\n",
      "Recall:  0.42\n",
      "F1 Score:  0.5060240963855421\n",
      "Accuracy:  0.7266666666666667\n",
      "------------------------------------------------------------------------------------------\n",
      "                                Support vector classifier                                 \n",
      "Confusion Matrix\n",
      "[[94  6]\n",
      " [ 2 48]]\n",
      "precision:  0.8888888888888888\n",
      "Recall:  0.96\n",
      "F1 Score:  0.9230769230769231\n",
      "Accuracy:  0.9466666666666667\n",
      "------------------------------------------------------------------------------------------\n",
      "                                      Decision Tree                                       \n",
      "Confusion Matrix\n",
      "[[100   0]\n",
      " [  0  50]]\n",
      "precision:  1.0\n",
      "Recall:  1.0\n",
      "F1 Score:  1.0\n",
      "Accuracy:  1.0\n",
      "------------------------------------------------------------------------------------------\n",
      "                                      Random Forest                                       \n",
      "Confusion Matrix\n",
      "[[100   0]\n",
      " [  0  50]]\n",
      "precision:  1.0\n",
      "Recall:  1.0\n",
      "F1 Score:  1.0\n",
      "Accuracy:  1.0\n",
      "------------------------------------------------------------------------------------------\n"
     ]
    }
   ],
   "source": [
    "for model_name, model in models.items():\n",
    "    \n",
    "    model.fit(X, y_b)\n",
    "    y_hat = model.predict(X)\n",
    "\n",
    "    print(model_name.center(90))\n",
    "    print(\"Confusion Matrix\")\n",
    "    print(confusion_matrix(y_b, y_hat))\n",
    "    print(\"precision: \", precision_score(y_b, y_hat))\n",
    "    print(\"Recall: \", recall_score(y_b, y_hat))\n",
    "    print(\"F1 Score: \", f1_score(y_b, y_hat))\n",
    "    print(\"Accuracy: \", accuracy_score(y_b, y_hat))\n",
    "    print(\"-\"*90)\n",
    "    # 1st row -> not versicolor (neg)\n",
    "    # 2nd row -> versicolor (pos)"
   ]
  },
  {
   "cell_type": "code",
   "execution_count": 32,
   "id": "1ba444cd-075e-4ae9-b114-eeeabb744346",
   "metadata": {},
   "outputs": [
    {
     "name": "stdout",
     "output_type": "stream",
     "text": [
      "              precision    recall  f1-score   support\n",
      "\n",
      "           0       0.75      0.88      0.81       100\n",
      "           1       0.64      0.42      0.51        50\n",
      "\n",
      "    accuracy                           0.73       150\n",
      "   macro avg       0.69      0.65      0.66       150\n",
      "weighted avg       0.71      0.73      0.71       150\n",
      "\n"
     ]
    }
   ],
   "source": [
    "print(classification_report(y_b, y_hat))"
   ]
  }
 ],
 "metadata": {
  "kernelspec": {
   "display_name": "Python 3 (ipykernel)",
   "language": "python",
   "name": "python3"
  },
  "language_info": {
   "codemirror_mode": {
    "name": "ipython",
    "version": 3
   },
   "file_extension": ".py",
   "mimetype": "text/x-python",
   "name": "python",
   "nbconvert_exporter": "python",
   "pygments_lexer": "ipython3",
   "version": "3.11.7"
  }
 },
 "nbformat": 4,
 "nbformat_minor": 5
}
