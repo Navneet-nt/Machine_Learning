{
 "cells": [
  {
   "cell_type": "raw",
   "id": "80362d2e-a0e7-4363-8596-c087d605bed9",
   "metadata": {},
   "source": [
    "Q1. NumPY Stands for ?\n",
    " A) Numerical Python\n",
    " B) Number In Python\n",
    " C) Numbering Python\n",
    " D) None of the above"
   ]
  },
  {
   "cell_type": "raw",
   "id": "a8baf50a-4248-460e-b328-4c8f2e2371de",
   "metadata": {},
   "source": [
    "Ans) A) Numerical Python "
   ]
  },
  {
   "cell_type": "raw",
   "id": "40905ea7-1d8c-4ee2-8955-33ba84089cc4",
   "metadata": {},
   "source": [
    "Q2. What is a correct syntax to create a NumPy array ?\n",
    " A) np.object([1, 2, 3, 4, 5])\n",
    " B) np.array([1, 2, 3, 4, 5])\n",
    " C) np.createArray([1, 2, 3, 4, 5])\n",
    " D) None of the above"
   ]
  },
  {
   "cell_type": "raw",
   "id": "d89fe2ad-ea33-492e-b62a-3b0e879f3ed2",
   "metadata": {},
   "source": [
    "Ans) B) np.array([1, 2, 3, 4, 5]) "
   ]
  },
  {
   "cell_type": "raw",
   "id": "637c79d1-186c-4791-8994-25aa74ac084b",
   "metadata": {},
   "source": [
    "Q3. Which of the following arrays is a two dimensional (2-D) array ?\n",
    " A) [[1, 2, 3], [4, 5, 6]]\n",
    " B) [1, 2, 3, 4, 5]\n",
    " C) [[[1, 2, 3, 4, 5]]]\n",
    " D) 45"
   ]
  },
  {
   "cell_type": "raw",
   "id": "66c8de12-8990-41a9-afc9-f08aa7d53087",
   "metadata": {},
   "source": [
    "Ans) A) [[1, 2, 3], [4, 5, 6]] "
   ]
  },
  {
   "cell_type": "raw",
   "id": "63b5c1be-22a4-4bb2-b2fa-7564c25202ed",
   "metadata": {},
   "source": [
    "Q4. What is a correct syntax to check the number of dimensions in an array ?\n",
    " A) arr.dim()\n",
    " B) arr.ndim\n",
    " C) arr.ndim()\n",
    " D) arr.dim"
   ]
  },
  {
   "cell_type": "raw",
   "id": "86bb4872-1104-4bbc-8a6f-1bfc71d0b5a8",
   "metadata": {},
   "source": [
    "Ans) B) arr.ndim "
   ]
  },
  {
   "cell_type": "raw",
   "id": "044f57f6-90a2-4fda-8121-ba2f0c20d7e3",
   "metadata": {},
   "source": [
    "Q5. What is correct syntax to print the first item of an array ?\n",
    " A) print(myArr, 1)\n",
    " B) print(myArr[0])\n",
    " C) print(myArr[1])\n",
    " D) None of Above"
   ]
  },
  {
   "cell_type": "raw",
   "id": "8f97cfef-cf73-4f22-8be8-fa1920e09ffa",
   "metadata": {},
   "source": [
    "Ans) B) print(myArr[0]) "
   ]
  },
  {
   "cell_type": "raw",
   "id": "4c06f5ea-9666-406f-809f-6209044b2201",
   "metadata": {},
   "source": [
    "Q6. What is correct syntax to print the number 8 from the array below \n",
    " arr = np.array([[1, 2, 3, 4, 5], [6, 7, 8, 9, 10]])\n",
    " \n",
    " A) print(arr[7, 2])\n",
    " B) print(arr[1, 2])\n",
    " C) print(arr[2, 3])\n",
    " D) print(arr[1, 3])"
   ]
  },
  {
   "cell_type": "raw",
   "id": "fffda5da-ec00-400c-b3e1-ad26d77725ae",
   "metadata": {},
   "source": [
    "Ans) B) print(arr[1, 2]) "
   ]
  },
  {
   "cell_type": "raw",
   "id": "edc2ad32-c2ec-4a38-a9cb-4f562a166726",
   "metadata": {},
   "source": [
    "Q7. What is correct syntax to print the number [3, 4, 5] from the array below: \n",
    " \n",
    " arr = np.array([1, 2, 3, 4, 5, 6, 7])\n",
    " \n",
    " A) print(arr[2:6])\n",
    " B) print(arr[2:5])\n",
    " C) print(arr[2:4])\n",
    " D) print(arr[3:6])"
   ]
  },
  {
   "cell_type": "raw",
   "id": "1d25b9e0-00c9-4a52-b9d9-95e6f2846545",
   "metadata": {},
   "source": [
    "Ans) B) print(arr[2:5]) "
   ]
  },
  {
   "cell_type": "raw",
   "id": "fe2ae7ee-fcc7-44d8-9344-75898ec6d674",
   "metadata": {},
   "source": [
    "Q8. Which syntax would print the last 4 numbers from the array below \n",
    " arr = np.array([1, 2, 3, 4, 5, 6, 7])\n",
    " \n",
    " A) print(arr[3:])\n",
    " B) print(arr[4])\n",
    " C) print(arr[4:])\n",
    " D) print(arr[:4])"
   ]
  },
  {
   "cell_type": "raw",
   "id": "cd7b344c-b439-4848-90cf-8c4ae8889fd5",
   "metadata": {},
   "source": [
    "Ans) C) print(arr[4:]) "
   ]
  },
  {
   "cell_type": "raw",
   "id": "d985fd7e-aa09-4a7a-b42b-da34b90000d1",
   "metadata": {},
   "source": [
    "Q9. Which syntax would print every other item from the array below\n",
    " arr = np.array([1, 2, 3, 4, 5, 6, 7])\n",
    " \n",
    " A) print(arr[0:6:2])\n",
    " B) print(arr[::2])\n",
    " C) print(arr[1:3:5:7])\n",
    " D) print(arr[1::2])"
   ]
  },
  {
   "cell_type": "raw",
   "id": "1e9953e3-2da1-43b7-9fb5-be87aefb78cd",
   "metadata": {},
   "source": [
    "Ans) B) print(arr[::2])"
   ]
  },
  {
   "cell_type": "raw",
   "id": "73a03b6c-736f-42c5-9819-6985c21d2fa6",
   "metadata": {},
   "source": [
    "Q10. What is a correct syntax to check the data type of an array ?\n",
    " A) arr.dtype\n",
    " B) arr.datatype\n",
    " C) arr.type\n",
    " D) print(type(arr)"
   ]
  },
  {
   "cell_type": "raw",
   "id": "01eea444-843c-432f-b2a5-ac436eb34c0e",
   "metadata": {},
   "source": [
    "Ans) A) arr.dtype "
   ]
  },
  {
   "cell_type": "raw",
   "id": "f26d4eaf-c04a-4a0a-a320-d44b4a3dc6c2",
   "metadata": {},
   "source": [
    "Q11. What is a correct syntax to create an array of type float ?\n",
    " A) arr = np.float([1, 2, 3, 4])\n",
    " B) arr = np.array([1, 2, 3, 4]).toFloat()\n",
    " C) arr = np.array([1, 2, 3, 4], dtype=np.float)\n",
    " D) arr = np.array([1, 2, 3, 4], type=float)"
   ]
  },
  {
   "cell_type": "raw",
   "id": "e46b28b8-056e-4bbb-b8a4-676537c128bc",
   "metadata": {},
   "source": [
    "Ans) C) arr = np.array([1, 2, 3, 4], dtype=np.float)"
   ]
  },
  {
   "cell_type": "raw",
   "id": "d20bf6c9-9ef3-4315-81da-fba78324b050",
   "metadata": {},
   "source": [
    "Q12. Only one of the following statements is true when it comes to Views in NumPy, which one ?\n",
    " A) The view SHOULD NOT be affected by the changes made to the original array.\n",
    " B) The view SHOULD BE Affected by the changes made to the original array.\n",
    " C) Changes Made to View Will not Reflect to Original Array\n",
    " D) Views are Deep Copy of Original Array "
   ]
  },
  {
   "cell_type": "raw",
   "id": "d40a752c-e130-4da3-b7f8-4b6104756298",
   "metadata": {},
   "source": [
    "Ans) B) The view SHOULD BE Affected by the changes made to the original array. "
   ]
  },
  {
   "cell_type": "raw",
   "id": "d0a5fb9d-eaae-4cfb-9cf8-ca92d31edc36",
   "metadata": {},
   "source": [
    "Q13. Only one of the following statemets is true when it comes to Copies in NumPy which one ?\n",
    " A) The copy SHOULD be affected by the changes made to the original array.\n",
    " B) Original Array SHOULD be affected by Changes Made to the Copy.\n",
    " C) The copy SHOULD NOT be affected by the changes made to the original array.\n",
    " D) Copy is just SHALLOW COPY of Original Array"
   ]
  },
  {
   "cell_type": "raw",
   "id": "264238f2-2358-45a7-89ba-3d975161a5dc",
   "metadata": {},
   "source": [
    "Ans) C) The copy SHOULD NOT be affected by the changes made to the original array. "
   ]
  },
  {
   "cell_type": "raw",
   "id": "8b0e19a0-7b14-4054-81d0-c0743d0ec982",
   "metadata": {},
   "source": [
    "Q14. In Numpy, what does the SHAPE of an array mean ?\n",
    " A) The shape is the number of columns.\n",
    " B) The shape is the number of rows. \n",
    " C) The shape is the number of elements in each dimensions.\n",
    " D) None of the Above"
   ]
  },
  {
   "cell_type": "raw",
   "id": "e611657c-b3be-45c5-820a-355d32d0a44d",
   "metadata": {},
   "source": [
    "Ans) C) The shape is the number of elements in each dimensions. "
   ]
  },
  {
   "cell_type": "raw",
   "id": "6e5b76ee-4ada-47df-bdcb-0f6d6a20c86a",
   "metadata": {},
   "source": [
    "Q15. What is a correct syntax to return the shape of an array ?\n",
    " A) arr.shape\n",
    " B) arr.shape()\n",
    " C) shape(arr)\n",
    " D) arr.ndim"
   ]
  },
  {
   "cell_type": "raw",
   "id": "c433016d-9584-4405-9b8b-5d538d1cfa18",
   "metadata": {},
   "source": [
    "Ans) A) arr.shape "
   ]
  },
  {
   "cell_type": "raw",
   "id": "22ee987f-6db6-4f87-9831-36ed8a8ff077",
   "metadata": {},
   "source": [
    "Q16. What is a correct method to join two or more arrays ?\n",
    " A) Concatenate()\n",
    " B) array_join()\n",
    " C) Join()\n",
    " D) None of the Above"
   ]
  },
  {
   "cell_type": "raw",
   "id": "969b9448-6f70-4c67-8eb2-a4ea35d835d5",
   "metadata": {},
   "source": [
    "Ans) A) Concatenate() "
   ]
  },
  {
   "cell_type": "raw",
   "id": "8ab56191-b410-45b2-a5b4-046d5ab70aec",
   "metadata": {},
   "source": [
    "Q17. What is a correct method to split arrays ?\n",
    " A) array_split()\n",
    " B) vstack()\n",
    " C) hstack()\n",
    " D) All the other 3 answeres are correct "
   ]
  },
  {
   "cell_type": "raw",
   "id": "a6c06f78-e81d-4371-bc76-04e95d309521",
   "metadata": {},
   "source": [
    "Ans) A) array_split() "
   ]
  },
  {
   "cell_type": "raw",
   "id": "97b55e0b-950d-494f-a4cb-0b70ff64b9e5",
   "metadata": {},
   "source": [
    "Q18. What is a correct method to search for a certain value in an array ?\n",
    " A) where()\n",
    " B) search()\n",
    " C) find()\n",
    " D) None of the Above"
   ]
  },
  {
   "cell_type": "raw",
   "id": "4a6dc155-3d59-485d-9bfe-7a72e540ff83",
   "metadata": {},
   "source": [
    "Ans) A) where() "
   ]
  },
  {
   "cell_type": "raw",
   "id": "c1f69c72-d511-4042-b071-e1682346c975",
   "metadata": {},
   "source": [
    "Q19. What is a correct syntax to return the index of all items that has the value 4 from the array \n",
    "below ?\n",
    " arr = np.array([1, 4, 3, 4, 5, 4, 4])\n",
    " \n",
    " A) np.where(arr==4)\n",
    " B) np.search(4)\n",
    " C) arr.find(4)\n",
    " D) arr[arr==4]"
   ]
  },
  {
   "cell_type": "raw",
   "id": "f87aece3-93ff-4ef0-a546-a7a4c7ae1f85",
   "metadata": {},
   "source": [
    "Ans) A) np.where(arr==4) "
   ]
  },
  {
   "cell_type": "raw",
   "id": "f91977c6-795d-4cec-b354-bbb7ae6e0cb4",
   "metadata": {},
   "source": [
    "Q19. What is a correct method to sort the elements of an array ?\n",
    " A) orderby()\n",
    " B) order()\n",
    " C) sort()\n",
    " D) argsort()"
   ]
  },
  {
   "cell_type": "raw",
   "id": "0f5f36ab-3220-4ac6-97db-ba42ee3021ba",
   "metadata": {},
   "source": [
    "Ans) C) sort() "
   ]
  },
  {
   "cell_type": "raw",
   "id": "c241a342-1873-45a2-b997-57b1979ae8ef",
   "metadata": {},
   "source": [
    "Q20. When using the NumPy random module, how can you return a random number from 0 to 100 ?\n",
    " A) np.random.randint(100)\n",
    " B) np.random.rand(100)\n",
    " C) np.random.rand(100)\n",
    " D) np.random.randint(0, 100, 2)"
   ]
  },
  {
   "cell_type": "raw",
   "id": "b73efb79-26aa-4ff7-9e27-75519f49a3e2",
   "metadata": {},
   "source": [
    "Ans) A) np.random.randint(100) "
   ]
  },
  {
   "cell_type": "raw",
   "id": "eae4e6f6-dae6-4ba1-8237-74a57d7b2098",
   "metadata": {},
   "source": [
    "Q21. When using the NumPy random module, how can you return a Normal Data Distribution with \n",
    "1000 numbers, concentrated around the number 50, with a standard deviation of 0.2 ?\n",
    " A) random.normal(size=1000, normal=50, s=0.1)\n",
    " B) random.normal(size=1000, loc=50, scale=0.2)\n",
    " C) random.normal(size=1000, mean=50, std=0.2)\n",
    " D) random.normal(50, 20, 1000)"
   ]
  },
  {
   "cell_type": "raw",
   "id": "df444995-5381-4ea7-acb4-c3505670aecf",
   "metadata": {},
   "source": [
    "Ans) B) random.normal(size=1000, loc=50, scale=0.2) "
   ]
  },
  {
   "cell_type": "raw",
   "id": "6c41303d-3c37-48c8-b4c9-1c276ca7eadb",
   "metadata": {},
   "source": [
    "Q22. What is a correct syntax to mathematically add the numbers of arr1 to the numbers of arr2 ?\n",
    " A) sum(arr1, arr2)\n",
    " B) np.add(arr1, arr2)\n",
    " C) np.append(arr1, arr2)\n",
    " D) np.sum((arr1, arr2))"
   ]
  },
  {
   "cell_type": "raw",
   "id": "a9eec7e3-ab1c-44ec-a496-de15bfda5e4d",
   "metadata": {},
   "source": [
    "Ans) B) np.add(arr1, arr2)"
   ]
  },
  {
   "cell_type": "raw",
   "id": "e74840f1-a9a0-44f9-9d9a-3e66f17d9505",
   "metadata": {},
   "source": [
    "Q23. What is a correct syntax to subtract the numbers from arr1 with the numbers from arr2 ? \n",
    " A) np.min(arr1, arr2)\n",
    " B) np.minus(arr1, arr2)\n",
    " C) np.sub(arr1, arr2)\n",
    " D) np.subtract(arr1, arr2)"
   ]
  },
  {
   "cell_type": "raw",
   "id": "5edf02f3-9380-44f7-8895-09ee4ef96aba",
   "metadata": {},
   "source": [
    "Ans) D) np.subtract(arr1, arr2)"
   ]
  },
  {
   "cell_type": "raw",
   "id": "ef95aa2d-2904-4710-85b8-97a88a96afaf",
   "metadata": {},
   "source": [
    "Q24. What is a correct method to round decimals in NumPY ?\n",
    " A) All the other 3 are rounding methods in NumPy\n",
    " B) np.fix()\n",
    " C) np.trunc()\n",
    " D) np.around()"
   ]
  },
  {
   "cell_type": "raw",
   "id": "550ec43d-a8a3-465f-9253-e00c60eafd0f",
   "metadata": {},
   "source": [
    "Ans) A) All the other 3 are rounding methods in NumPy"
   ]
  },
  {
   "cell_type": "raw",
   "id": "07754c5d-99dd-4bb6-a96a-9be950e21d40",
   "metadata": {},
   "source": [
    "Q25. What would be the answer of this cumulative summation in NumPy ?\n",
    " arr = np.array([1, 2, 3])\n",
    " print(np.cumsum(arr))\n",
    " \n",
    " A) [6]\n",
    " B) [1 3 6]\n",
    " C) [10]\n",
    " D) [3 6 9]\n"
   ]
  },
  {
   "cell_type": "raw",
   "id": "fd9b883d-948b-4726-bfbe-38544eefed36",
   "metadata": {},
   "source": [
    "Ans) B) [1 3 6]"
   ]
  },
  {
   "cell_type": "raw",
   "id": "ce145148-e141-415b-9b07-4bd28cac24ec",
   "metadata": {},
   "source": [
    "Q26. Which of the function is a function to create a numpy array ?\n",
    " A) empty()\n",
    " B) array()\n",
    " C) ones()\n",
    " D) All the above"
   ]
  },
  {
   "cell_type": "raw",
   "id": "23564fb7-bce8-4de4-97b2-ee2f7d028d0e",
   "metadata": {},
   "source": [
    "Ans) D) All the above"
   ]
  },
  {
   "cell_type": "raw",
   "id": "17314bd4-3d59-4ee0-9bb4-93180a6a8eae",
   "metadata": {},
   "source": [
    "Q27. What is the output of the below code ?\n",
    " np.arange(2, 8)\n",
    " \n",
    " A) array([2, 3, 4, 5, 6, 7, 8])\n",
    " B) array([2, 3, 4, 5, 6, 7])\n",
    " C) array([3, 4, 5, 6, 7])\n",
    " D) array([3, 4, 5, 6, 7, 8])"
   ]
  },
  {
   "cell_type": "raw",
   "id": "8c86daf9-b645-4bf8-9333-78831ac2b75b",
   "metadata": {},
   "source": [
    "Ans) B) array([2, 3, 4, 5, 6, 7])"
   ]
  },
  {
   "cell_type": "raw",
   "id": "fec109ed-3001-4154-874e-350bf1181dbf",
   "metadata": {},
   "source": [
    "Q28. Find the output of the below code.\n",
    " \n",
    " a = np.array([[[1, 2, 3], [4, 5, 6]]])\n",
    " print(a.ndim)\n",
    " \n",
    " A) 1\n",
    " B) 2\n",
    " C) 3\n",
    " D) (1, 2, 3)"
   ]
  },
  {
   "cell_type": "raw",
   "id": "fc179631-3c67-4555-8f25-fd8668a9c157",
   "metadata": {},
   "source": [
    "Ans) C) 3"
   ]
  },
  {
   "cell_type": "raw",
   "id": "3f5c1623-34d6-4aa4-a5a6-3c8301572fcd",
   "metadata": {},
   "source": [
    "Q29. What does the function itemsize() return ?\n",
    " A) It returns the size of the array\n",
    " B) It returns the number of elements in the array\n",
    " C) It returns the byte size of each element of the array\n",
    " D) None of the above"
   ]
  },
  {
   "cell_type": "raw",
   "id": "88dd356b-5015-4405-beff-82ab743991cb",
   "metadata": {},
   "source": [
    "Ans) C) It returns the byte size of each element of the array\n"
   ]
  },
  {
   "cell_type": "raw",
   "id": "59940ab3-4b65-4de2-aed9-82e76af24834",
   "metadata": {},
   "source": [
    "Q30. Find the output of the below code \n",
    " \n",
    " arr = np.array([[1, 2, 3], [4, 5, 6]])\n",
    " print(arr[1, 2])\n",
    " \n",
    " A) 6\n",
    " B) 5\n",
    " C) 2\n",
    " D) Index Error"
   ]
  },
  {
   "cell_type": "raw",
   "id": "c27605ea-ea10-4331-b957-9a3ce669f7f9",
   "metadata": {},
   "source": [
    "Ans) A) 6"
   ]
  },
  {
   "cell_type": "raw",
   "id": "8872a3a2-91bf-48c3-8fdc-bbfee78122f4",
   "metadata": {},
   "source": [
    "Q31. What is the ouput of the below code ?\n",
    " np.linspace(1, 5, 5)\n",
    " \n",
    " A) array([1., 2.3333333, 3.66666, 5.])\n",
    " B) array([1, 2, 3, 4, 5])\n",
    " C) array([1, 1.8, 2.6, 3.4, 4.2, 5])\n",
    " D) array([1, 2, 3, 4])"
   ]
  },
  {
   "cell_type": "raw",
   "id": "ab161456-c81a-4b86-bf0a-76a82c1ba828",
   "metadata": {},
   "source": [
    "Ans) B) array([1., 2., 3., 4., 5.])"
   ]
  },
  {
   "cell_type": "raw",
   "id": "50b50883-fe4e-4b4b-a134-d5439401b10f",
   "metadata": {},
   "source": [
    "Q32. Which of the following is code gives an error ?\n",
    "A) a = np.array([(1, 2, 3), (4, 5, 6)]); a[(0, 1)]\n",
    " B) a = np.array([(1, 2, 3), (4, 5, 6)]); a.reshape(2, 4)\n",
    " C) a = np.array([(1, 2, 3), (4, 5, 6)]); a[np.arange(1), :] \n",
    " D) All the above"
   ]
  },
  {
   "cell_type": "raw",
   "id": "c4cef06f-1551-4a1a-b543-915e41d18ced",
   "metadata": {},
   "source": [
    "Ans) B) a = np.array([(1, 2, 3), (4, 5, 6)]); a.reshape(2, 4)"
   ]
  },
  {
   "cell_type": "raw",
   "id": "f45dbde0-e9b3-4d80-9af9-ded643c4aa4f",
   "metadata": {},
   "source": [
    "Q33. What is the output of the below code ?\n",
    " print(np.zeros(5).dtype)\n",
    " \n",
    " A) int8\n",
    " B) int16\n",
    " C) uint8\n",
    " D) float64"
   ]
  },
  {
   "cell_type": "raw",
   "id": "bcd5737f-9c7e-445d-a5f9-fed02daa3509",
   "metadata": {},
   "source": [
    "Ans) D) float64"
   ]
  },
  {
   "cell_type": "raw",
   "id": "fb8f592b-8672-4e18-b55b-433ded9294e0",
   "metadata": {},
   "source": [
    "Q34. Which of the following is not true about the identity matrix?\n",
    " \n",
    " A) It is a square matrix\n",
    " B) It contains 1s in all the diagonals\n",
    " C) We can create an identity matrix using the identity() function\n",
    " D) None of the Above"
   ]
  },
  {
   "cell_type": "raw",
   "id": "54d747ee-9329-4ccd-874f-0aa24f385272",
   "metadata": {},
   "source": [
    "Ans) D) None of the Above"
   ]
  },
  {
   "cell_type": "raw",
   "id": "4508aded-a6c6-48e8-8581-b8d7e4722fc5",
   "metadata": {},
   "source": [
    "Q35. what is the output of the below code ?\n",
    " \n",
    " np.array([[1, 2, 3], [4, 5, 6]]).ravel()\n",
    " \n",
    " A) array([1, 2, 3, 4, 5, 6])\n",
    " B) array([4, 5, 6, 1, 2, 3])\n",
    " C) array([[1, 2, 3, 4, 5, 6])\n",
    " D) Syntax Error"
   ]
  },
  {
   "cell_type": "raw",
   "id": "e22e81d9-863d-49a7-990e-cddf0caff1c6",
   "metadata": {},
   "source": [
    "Ans) A) array([1, 2, 3, 4, 5, 6])"
   ]
  },
  {
   "cell_type": "raw",
   "id": "28ffa179-ddcc-4286-ab15-8d9e68329517",
   "metadata": {},
   "source": [
    "Q36. Which of the following will give the output as \n",
    " array([[1, 2, 3, 1, 2, 3], [4, 5, 6, 4, 5, 6]])\n",
    " \n",
    " A) arr = np.array([[1, 2, 3], [4, 5, 6]]); np.vstack((arr, arr))\n",
    " B) arr = np.array([[1, 2, 3], [4, 5, 6]]); np.hstack((arr, arr))\n",
    " C) arr = np.array([[1, 2, 3], [4, 5, 6]]); np.hstack(arr)\n",
    " D) arr = np.array([[1, 2, 3], [4, 5, 6]]); np.vstack(arr)"
   ]
  },
  {
   "cell_type": "raw",
   "id": "e545e42e-3a1d-4af9-bedb-0f44291d6078",
   "metadata": {},
   "source": [
    "Ans) B) arr = np.array([[1, 2, 3], [4, 5, 6]]); np.hstack((arr, arr))"
   ]
  },
  {
   "cell_type": "raw",
   "id": "d1e3b36d-db3c-4257-ad41-92fd2179acaf",
   "metadata": {},
   "source": [
    "Q37. Which of the follwing functions i sused to create an array containing constant value ?\n",
    " \n",
    " A) constant()\n",
    " B) same()\n",
    " C) full()\n",
    " D) All the above"
   ]
  },
  {
   "cell_type": "raw",
   "id": "a1c565c7-d840-4ea7-bfe2-38f55b00e7ee",
   "metadata": {},
   "source": [
    "Ans) C) full()"
   ]
  },
  {
   "cell_type": "raw",
   "id": "f8d6dbeb-3353-4806-804c-2368db5bd39d",
   "metadata": {},
   "source": [
    "Q38. Which of the following codes give an error ?\n",
    " A) a1 = np.array([1, 2, 3]); a2 = np.array([0, 4, 9]); a1.dot(a2)\n",
    " B) a1 = np.array([1, 2, 3, 3]); a2 = np.array([0, 4, 9]); np.add(a1, a2)\n",
    " C) a = np.array([[1, 3, 5], [4, 6, 8]]); np.sum(a)\n",
    " D) All the above"
   ]
  },
  {
   "cell_type": "raw",
   "id": "f80e73a0-4670-43bb-8638-9080c01bcc26",
   "metadata": {},
   "source": [
    "Ans) D) All the above"
   ]
  },
  {
   "cell_type": "raw",
   "id": "11024c3e-9037-40d5-bf80-58aad0e19bde",
   "metadata": {},
   "source": [
    "Q39. Which of the following is the correct way to transpose of matrix A ?\n",
    " A) Trans(A)\n",
    " B) Transpose(A)\n",
    " C) A.T\n",
    " D) A.Transpose"
   ]
  },
  {
   "cell_type": "raw",
   "id": "c88577af-f54a-4f50-b886-07e4bb67594b",
   "metadata": {},
   "source": [
    "Ans) C) A.T"
   ]
  },
  {
   "cell_type": "raw",
   "id": "2c7f511d-d09a-4ab5-940c-eaaf15077569",
   "metadata": {},
   "source": [
    "Q40. What is the output of the below code snippet ?\n",
    "```\n",
    "import numpy as np\n",
    "arr1 = np.array([7,8,9,10])\n",
    "arr2 = np.array([1,2,3,4])\n",
    "arr3 = arr1 + arr2\n",
    "arr3 = arr3*arr1\n",
    "print (arr3[2])\n",
    "```\n",
    " A) 21\n",
    " B) 108\n",
    " C) 80\n",
    " D) 12"
   ]
  },
  {
   "cell_type": "raw",
   "id": "f8084e5f-b375-407f-ab29-58ff390e5407",
   "metadata": {},
   "source": [
    "Ans) B) 108"
   ]
  },
  {
   "cell_type": "raw",
   "id": "10776d71-47de-4962-963a-079c4ab041ac",
   "metadata": {},
   "source": [
    "Q41. What does the size attribute in numpy use to find ?\n",
    " A) number of items\n",
    " B) shape\n",
    " C) date & time\n",
    " D) unique items"
   ]
  },
  {
   "cell_type": "raw",
   "id": "078605e7-faed-4a70-8d43-d428b91a5949",
   "metadata": {},
   "source": [
    "Ans) A) number of items"
   ]
  },
  {
   "cell_type": "raw",
   "id": "8578914e-5457-426e-aa38-3d5a1b41857d",
   "metadata": {},
   "source": [
    "Q42. What is the output of the below code snippet?\n",
    "```\n",
    "import numpy as np\n",
    "arr = np.array([[4,2,0,5],[1,3,5,7]])\n",
    "print (arr.size)\n",
    "```\n",
    " A) 8\n",
    " B) 4\n",
    " C) 2\n",
    " D) 6"
   ]
  },
  {
   "cell_type": "raw",
   "id": "d1698a2b-86dc-4ce4-b119-4ab156eed316",
   "metadata": {},
   "source": [
    "Ans) A) 8"
   ]
  },
  {
   "cell_type": "raw",
   "id": "b40e5569-8a9d-4b4d-9a57-b0a5b8310189",
   "metadata": {},
   "source": [
    "Q43. What method is used for changing the shape of numpy arrays?\n",
    " \n",
    " A) Shape()\n",
    " B) change_shape()\n",
    " C) update_shape()\n",
    " D) reshape()"
   ]
  },
  {
   "cell_type": "raw",
   "id": "46116454-7a8b-42b5-82a4-f298846529f4",
   "metadata": {},
   "source": [
    "Ans) D) reshape()"
   ]
  },
  {
   "cell_type": "raw",
   "id": "864cca09-c96c-4b21-b48c-2eabcd484fd1",
   "metadata": {},
   "source": [
    "Q44. What is the purpose of zero() function ?\n",
    " A) To create a matrix with the first row and first column as 0\n",
    " B) To create a matrix with diagonal elements as 0\n",
    " C) To create a matrix with all elements as 0\n",
    " D) To return an integer number 0"
   ]
  },
  {
   "cell_type": "raw",
   "id": "2c55d6ba-06fe-4702-9bdf-f63ce006fcae",
   "metadata": {},
   "source": [
    "Ans) C) To create a matrix with all elements as 0"
   ]
  },
  {
   "cell_type": "raw",
   "id": "acebbe88-2133-4357-a24b-8a97104d7f24",
   "metadata": {},
   "source": [
    "Q45. What is the output of the below code ?\n",
    "```\n",
    "import numpy as np\n",
    "a = np.array([1, 2, 3, 4])\n",
    "b = np.array([5, 6, 7])\n",
    "c = np.array([8, 9, 10, 11, 12])\n",
    "p, q, r = np.ix_(a, b, c)\n",
    "print(p) \n",
    "```\n",
    " A) [[[1]], [[2]], [[3]], [[4]]]\n",
    " B) [[[5], [6], [7]]]\n",
    " C) [[[8, 9, 10, 11, 12]]]\n",
    " D) [[[1]], [[2]], [[3]], [[4]], [[5]], [[6]], [[7]], [[8]], [[9]], [[10]], [[11]], [[12]]]"
   ]
  },
  {
   "cell_type": "raw",
   "id": "d2284558-c237-4df6-ad3a-21f2c7fad5fb",
   "metadata": {},
   "source": [
    "Ans) A) [[[1]], [[2]], [[3]], [[4]]]"
   ]
  },
  {
   "cell_type": "raw",
   "id": "1a52736c-e227-4fa8-8dce-680580d08a20",
   "metadata": {},
   "source": [
    "Q46. NumPy arrays can be ___.\n",
    " A) Indexed\n",
    " B) Sliced\n",
    " C) Iterated\n",
    " D) All of the mentioned above"
   ]
  },
  {
   "cell_type": "raw",
   "id": "2a0e04e7-cc50-4ff4-a8ca-3197433e2ee8",
   "metadata": {},
   "source": [
    "Ans) D) All of the mentioned above"
   ]
  },
  {
   "cell_type": "raw",
   "id": "d98dc93d-cfcd-4425-b5ba-0ef4b347f956",
   "metadata": {},
   "source": [
    "Q47. Observe the following code and identify what will be the outcome?\n",
    "```\n",
    "import numpy as np \n",
    "x = np.array([[0, 1],\n",
    " [2, 3]])\n",
    "np.transpose(x)\n",
    "```\n",
    " A) array([[0, 2], [1, 3]])\n",
    " B) array([[0, 1], [2, 3]])\n",
    " C) array([[2, 3], [0, 1]])\n",
    " D) None of the mentioned above"
   ]
  },
  {
   "cell_type": "raw",
   "id": "dbe153d2-525c-41b4-ac95-27eec0f5a592",
   "metadata": {},
   "source": [
    "Ans) A) array([[0, 2], [1, 3]])"
   ]
  },
  {
   "cell_type": "raw",
   "id": "85500a75-9c7e-4bbb-8219-c93900f918a8",
   "metadata": {},
   "source": [
    "Q48. Observe the following code and identify what will be the outcome?\n",
    "```\n",
    "import numpy as np \n",
    "a = np.array([10, 20, 30, 40])\n",
    "b = np.array([18, 15, 14])\n",
    "c = np.array([25, 24, 26, 28, 23])\n",
    "x, y, z = np.ix_(a, b, c)\n",
    "print(x)\n",
    "```\n",
    " A) [[[10]]\n",
    " [[20]]\n",
    " [[30]]\n",
    " [[40]]]\n",
    " \n",
    " B) [[[1]]\n",
    " [[2]]\n",
    " [[3]]\n",
    " [[4]]\n",
    " [[5]]] \n",
    " \n",
    " C) [[[18]]\n",
    " [[15]]\n",
    " [[[14]]]\n",
    " \n",
    " D) None of the mentioned above "
   ]
  },
  {
   "cell_type": "raw",
   "id": "420a638a-ad04-4ca0-affb-3cedc62ea7d3",
   "metadata": {},
   "source": [
    "Ans) A) [[[10]] [[20]] [[30]] [[40]]]"
   ]
  },
  {
   "cell_type": "raw",
   "id": "20d32329-76a1-4307-be20-cd0d75f85da2",
   "metadata": {},
   "source": [
    "49. The most important object defined in NumPy is an N-dimensional array type called?\n",
    " A. ndarray\n",
    " B. narray\n",
    " C. nd_array\n",
    " D. darray"
   ]
  },
  {
   "cell_type": "raw",
   "id": "fc153015-cbe6-43b5-ba78-a0536ecedb95",
   "metadata": {},
   "source": [
    "Ans) A) ndarray"
   ]
  },
  {
   "cell_type": "raw",
   "id": "80a5abff-2605-40ac-ac72-88ad0a636885",
   "metadata": {},
   "source": [
    "50. If a dimension is given as __ in a reshaping operation, the other dimensions are automatically \n",
    "calculated.\n",
    " A. Zero\n",
    " B. One\n",
    " C. Negative one\n",
    " D. Infinite"
   ]
  },
  {
   "cell_type": "raw",
   "id": "3b10278f-acb8-487a-9131-33f6e8e977d3",
   "metadata": {},
   "source": [
    "Ans) C) Negative one"
   ]
  }
 ],
 "metadata": {
  "kernelspec": {
   "display_name": "Python 3 (ipykernel)",
   "language": "python",
   "name": "python3"
  },
  "language_info": {
   "codemirror_mode": {
    "name": "ipython",
    "version": 3
   },
   "file_extension": ".py",
   "mimetype": "text/x-python",
   "name": "python",
   "nbconvert_exporter": "python",
   "pygments_lexer": "ipython3",
   "version": "3.11.7"
  }
 },
 "nbformat": 4,
 "nbformat_minor": 5
}
