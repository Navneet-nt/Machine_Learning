{
 "cells": [
  {
   "cell_type": "raw",
   "id": "34a49161-94b2-48fe-b74d-9ed351c49b67",
   "metadata": {},
   "source": [
    "how to install packages\n",
    "!pip install pandas"
   ]
  },
  {
   "cell_type": "code",
   "execution_count": 2,
   "id": "3f3db4fe-d954-439e-93de-90d6d5f66f45",
   "metadata": {},
   "outputs": [
    {
     "name": "stdout",
     "output_type": "stream",
     "text": [
      "               numpy 1.26.4\n",
      "              pandas 2.1.4\n",
      "          matplotlib 3.8.0\n"
     ]
    }
   ],
   "source": [
    "#import all libraries at top\n",
    "import numpy as np\n",
    "import pandas as pd\n",
    "import matplotlib as mpl\n",
    "import matplotlib.pyplot as plt\n",
    "\n",
    "for pkg in [np,pd,mpl]:\n",
    "    print(f\"{pkg.__name__:>20} { pkg.__version__}\")"
   ]
  },
  {
   "cell_type": "markdown",
   "id": "a9cbc474-f171-41d1-8c5c-a6cec7d6e0d9",
   "metadata": {},
   "source": [
    "#### Series"
   ]
  },
  {
   "cell_type": "raw",
   "id": "46593ce1-faab-49d9-8231-812db54b4bb6",
   "metadata": {},
   "source": [
    "1D array like object with label indexes"
   ]
  },
  {
   "cell_type": "code",
   "execution_count": 3,
   "id": "5fe16c41-575d-4e44-bbb4-8fe7be3e1b14",
   "metadata": {},
   "outputs": [],
   "source": [
    "ix = [\"Rahul\",\"Simran\",\"Alice\"]\n",
    "marks = [48,67,34]"
   ]
  },
  {
   "cell_type": "code",
   "execution_count": 4,
   "id": "542e90b6-6326-4494-bab2-9be9c8ecd816",
   "metadata": {},
   "outputs": [],
   "source": [
    "s = pd.Series(marks,index = ix, name = \"Performance\")"
   ]
  },
  {
   "cell_type": "code",
   "execution_count": 5,
   "id": "fc192164-b8bf-4036-9b1a-b40830458f93",
   "metadata": {},
   "outputs": [
    {
     "data": {
      "text/plain": [
       "Rahul     48\n",
       "Simran    67\n",
       "Alice     34\n",
       "Name: Performance, dtype: int64"
      ]
     },
     "execution_count": 5,
     "metadata": {},
     "output_type": "execute_result"
    }
   ],
   "source": [
    "s"
   ]
  },
  {
   "cell_type": "code",
   "execution_count": 6,
   "id": "c87e3cb7-b0ff-4aca-b7bd-66954fdc79f7",
   "metadata": {},
   "outputs": [
    {
     "data": {
      "text/plain": [
       "67"
      ]
     },
     "execution_count": 6,
     "metadata": {},
     "output_type": "execute_result"
    }
   ],
   "source": [
    "s[\"Simran\"]"
   ]
  },
  {
   "cell_type": "code",
   "execution_count": 7,
   "id": "4e96b2a2-8462-4d38-bb04-bf4cacf3178d",
   "metadata": {},
   "outputs": [
    {
     "data": {
      "text/plain": [
       "Rahul     48\n",
       "Simran    67\n",
       "Alice     34\n",
       "Name: Performance, dtype: int64"
      ]
     },
     "execution_count": 7,
     "metadata": {},
     "output_type": "execute_result"
    }
   ],
   "source": [
    "s[0:3] #normal indexing"
   ]
  },
  {
   "cell_type": "code",
   "execution_count": 8,
   "id": "be9343a2-3e76-4759-8ff8-cb4f890cba5f",
   "metadata": {},
   "outputs": [
    {
     "data": {
      "text/plain": [
       "Rahul     48\n",
       "Simran    67\n",
       "Name: Performance, dtype: int64"
      ]
     },
     "execution_count": 8,
     "metadata": {},
     "output_type": "execute_result"
    }
   ],
   "source": [
    "s[\"Rahul\":\"Simran\"]"
   ]
  },
  {
   "cell_type": "markdown",
   "id": "bc074b76-1f8f-4d72-ba08-120f49c898e9",
   "metadata": {},
   "source": [
    "#### Data Access"
   ]
  },
  {
   "cell_type": "raw",
   "id": "5ebf16e8-c711-4402-9e16-62b901566be9",
   "metadata": {},
   "source": [
    "s['label'] -> extract single value from series \n",
    "s[0:6] -> default indexing\n",
    "s[lb1:lbn] -> label indexing"
   ]
  },
  {
   "cell_type": "raw",
   "id": "e264c182-02fc-42b4-b485-d6b9c8a7f432",
   "metadata": {},
   "source": [
    "s.at[label] -> to extrat single values fastest method available"
   ]
  },
  {
   "cell_type": "code",
   "execution_count": 9,
   "id": "2b8f8933-3178-4ccb-8ac1-22c338b8dbc9",
   "metadata": {},
   "outputs": [
    {
     "data": {
      "text/plain": [
       "Alice     34\n",
       "Simran    67\n",
       "Rahul     48\n",
       "Name: Performance, dtype: int64"
      ]
     },
     "execution_count": 9,
     "metadata": {},
     "output_type": "execute_result"
    }
   ],
   "source": [
    "s.loc[::-1]"
   ]
  },
  {
   "cell_type": "code",
   "execution_count": 10,
   "id": "941de60f-f0e8-489c-9cf0-f0f2457ef11d",
   "metadata": {},
   "outputs": [
    {
     "data": {
      "text/plain": [
       "Simran    67\n",
       "Alice     34\n",
       "Name: Performance, dtype: int64"
      ]
     },
     "execution_count": 10,
     "metadata": {},
     "output_type": "execute_result"
    }
   ],
   "source": [
    "s.loc[\"Simran\":]"
   ]
  },
  {
   "cell_type": "code",
   "execution_count": 11,
   "id": "cb62f400-53a0-44a5-ba0e-79c025fda2b8",
   "metadata": {},
   "outputs": [
    {
     "data": {
      "text/plain": [
       "Rahul     48\n",
       "Simran    67\n",
       "Alice     34\n",
       "Name: Performance, dtype: int64"
      ]
     },
     "execution_count": 11,
     "metadata": {},
     "output_type": "execute_result"
    }
   ],
   "source": [
    "s.iloc[0:3]"
   ]
  },
  {
   "cell_type": "code",
   "execution_count": 12,
   "id": "8ea36e20-4644-4268-bf19-53c50c6cb128",
   "metadata": {},
   "outputs": [
    {
     "data": {
      "text/plain": [
       "Rahul    48\n",
       "Alice    34\n",
       "Name: Performance, dtype: int64"
      ]
     },
     "execution_count": 12,
     "metadata": {},
     "output_type": "execute_result"
    }
   ],
   "source": [
    "s.iloc[::2]"
   ]
  },
  {
   "cell_type": "code",
   "execution_count": 26,
   "id": "4a249eef-7dda-45c5-9bb0-c2ec88680ee4",
   "metadata": {},
   "outputs": [],
   "source": [
    "dates = pd.date_range(\"01-01-2024\",periods = 31)\n",
    "dates\n",
    "values = np.random.randint(50,100,31)"
   ]
  },
  {
   "cell_type": "code",
   "execution_count": 47,
   "id": "5b691a8f-f66b-423f-af1d-007934180dac",
   "metadata": {},
   "outputs": [
    {
     "data": {
      "text/plain": [
       "2024-01-01    55\n",
       "2024-01-02    63\n",
       "2024-01-03    58\n",
       "2024-01-04    84\n",
       "2024-01-05    83\n",
       "2024-01-06    51\n",
       "2024-01-07    92\n",
       "2024-01-08    59\n",
       "2024-01-09    60\n",
       "2024-01-10    84\n",
       "2024-01-11    61\n",
       "2024-01-12    72\n",
       "2024-01-13    87\n",
       "2024-01-14    55\n",
       "2024-01-15    73\n",
       "2024-01-16    73\n",
       "2024-01-17    93\n",
       "2024-01-18    58\n",
       "2024-01-19    91\n",
       "2024-01-20    79\n",
       "2024-01-21    94\n",
       "2024-01-22    53\n",
       "2024-01-23    73\n",
       "2024-01-24    56\n",
       "2024-01-25    90\n",
       "2024-01-26    55\n",
       "2024-01-27    88\n",
       "2024-01-28    88\n",
       "2024-01-29    82\n",
       "2024-01-30    92\n",
       "2024-01-31    79\n",
       "Freq: D, dtype: int32"
      ]
     },
     "execution_count": 47,
     "metadata": {},
     "output_type": "execute_result"
    }
   ],
   "source": [
    "s4 = pd.Series(values,dates)\n",
    "s4"
   ]
  },
  {
   "cell_type": "code",
   "execution_count": 48,
   "id": "b1838d03-714c-4e28-84ba-8c310a4c2568",
   "metadata": {},
   "outputs": [
    {
     "data": {
      "text/plain": [
       "0.25    58.5\n",
       "0.50    73.0\n",
       "0.75    87.5\n",
       "dtype: float64"
      ]
     },
     "execution_count": 48,
     "metadata": {},
     "output_type": "execute_result"
    }
   ],
   "source": [
    "s4.quantile([0.25,0.5,0.75])"
   ]
  },
  {
   "cell_type": "code",
   "execution_count": 49,
   "id": "e6bfeb06-7d8a-4f71-8cb4-224a5e350525",
   "metadata": {},
   "outputs": [
    {
     "data": {
      "text/plain": [
       "count    31.000000\n",
       "mean     73.580645\n",
       "std      14.732672\n",
       "min      51.000000\n",
       "25%      58.500000\n",
       "50%      73.000000\n",
       "75%      87.500000\n",
       "max      94.000000\n",
       "dtype: float64"
      ]
     },
     "execution_count": 49,
     "metadata": {},
     "output_type": "execute_result"
    }
   ],
   "source": [
    "s4.describe()"
   ]
  },
  {
   "cell_type": "code",
   "execution_count": 50,
   "id": "0f251173-156c-4d5f-aafb-bc83fd8df26e",
   "metadata": {},
   "outputs": [
    {
     "data": {
      "text/plain": [
       "14.732671614585925"
      ]
     },
     "execution_count": 50,
     "metadata": {},
     "output_type": "execute_result"
    }
   ],
   "source": [
    "s4.std()"
   ]
  },
  {
   "cell_type": "code",
   "execution_count": 51,
   "id": "871d82f8-25d5-4001-b797-9bc8f17fb172",
   "metadata": {},
   "outputs": [
    {
     "data": {
      "text/plain": [
       "217.05161290322584"
      ]
     },
     "execution_count": 51,
     "metadata": {},
     "output_type": "execute_result"
    }
   ],
   "source": [
    "s4.var()"
   ]
  },
  {
   "cell_type": "code",
   "execution_count": 52,
   "id": "a089e42c-88f8-44c5-94c9-63e534d5e5f2",
   "metadata": {},
   "outputs": [],
   "source": [
    "gender = pd.Series(np.random.choice([\"Males\",\"Females\"],20),name = 'gender')"
   ]
  },
  {
   "cell_type": "code",
   "execution_count": 53,
   "id": "580df2e9-d198-4fbe-80af-93ef2743ca70",
   "metadata": {},
   "outputs": [
    {
     "data": {
      "text/plain": [
       "0     Females\n",
       "1       Males\n",
       "2     Females\n",
       "3       Males\n",
       "4       Males\n",
       "5       Males\n",
       "6     Females\n",
       "7       Males\n",
       "8     Females\n",
       "9     Females\n",
       "10    Females\n",
       "11    Females\n",
       "12    Females\n",
       "13    Females\n",
       "14      Males\n",
       "15    Females\n",
       "16      Males\n",
       "17    Females\n",
       "18    Females\n",
       "19    Females\n",
       "Name: gender, dtype: object"
      ]
     },
     "execution_count": 53,
     "metadata": {},
     "output_type": "execute_result"
    }
   ],
   "source": [
    "gender"
   ]
  },
  {
   "cell_type": "code",
   "execution_count": 54,
   "id": "d59b1280-c20c-4c0b-9155-5dc4fcf9b9ef",
   "metadata": {},
   "outputs": [
    {
     "data": {
      "text/plain": [
       "['Rahul', 'Simran', 'Alice']"
      ]
     },
     "execution_count": 54,
     "metadata": {},
     "output_type": "execute_result"
    }
   ],
   "source": [
    "np.random.shuffle(ix)\n",
    "ix"
   ]
  },
  {
   "cell_type": "code",
   "execution_count": 55,
   "id": "4c3a0aa4-54a1-43b4-acb6-95a66175c69b",
   "metadata": {},
   "outputs": [
    {
     "data": {
      "text/plain": [
       "0    77\n",
       "1    87\n",
       "2    72\n",
       "dtype: int32"
      ]
     },
     "execution_count": 55,
     "metadata": {},
     "output_type": "execute_result"
    }
   ],
   "source": [
    "s2 = pd.Series(np.random.randint(50,100,3))\n",
    "s2"
   ]
  },
  {
   "cell_type": "code",
   "execution_count": 46,
   "id": "6dfdcfd5-02c4-4590-934e-c9cdbf7e5211",
   "metadata": {},
   "outputs": [
    {
     "data": {
      "text/plain": [
       "2024-01-01 00:00:00   NaN\n",
       "2024-01-02 00:00:00   NaN\n",
       "2024-01-03 00:00:00   NaN\n",
       "2024-01-04 00:00:00   NaN\n",
       "2024-01-05 00:00:00   NaN\n",
       "2024-01-06 00:00:00   NaN\n",
       "2024-01-07 00:00:00   NaN\n",
       "2024-01-08 00:00:00   NaN\n",
       "2024-01-09 00:00:00   NaN\n",
       "2024-01-10 00:00:00   NaN\n",
       "2024-01-11 00:00:00   NaN\n",
       "2024-01-12 00:00:00   NaN\n",
       "2024-01-13 00:00:00   NaN\n",
       "2024-01-14 00:00:00   NaN\n",
       "2024-01-15 00:00:00   NaN\n",
       "2024-01-16 00:00:00   NaN\n",
       "2024-01-17 00:00:00   NaN\n",
       "2024-01-18 00:00:00   NaN\n",
       "2024-01-19 00:00:00   NaN\n",
       "2024-01-20 00:00:00   NaN\n",
       "2024-01-21 00:00:00   NaN\n",
       "2024-01-22 00:00:00   NaN\n",
       "2024-01-23 00:00:00   NaN\n",
       "2024-01-24 00:00:00   NaN\n",
       "2024-01-25 00:00:00   NaN\n",
       "2024-01-26 00:00:00   NaN\n",
       "2024-01-27 00:00:00   NaN\n",
       "2024-01-28 00:00:00   NaN\n",
       "2024-01-29 00:00:00   NaN\n",
       "2024-01-30 00:00:00   NaN\n",
       "2024-01-31 00:00:00   NaN\n",
       "0                     NaN\n",
       "1                     NaN\n",
       "2                     NaN\n",
       "dtype: float64"
      ]
     },
     "execution_count": 46,
     "metadata": {},
     "output_type": "execute_result"
    }
   ],
   "source": [
    "s3 = s + s2\n",
    "s3"
   ]
  },
  {
   "cell_type": "code",
   "execution_count": null,
   "id": "8610a410-216b-4d86-8c88-463b13e69029",
   "metadata": {},
   "outputs": [],
   "source": []
  }
 ],
 "metadata": {
  "kernelspec": {
   "display_name": "Python 3 (ipykernel)",
   "language": "python",
   "name": "python3"
  },
  "language_info": {
   "codemirror_mode": {
    "name": "ipython",
    "version": 3
   },
   "file_extension": ".py",
   "mimetype": "text/x-python",
   "name": "python",
   "nbconvert_exporter": "python",
   "pygments_lexer": "ipython3",
   "version": "3.11.7"
  }
 },
 "nbformat": 4,
 "nbformat_minor": 5
}
