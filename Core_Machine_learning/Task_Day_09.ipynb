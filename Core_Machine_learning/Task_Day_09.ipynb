{
 "cells": [
  {
   "cell_type": "markdown",
   "id": "c813b005-93c3-4ff4-bae8-29cf7684c7fa",
   "metadata": {},
   "source": [
    "#### 1>. Write a Python program to check whether a number is negative, positive or zero."
   ]
  },
  {
   "cell_type": "code",
   "execution_count": 3,
   "id": "a9291f30-0226-4594-8c8a-3aa4fcd34bbd",
   "metadata": {},
   "outputs": [
    {
     "name": "stdin",
     "output_type": "stream",
     "text": [
      "Enter the number -67\n"
     ]
    },
    {
     "name": "stdout",
     "output_type": "stream",
     "text": [
      "Negative number\n"
     ]
    }
   ],
   "source": [
    "a = int(input('Enter the number'))\n",
    "if a<0:\n",
    "    print('Negative number')\n",
    "elif a==0:\n",
    "    print('Equals to zero')\n",
    "elif a>0:\n",
    "    print('positive number')\n",
    "else:\n",
    "    print('Invalid input')"
   ]
  },
  {
   "cell_type": "markdown",
   "id": "12d9abe8-e581-41ef-b49d-633053af2216",
   "metadata": {},
   "source": [
    "#### 2>. Write a Python program to check whether a number is divisible by 5 and 11 or not."
   ]
  },
  {
   "cell_type": "code",
   "execution_count": 6,
   "id": "c273e152-f309-4e3e-a010-30f715512d1c",
   "metadata": {},
   "outputs": [
    {
     "name": "stdin",
     "output_type": "stream",
     "text": [
      "Enter the number 55\n"
     ]
    },
    {
     "name": "stdout",
     "output_type": "stream",
     "text": [
      "55 is divisible by 5 and 11\n"
     ]
    }
   ],
   "source": [
    "a = int(input('Enter the number'))\n",
    "if a%5==0 and a%11==0:\n",
    "    print(f'{a} is divisible by 5 and 11')"
   ]
  },
  {
   "cell_type": "markdown",
   "id": "317578c8-1b8e-489d-8029-3c3f9c58bc0a",
   "metadata": {},
   "source": [
    "#### 3>. Write a Python program to check whether a year is leap year or not"
   ]
  },
  {
   "cell_type": "code",
   "execution_count": 8,
   "id": "367256e9-95dd-42eb-ae2b-886e925fa1f6",
   "metadata": {},
   "outputs": [
    {
     "name": "stdin",
     "output_type": "stream",
     "text": [
      "Enter the year 2002\n"
     ]
    },
    {
     "name": "stdout",
     "output_type": "stream",
     "text": [
      "2002 is not a leap year\n"
     ]
    }
   ],
   "source": [
    "a = int(input('Enter the year'))\n",
    "if a%400==0 or (a%4==0 and a%100!=0):\n",
    "    print(f'{a} is leap year')\n",
    "else:\n",
    "    print(f'{a} is not a leap year')"
   ]
  },
  {
   "cell_type": "markdown",
   "id": "fb62378f-cb1a-4d44-b553-89ef56a811ea",
   "metadata": {},
   "source": [
    "#### 4>. Write a Python program to check whether a character is alphabet or not"
   ]
  },
  {
   "cell_type": "code",
   "execution_count": 13,
   "id": "5689574a-16a5-4703-92d0-12a76ad2e73e",
   "metadata": {},
   "outputs": [
    {
     "name": "stdin",
     "output_type": "stream",
     "text": [
      "enter the alphabet r\n"
     ]
    },
    {
     "name": "stdout",
     "output_type": "stream",
     "text": [
      "r is alphabet\n"
     ]
    }
   ],
   "source": [
    "a = input('enter the alphabet')\n",
    "if a.lower() in \"abcdefghijklmnopqrstuvwxyz\" :\n",
    "    print(f'{a} is alphabet')\n",
    "else:\n",
    "    print(f'{a} is not alphabet')"
   ]
  },
  {
   "cell_type": "markdown",
   "id": "d58a08b3-3638-46f1-85ee-b3dd64f26f20",
   "metadata": {},
   "source": [
    "#### 5>. Write a Python program to input any alphabet and check whether it is vowel or consonant."
   ]
  },
  {
   "cell_type": "code",
   "execution_count": 14,
   "id": "1e833f74-07d3-4997-a40d-951d2ff46503",
   "metadata": {},
   "outputs": [
    {
     "name": "stdin",
     "output_type": "stream",
     "text": [
      "enter the alphabet a\n"
     ]
    },
    {
     "name": "stdout",
     "output_type": "stream",
     "text": [
      "a is vowel\n"
     ]
    }
   ],
   "source": [
    "a = input('enter the alphabet')\n",
    "if a.lower() in \"bcdfghjklmnpqrstvwxyz\" :\n",
    "    print(f'{a} is consonant')\n",
    "elif a.lower() in \"aeiou\":\n",
    "    print(f'{a} is vowel')\n",
    "else:\n",
    "    print(f'{a} is not alphabet')"
   ]
  },
  {
   "cell_type": "markdown",
   "id": "00e2a30c-4816-42e3-9054-1b47caf62c6e",
   "metadata": {},
   "source": [
    "#### 6>.Write a Python program to input week number and print weekday"
   ]
  },
  {
   "cell_type": "code",
   "execution_count": 22,
   "id": "e0eb88bb-2c6a-440b-b390-7383c90e5e7f",
   "metadata": {},
   "outputs": [
    {
     "name": "stdin",
     "output_type": "stream",
     "text": [
      "Enter week number between 1-7 =  4\n"
     ]
    },
    {
     "name": "stdout",
     "output_type": "stream",
     "text": [
      "weekday corresponding to week number 4 is Thursday\n"
     ]
    }
   ],
   "source": [
    "week_number = int(input('Enter week number between 1-7 = '))\n",
    "weekdays = [\"Monday\", \"Tuesday\", \"Wednesday\", \"Thursday\", \"Friday\", \"Saturday\", \"Sunday\"]\n",
    "if 1 <= week_number <= 7:\n",
    "    print(f'weekday corresponding to week number {week_number} is {weekdays[week_number-1]}')\n",
    "\n",
    "else:\n",
    "    print('Invalid week number')"
   ]
  },
  {
   "cell_type": "markdown",
   "id": "cab1fdc6-76ae-4113-a926-9dd55bb9e8fb",
   "metadata": {},
   "source": [
    "#### 7>. Write a Python program to input angles of a triangle and check whether triangle is valid or not"
   ]
  },
  {
   "cell_type": "code",
   "execution_count": 30,
   "id": "02b997ce-0665-48f1-bc9e-e60fbd10fe17",
   "metadata": {},
   "outputs": [
    {
     "name": "stdin",
     "output_type": "stream",
     "text": [
      "Enter the angles of triangle 40\n",
      "Enter the angles of triangle 60\n",
      "Enter the angles of triangle 80\n"
     ]
    },
    {
     "name": "stdout",
     "output_type": "stream",
     "text": [
      "It is a valid triangle\n"
     ]
    }
   ],
   "source": [
    "a=[]\n",
    "for i in range(0,3,1):\n",
    "    c = int(input('Enter the angles of triangle'))\n",
    "    a.append(c)\n",
    "    \n",
    "b=0\n",
    "\n",
    "if len(a)>3:\n",
    "    print('Triangle cannot have more than three angles')\n",
    "    \n",
    "elif len(a) == 3:\n",
    "    for i in range(0,3,1):\n",
    "        b=b+a[i]\n",
    "        \n",
    "    if b == 180:\n",
    "        print('It is a valid triangle')\n",
    "\n",
    "    else:\n",
    "        print('It is not a valid triangle')\n",
    "\n",
    "elif len(a) <= 2 :\n",
    "    print('Triangle cannot have less than 3 sides')"
   ]
  },
  {
   "cell_type": "markdown",
   "id": "08c77a2a-f441-47c6-8adc-002e00770e18",
   "metadata": {},
   "source": [
    "#### 9>. Write a Python program to input all sides of a triangle and check whether triangle is valid or not?"
   ]
  },
  {
   "cell_type": "code",
   "execution_count": 44,
   "id": "5ed7df27-a874-4e31-ba43-4d4f5988bbab",
   "metadata": {},
   "outputs": [
    {
     "name": "stdin",
     "output_type": "stream",
     "text": [
      "Enter the length of the first side of the triangle:  3\n",
      "Enter the length of the second side of the triangle:  4\n",
      "Enter the length of the third side of the triangle:  6\n"
     ]
    },
    {
     "name": "stdout",
     "output_type": "stream",
     "text": [
      "The triangle is valid.\n"
     ]
    }
   ],
   "source": [
    "def is_valid_triangle(a, b, c):\n",
    "    if (a + b > c) and (a + c > b) and (b + c > a):\n",
    "        return True\n",
    "    else:\n",
    "        return False\n",
    "\n",
    "a = float(input(\"Enter the length of the first side of the triangle: \"))\n",
    "b = float(input(\"Enter the length of the second side of the triangle: \"))\n",
    "c = float(input(\"Enter the length of the third side of the triangle: \"))\n",
    "\n",
    "if is_valid_triangle(a, b, c):\n",
    "    print(\"The triangle is valid.\")\n",
    "else:\n",
    "    print(\"The triangle is not valid.\")"
   ]
  },
  {
   "cell_type": "markdown",
   "id": "6089a470-2313-4827-b709-02468d6ea530",
   "metadata": {},
   "source": [
    "##### 12. Write a Python program to input marks of five subjects Physics, Chemistry, Biology, Mathematics and Computer. Calculate percentage and grade according to following: "
   ]
  },
  {
   "cell_type": "code",
   "execution_count": 41,
   "id": "ddd64e36-4368-4459-afe7-baa9cc660c51",
   "metadata": {},
   "outputs": [
    {
     "name": "stdin",
     "output_type": "stream",
     "text": [
      "Enter marks of Computer 58\n",
      "Enter marks of Physics 45\n",
      "Enter marks of Chemistry 67\n",
      "Enter marks of Biology 89\n",
      "Enter marks of Mathematics 55\n"
     ]
    },
    {
     "name": "stdout",
     "output_type": "stream",
     "text": [
      "D\n"
     ]
    }
   ],
   "source": [
    "sum = 0\n",
    "subjects = ['Physics', 'Chemistry', 'Biology', 'Mathematics', 'Computer']\n",
    "for i in range(5):\n",
    "    b = int(input(f'Enter marks of {subjects[i-1]}'))\n",
    "    sum = sum + b\n",
    "\n",
    "percentage = (sum/500)*100\n",
    "\n",
    "if percentage >= 90:\n",
    "        print( 'A' )\n",
    "    \n",
    "elif percentage >= 80:\n",
    "        print( 'B' )\n",
    "    \n",
    "elif percentage >= 70:\n",
    "        print( 'C' )\n",
    "    \n",
    "elif percentage >= 60:\n",
    "        print('D')\n",
    "   \n",
    "elif percentage >= 40:\n",
    "        print('E')\n",
    "    \n",
    "else:\n",
    "        print('F')"
   ]
  },
  {
   "cell_type": "markdown",
   "id": "1a3d813e-bc75-44b7-8f3e-985ab7bb0d39",
   "metadata": {},
   "source": [
    "##### 13>. Write a Python program to input basic salary of an employee and calculate its Gross salary accordingly."
   ]
  },
  {
   "cell_type": "code",
   "execution_count": 42,
   "id": "b8c1f501-4016-4dd8-a114-fe39dd86ed77",
   "metadata": {},
   "outputs": [
    {
     "name": "stdin",
     "output_type": "stream",
     "text": [
      "Enter the basic salary of the employee:  30000\n"
     ]
    },
    {
     "name": "stdout",
     "output_type": "stream",
     "text": [
      "The Gross Salary is: 67500.00\n"
     ]
    }
   ],
   "source": [
    "def calculate_gross_salary(basic_salary):\n",
    "    if basic_salary <= 10000:\n",
    "        hra = 0.20 * basic_salary\n",
    "        da = 0.80 * basic_salary\n",
    "    elif basic_salary <= 20000:\n",
    "        hra = 0.25 * basic_salary\n",
    "        da = 0.90 * basic_salary\n",
    "    else:\n",
    "        hra = 0.30 * basic_salary\n",
    "        da = 0.95 * basic_salary\n",
    "    \n",
    "    gross_salary = basic_salary + hra + da\n",
    "    return gross_salary\n",
    "\n",
    "basic_salary = float(input(\"Enter the basic salary of the employee: \"))\n",
    "\n",
    "gross_salary = calculate_gross_salary(basic_salary)\n",
    "\n",
    "print(f\"The Gross Salary is: {gross_salary:.2f}\")"
   ]
  },
  {
   "cell_type": "markdown",
   "id": "0e37925c-2786-4960-a889-826c40e9bbfe",
   "metadata": {},
   "source": [
    "##### 14>. Write a Python Program to input electricity unit charges and calculate total electricity bill according to the given condition:"
   ]
  },
  {
   "cell_type": "raw",
   "id": "314e9448-c129-43bb-abec-6b5ad397d2ff",
   "metadata": {},
   "source": [
    "For first 50 units Rs. 0.50/unit\n",
    "For next 100 units Rs. 0.75/unit\n",
    "For next 100 units Rs. 1.20/unit\n",
    "For unit above 250 Rs. 1.50/unit\n",
    "An additional surcharge of 20% is added to the bill"
   ]
  },
  {
   "cell_type": "code",
   "execution_count": 43,
   "id": "09670056-13ae-46f5-a981-29f163e3d7fd",
   "metadata": {},
   "outputs": [
    {
     "name": "stdin",
     "output_type": "stream",
     "text": [
      "Enter the electricity units consumed:  5000\n"
     ]
    },
    {
     "name": "stdout",
     "output_type": "stream",
     "text": [
      "The total electricity bill is: Rs. 8814.00\n"
     ]
    }
   ],
   "source": [
    "def calculate_electricity_bill(units):\n",
    "    if units <= 50:\n",
    "        bill = units * 0.50\n",
    "    elif units <= 150:\n",
    "        bill = (50 * 0.50) + (units - 50 * 0.75)\n",
    "    elif units <= 250:\n",
    "        bill = (50 * 0.50) + (100 * 0.75) + ((units - 150) * 1.20)\n",
    "    else:\n",
    "        bill = (50 * 0.50) + (100 * 0.75) + (100 * 1.20) + ((units - 250) * 1.50)\n",
    "    \n",
    "    total_bill = bill + (0.20 * bill)\n",
    "    return total_bill\n",
    "\n",
    "units = float(input(\"Enter the electricity units consumed: \"))\n",
    "total_bill = calculate_electricity_bill(units)\n",
    "print(f\"The total electricity bill is: Rs. {total_bill:.2f}\")"
   ]
  }
 ],
 "metadata": {
  "kernelspec": {
   "display_name": "Python 3 (ipykernel)",
   "language": "python",
   "name": "python3"
  },
  "language_info": {
   "codemirror_mode": {
    "name": "ipython",
    "version": 3
   },
   "file_extension": ".py",
   "mimetype": "text/x-python",
   "name": "python",
   "nbconvert_exporter": "python",
   "pygments_lexer": "ipython3",
   "version": "3.11.7"
  }
 },
 "nbformat": 4,
 "nbformat_minor": 5
}
