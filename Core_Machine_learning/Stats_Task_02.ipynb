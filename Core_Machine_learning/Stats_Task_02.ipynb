{
 "cells": [
  {
   "cell_type": "markdown",
   "id": "604ae30c-e3ec-47f0-a91d-1a24d5a6b25f",
   "metadata": {},
   "source": [
    "#### 1>. Learn about Latex and write some formulas in Jupyter notebook using Latex"
   ]
  },
  {
   "cell_type": "markdown",
   "id": "30622ffa-88e9-411f-883b-cb254c4aecc8",
   "metadata": {},
   "source": [
    "-> Latex is a typesetting system commonly used for technical and scientific documentation. It is particularly well-suited for writing complex mathematical equations. In Jupyter notebooks, you can include LaTeX code to display equations beautifully using Markdown cells or inline within code cells."
   ]
  },
  {
   "cell_type": "markdown",
   "id": "ef417c97-c93b-4563-bc3a-9fa758fdb086",
   "metadata": {},
   "source": [
    "* Some formulas using Latex"
   ]
  },
  {
   "cell_type": "markdown",
   "id": "f7193cec-8afa-4de0-a3a4-b24337e6af62",
   "metadata": {},
   "source": [
    "$E = mc^2$"
   ]
  },
  {
   "cell_type": "markdown",
   "id": "31eca577-de88-46e4-9544-756fd872fcf6",
   "metadata": {},
   "source": [
    "$\\frac{a}{b}$"
   ]
  },
  {
   "cell_type": "markdown",
   "id": "ef3f5b68-31ce-4802-803d-951b2c6e1f58",
   "metadata": {},
   "source": [
    "$\\sqrt{a^2 + b^2}$"
   ]
  },
  {
   "cell_type": "markdown",
   "id": "5b6240b2-1fb2-4103-920a-ec7212bae63d",
   "metadata": {},
   "source": [
    "$\\sum_{i=1}^n i$"
   ]
  },
  {
   "cell_type": "markdown",
   "id": "253768e8-8d20-4761-b6d7-fd72c10a8f6a",
   "metadata": {},
   "source": [
    "#### 2>. Learn about notations"
   ]
  },
  {
   "cell_type": "markdown",
   "id": "08ddbf42-f163-4d3f-a3f4-6eec861fe410",
   "metadata": {},
   "source": [
    "* Mathematical Notations"
   ]
  },
  {
   "cell_type": "raw",
   "id": "0ebb22ef-bf7e-461e-a598-3f3734746ebb",
   "metadata": {},
   "source": [
    "1>. Measures of Central Tendency\n",
    "\n",
    "    Mean: μ (population mean)\n",
    "\n",
    "    Median: 𝑀\n",
    "\n",
    "    Mode: mode\r\n",
    "mode"
   ]
  },
  {
   "cell_type": "raw",
   "id": "2fb9ad1f-f6cc-4a74-8aef-cb13ca18cf3f",
   "metadata": {},
   "source": [
    "2>. Measures of Dispersion\n",
    "\n",
    "Variance: s^2  (sample variance) , σ^2 (population variance)\n",
    "\n",
    "Standard Deviation: s (sample standard deviation), σ (population standard deviation)\n",
    "\n",
    "Range: R\n",
    "\n",
    "Interquartile Range (IQR): IQR"
   ]
  },
  {
   "cell_type": "markdown",
   "id": "205bb497-2760-4f7b-93f7-a06963f5643c",
   "metadata": {},
   "source": [
    "#### 3>. Why we need median as measure of center when we have mean already?"
   ]
  },
  {
   "cell_type": "markdown",
   "id": "374f07da-7302-4d5a-873d-ce534676b0fb",
   "metadata": {},
   "source": [
    "* Sensitivity to Outliers"
   ]
  },
  {
   "cell_type": "markdown",
   "id": "d9e87d1d-5c54-438b-9c64-3bc06618d1a0",
   "metadata": {},
   "source": [
    "-> The mean is sensitive to outliers and extreme values. Even a single outlier can significantly affect the mean, pulling it toward the outlier.The median is robust to outliers. It is simply the middle value in a sorted list, so extreme values do not affect it as much."
   ]
  },
  {
   "cell_type": "markdown",
   "id": "6faa9fe0-060d-4b75-8ab6-9c5f63ae4ece",
   "metadata": {},
   "source": [
    "* Skewed Distributions"
   ]
  },
  {
   "cell_type": "markdown",
   "id": "36417282-d195-4b18-ae47-279ef98c8108",
   "metadata": {},
   "source": [
    "-> In a skewed distribution, the mean is pulled toward the longer tail, which can misrepresent the center of the data.The median provides a better measure of central tendency for skewed distributions because it is the middle value, not influenced by the skew."
   ]
  },
  {
   "cell_type": "markdown",
   "id": "b3f9632d-3e52-4d3e-bab0-6bdac76cbe8f",
   "metadata": {},
   "source": [
    "#### 4>. Solve all descriptive stats notebook till notations"
   ]
  },
  {
   "cell_type": "markdown",
   "id": "7e428efd-f387-4532-9dc7-102bca246b86",
   "metadata": {},
   "source": [
    "$E = mc^2$"
   ]
  },
  {
   "cell_type": "markdown",
   "id": "386cd51b-167f-446f-8070-b76f2f0c096d",
   "metadata": {},
   "source": [
    "$\\frac{a}{b}$"
   ]
  },
  {
   "cell_type": "markdown",
   "id": "df1190e0-cf88-4f37-9c50-fbad3b19a720",
   "metadata": {},
   "source": [
    "$\\sqrt{a^2 + b^2}$"
   ]
  },
  {
   "cell_type": "markdown",
   "id": "87b30cd9-d990-4d1d-a0b0-f5026309a14b",
   "metadata": {},
   "source": [
    "$\\sum_{i=1}^n i$"
   ]
  },
  {
   "cell_type": "markdown",
   "id": "1e8813c9-303f-4f15-b43d-73edd06b5ed0",
   "metadata": {},
   "source": [
    "#### 5>. Explain Descrptive Stats and inferential stats in details"
   ]
  },
  {
   "cell_type": "markdown",
   "id": "fef80b90-4f70-412e-be28-382016c36783",
   "metadata": {},
   "source": [
    "* Descriptive Statistics"
   ]
  },
  {
   "cell_type": "markdown",
   "id": "995b5638-d6fc-43cc-998e-31553487de35",
   "metadata": {},
   "source": [
    "Descriptive statistics involves summarizing and organizing data so that it can be easily understood. Descriptive statistics does not involve making predictions or inferences about a larger population; it focuses solely on the characteristics of the data at hand."
   ]
  },
  {
   "cell_type": "markdown",
   "id": "65509dd8-3618-420c-87d0-5b600b85d2b8",
   "metadata": {},
   "source": [
    "Measures of Central Tendency"
   ]
  },
  {
   "cell_type": "raw",
   "id": "8adf5337-7cfe-418b-a47d-7abfe6653fde",
   "metadata": {},
   "source": [
    "-> Mean: The average of a set of numbers.\n",
    "\n",
    "-> Median: The middle value when the data is arranged in ascending order. For an even number of observations, the median is the average of the two middle numbers.\n",
    "\n",
    "-> Mode: The most frequently occurring value in a dataset."
   ]
  },
  {
   "cell_type": "markdown",
   "id": "5dcf91fd-087e-44ae-a888-19e297d5811c",
   "metadata": {},
   "source": [
    "Measures of Dispersion"
   ]
  },
  {
   "cell_type": "raw",
   "id": "7333e0b7-1bae-4494-832c-72c21e60290e",
   "metadata": {},
   "source": [
    "-> Range\n",
    "\n",
    "The difference between the maximum and minimum values.\n",
    "Formula: Range=Max−Min"
   ]
  },
  {
   "cell_type": "raw",
   "id": "798fbf31-8d82-47c6-a888-46dd0bba58f3",
   "metadata": {},
   "source": [
    "-> Variance\n",
    "\n",
    "The average of the squared differences from the mean.\n",
    "\n",
    "-> Standard Deviation\n",
    "\n",
    "The square root of the variance, providing a measure of dispersion in the same units as the data.\n",
    "\n",
    "-> Interquartile Range (IQR)\n",
    "\n",
    "The difference between the 75th percentile (Q3) and the 25th percentile (Q1)."
   ]
  },
  {
   "cell_type": "markdown",
   "id": "5918f9ad-1513-4469-8d5a-8e05de003cf6",
   "metadata": {},
   "source": [
    "* Inferential Statistics"
   ]
  },
  {
   "cell_type": "markdown",
   "id": "a16c4079-20ea-46eb-8410-edde57a9f114",
   "metadata": {},
   "source": [
    "Inferential statistics involves making predictions or inferences about a larger population based on a sample of data. It goes beyond describing the data to make generalizations and draw conclusions. "
   ]
  },
  {
   "cell_type": "markdown",
   "id": "c0cbc18e-0e35-40e3-864d-7e6e980d2dbc",
   "metadata": {},
   "source": [
    "-> Estimation"
   ]
  },
  {
   "cell_type": "markdown",
   "id": "2be823d3-525c-4ec9-a5b8-4c59e7da2d6d",
   "metadata": {},
   "source": [
    "1. Point Estimation: Provides a single value estimate of a population parameter. For example, the sample meanˉ\r\n",
    " ) is a point estimate of the population\n",
    "𝜇\r\n",
    "μ)."
   ]
  },
  {
   "cell_type": "markdown",
   "id": "52df7c76-892a-45d5-b102-9d906b874c71",
   "metadata": {},
   "source": [
    "2. Interval Estimation: Provides a range of values within which the population parameter is expected to lie, with a certain level of confidence. "
   ]
  }
 ],
 "metadata": {
  "kernelspec": {
   "display_name": "Python 3 (ipykernel)",
   "language": "python",
   "name": "python3"
  },
  "language_info": {
   "codemirror_mode": {
    "name": "ipython",
    "version": 3
   },
   "file_extension": ".py",
   "mimetype": "text/x-python",
   "name": "python",
   "nbconvert_exporter": "python",
   "pygments_lexer": "ipython3",
   "version": "3.11.7"
  }
 },
 "nbformat": 4,
 "nbformat_minor": 5
}
