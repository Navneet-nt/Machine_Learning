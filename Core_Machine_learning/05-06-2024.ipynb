{
 "cells": [
  {
   "cell_type": "code",
   "execution_count": 31,
   "id": "4ff4eac5-a895-45a6-8d1a-18137d17a731",
   "metadata": {},
   "outputs": [],
   "source": [
    "import numpy as np"
   ]
  },
  {
   "cell_type": "code",
   "execution_count": 32,
   "id": "43e51a7a-195c-4a61-affb-6314c0b5a62a",
   "metadata": {},
   "outputs": [
    {
     "data": {
      "text/plain": [
       "array([ 8,  8, 11, 11, 14])"
      ]
     },
     "execution_count": 32,
     "metadata": {},
     "output_type": "execute_result"
    }
   ],
   "source": [
    "a=np.random.randint(1,20,5)\n",
    "a"
   ]
  },
  {
   "cell_type": "code",
   "execution_count": 33,
   "id": "9ce25196-7865-479c-906b-c9356f6d8d4a",
   "metadata": {},
   "outputs": [
    {
     "data": {
      "text/plain": [
       "array([[ 8,  8, 11, 11, 14]])"
      ]
     },
     "execution_count": 33,
     "metadata": {},
     "output_type": "execute_result"
    }
   ],
   "source": [
    "a.reshape(1,-1) #Row vector"
   ]
  },
  {
   "cell_type": "code",
   "execution_count": 34,
   "id": "7ff82dc5-55b6-4ee1-8aef-41c8da262451",
   "metadata": {},
   "outputs": [
    {
     "data": {
      "text/plain": [
       "array([[ 8],\n",
       "       [ 8],\n",
       "       [11],\n",
       "       [11],\n",
       "       [14]])"
      ]
     },
     "execution_count": 34,
     "metadata": {},
     "output_type": "execute_result"
    }
   ],
   "source": [
    "a.reshape(-1,1) #Column vector"
   ]
  },
  {
   "cell_type": "code",
   "execution_count": 35,
   "id": "25f7d77a-0393-4340-af20-8a5fbb2f30d8",
   "metadata": {},
   "outputs": [
    {
     "data": {
      "text/plain": [
       "array([[ 8],\n",
       "       [ 8],\n",
       "       [11],\n",
       "       [11],\n",
       "       [14]])"
      ]
     },
     "execution_count": 35,
     "metadata": {},
     "output_type": "execute_result"
    }
   ],
   "source": [
    "a[:,np.newaxis]"
   ]
  },
  {
   "cell_type": "code",
   "execution_count": 36,
   "id": "2c604fd0-9387-4313-8d47-b8d01cb0a1eb",
   "metadata": {},
   "outputs": [
    {
     "name": "stdout",
     "output_type": "stream",
     "text": [
      "(5,)\n"
     ]
    }
   ],
   "source": [
    "print(a.shape)"
   ]
  },
  {
   "cell_type": "code",
   "execution_count": 37,
   "id": "02de9437-2277-4154-a0cd-0dc2f3b7935a",
   "metadata": {},
   "outputs": [
    {
     "data": {
      "text/plain": [
       "array([[ 8,  8, 11, 11, 14]])"
      ]
     },
     "execution_count": 37,
     "metadata": {},
     "output_type": "execute_result"
    }
   ],
   "source": [
    "a[np.newaxis,:]"
   ]
  },
  {
   "cell_type": "code",
   "execution_count": 38,
   "id": "9b03dea7-9b2a-4d96-b6b8-60d5b78efa55",
   "metadata": {},
   "outputs": [
    {
     "name": "stdout",
     "output_type": "stream",
     "text": [
      "(5,)\n"
     ]
    }
   ],
   "source": [
    "print(a.shape)"
   ]
  },
  {
   "cell_type": "markdown",
   "id": "043aaf6b-f4d8-4c8e-b452-9ab0adf077bd",
   "metadata": {},
   "source": [
    "### merge"
   ]
  },
  {
   "cell_type": "code",
   "execution_count": 39,
   "id": "524db2e3-0ffd-4f02-befa-dec9fb7333e6",
   "metadata": {},
   "outputs": [],
   "source": [
    "s1 = np.random.randint(1,20,25).reshape(5,5)\n",
    "s2 = np.random.randint(10,30,40).reshape(-1,5)"
   ]
  },
  {
   "cell_type": "code",
   "execution_count": 40,
   "id": "e2c51637-5cbc-4a71-9035-77837a48e4a0",
   "metadata": {},
   "outputs": [
    {
     "data": {
      "text/plain": [
       "array([[18,  6, 16,  4, 15],\n",
       "       [15,  2, 18,  9, 16],\n",
       "       [ 7, 13,  1, 15, 13],\n",
       "       [16,  1, 14, 12,  4],\n",
       "       [ 7, 13, 11,  1,  9]])"
      ]
     },
     "execution_count": 40,
     "metadata": {},
     "output_type": "execute_result"
    }
   ],
   "source": [
    "s1"
   ]
  },
  {
   "cell_type": "code",
   "execution_count": 41,
   "id": "8f3a1968-1eb9-41a5-b1cb-9febde36dab8",
   "metadata": {},
   "outputs": [
    {
     "data": {
      "text/plain": [
       "array([[24, 18, 16, 16, 29],\n",
       "       [17, 14, 13, 19, 26],\n",
       "       [16, 13, 16, 27, 20],\n",
       "       [19, 19, 18, 13, 11],\n",
       "       [10, 19, 29, 10, 25],\n",
       "       [18, 28, 21, 25, 19],\n",
       "       [10, 13, 25, 10, 18],\n",
       "       [11, 13, 14, 12, 16]])"
      ]
     },
     "execution_count": 41,
     "metadata": {},
     "output_type": "execute_result"
    }
   ],
   "source": [
    "s2"
   ]
  },
  {
   "cell_type": "code",
   "execution_count": 45,
   "id": "39d37f3b-dd3c-4465-b35b-10d53436554c",
   "metadata": {},
   "outputs": [
    {
     "data": {
      "text/plain": [
       "array([[ 0,  1,  2,  3,  4],\n",
       "       [ 5,  6,  7,  8,  9],\n",
       "       [10, 11, 12, 13, 14]])"
      ]
     },
     "execution_count": 45,
     "metadata": {},
     "output_type": "execute_result"
    }
   ],
   "source": [
    "x = np.arange(0,15).reshape(3,5)\n",
    "x"
   ]
  },
  {
   "cell_type": "code",
   "execution_count": null,
   "id": "7e5ca630-914c-481b-83dc-18ef0bbe9d75",
   "metadata": {},
   "outputs": [],
   "source": []
  }
 ],
 "metadata": {
  "kernelspec": {
   "display_name": "Python 3 (ipykernel)",
   "language": "python",
   "name": "python3"
  },
  "language_info": {
   "codemirror_mode": {
    "name": "ipython",
    "version": 3
   },
   "file_extension": ".py",
   "mimetype": "text/x-python",
   "name": "python",
   "nbconvert_exporter": "python",
   "pygments_lexer": "ipython3",
   "version": "3.11.7"
  }
 },
 "nbformat": 4,
 "nbformat_minor": 5
}
