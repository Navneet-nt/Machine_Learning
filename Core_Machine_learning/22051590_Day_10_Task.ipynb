{
 "cells": [
  {
   "cell_type": "markdown",
   "id": "eefe7592-7b4e-499c-bb41-57cae85a49e5",
   "metadata": {},
   "source": [
    "#### 1>. Python Program to check Palindrome Number"
   ]
  },
  {
   "cell_type": "code",
   "execution_count": 15,
   "id": "1949963f-8cdb-4eef-9213-b9cb1ffd5c6d",
   "metadata": {},
   "outputs": [
    {
     "name": "stdin",
     "output_type": "stream",
     "text": [
      "Enter the number 16461\n"
     ]
    },
    {
     "name": "stdout",
     "output_type": "stream",
     "text": [
      "Number is palindrome\n"
     ]
    }
   ],
   "source": [
    "a = int(input('Enter the number'))\n",
    "b=a\n",
    "n=0\n",
    "\n",
    "while a!=0:\n",
    "    c = a%10\n",
    "    n = c + (n*10)\n",
    "    a = int(a/10)\n",
    "\n",
    "if b==n:\n",
    "    print('Number is palindrome')\n",
    "\n",
    "else:\n",
    "    print('Number is not Palindrome')"
   ]
  },
  {
   "cell_type": "markdown",
   "id": "951c8f7c-faa1-49b7-a6f8-c653f36222c7",
   "metadata": {},
   "source": [
    "#### 2>. Python program to print all multiples of 3 and 5 in an interval"
   ]
  },
  {
   "cell_type": "code",
   "execution_count": 29,
   "id": "2f0157e5-38be-4e26-91ea-0c27df3feca8",
   "metadata": {},
   "outputs": [
    {
     "name": "stdin",
     "output_type": "stream",
     "text": [
      "Enter interval 4\n"
     ]
    },
    {
     "name": "stdout",
     "output_type": "stream",
     "text": [
      "Multiples of 3 are:\n",
      "3\n",
      "9\n",
      "27\n",
      "81\n",
      "\n",
      "Multiples of 5 are:\n",
      "5\n",
      "25\n",
      "125\n",
      "625\n"
     ]
    }
   ],
   "source": [
    "a = int(input('Enter interval'))\n",
    "\n",
    "print('Multiples of 3 are:')\n",
    "for i in range(a):\n",
    "    b=3\n",
    "    j=3\n",
    "    while i!=0:\n",
    "        b=j*b\n",
    "        i-=1\n",
    "    print(b)\n",
    "\n",
    "print()\n",
    "print('Multiples of 5 are:')\n",
    "for i in range(a):\n",
    "    b=5\n",
    "    j=5\n",
    "    while i!=0:\n",
    "        b=j*b \n",
    "        i-=1\n",
    "    print(b)"
   ]
  },
  {
   "cell_type": "markdown",
   "id": "2ba39465-d9ce-4cdb-94aa-3420007874ee",
   "metadata": {},
   "source": [
    "#### 3>. Pyhton Program to Find the Factorial of a Number"
   ]
  },
  {
   "cell_type": "code",
   "execution_count": 38,
   "id": "855a6104-8181-4ef4-937f-67025adf6d25",
   "metadata": {},
   "outputs": [
    {
     "name": "stdin",
     "output_type": "stream",
     "text": [
      "Enter the number 5\n"
     ]
    },
    {
     "name": "stdout",
     "output_type": "stream",
     "text": [
      "Factorial of 5 is : 120\n"
     ]
    }
   ],
   "source": [
    "a = int(input('Enter the number'))\n",
    "b=a\n",
    "j=1\n",
    "\n",
    "for i in range(a,0,-1):\n",
    "    j = int(j*i)\n",
    "\n",
    "print(f'Factorial of {b} is : {j}')"
   ]
  },
  {
   "cell_type": "markdown",
   "id": "07df7679-82f9-43ca-b05b-2efcffc6a354",
   "metadata": {},
   "source": [
    "#### 4>. Python program to print the Fibonacci sequence"
   ]
  },
  {
   "cell_type": "code",
   "execution_count": 42,
   "id": "75a6cff9-aa0b-439e-9ef4-998440862ccb",
   "metadata": {},
   "outputs": [
    {
     "name": "stdin",
     "output_type": "stream",
     "text": [
      "Enter number of terms 6\n"
     ]
    },
    {
     "name": "stdout",
     "output_type": "stream",
     "text": [
      "The sequence of numbers is: \n",
      "0,1,1,2,3,5,8,"
     ]
    }
   ],
   "source": [
    "a=0\n",
    "b=1\n",
    "n = int(input('Enter number of terms'))\n",
    "print('The sequence of numbers is: ')\n",
    "print(a,end=',')\n",
    "print(b,end=',')\n",
    "\n",
    "for i in range(1,n):\n",
    "    c=a+b\n",
    "    print(c,end=',')\n",
    "    a=b\n",
    "    b=c"
   ]
  },
  {
   "cell_type": "markdown",
   "id": "45ec81a8-d44c-4039-95ac-64bc24b0d877",
   "metadata": {},
   "source": [
    "#### 5>. Python program to check Armstrong Number"
   ]
  },
  {
   "cell_type": "code",
   "execution_count": 46,
   "id": "f40cf244-8f52-4b60-a25b-e9d30b5a3e98",
   "metadata": {},
   "outputs": [
    {
     "name": "stdin",
     "output_type": "stream",
     "text": [
      "Enter the number 1634\n"
     ]
    },
    {
     "name": "stdout",
     "output_type": "stream",
     "text": [
      "1634 is armstrong number\n"
     ]
    }
   ],
   "source": [
    "a = int(input('Enter the number'))\n",
    "s = 0\n",
    "b = a\n",
    "k = a\n",
    "sum = 0\n",
    "\n",
    "while a!=0:\n",
    "    c = a%10\n",
    "    a //= 10\n",
    "    s += 1\n",
    "\n",
    "while b!=0:\n",
    "    h = b%10\n",
    "    sum += h ** s\n",
    "    b //= 10\n",
    "\n",
    "if sum == k:\n",
    "    print(f'{k} is armstrong number')\n",
    "\n",
    "else:\n",
    "    print(f'{k} is not armstrong number')"
   ]
  }
 ],
 "metadata": {
  "kernelspec": {
   "display_name": "Python 3 (ipykernel)",
   "language": "python",
   "name": "python3"
  },
  "language_info": {
   "codemirror_mode": {
    "name": "ipython",
    "version": 3
   },
   "file_extension": ".py",
   "mimetype": "text/x-python",
   "name": "python",
   "nbconvert_exporter": "python",
   "pygments_lexer": "ipython3",
   "version": "3.11.7"
  }
 },
 "nbformat": 4,
 "nbformat_minor": 5
}
