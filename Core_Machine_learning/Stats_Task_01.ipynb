{
 "cells": [
  {
   "cell_type": "markdown",
   "id": "efd37573-23ec-4d59-96b3-61e04b61e0a2",
   "metadata": {},
   "source": [
    "#### 1>. Data collection techniques and Sampling methods"
   ]
  },
  {
   "cell_type": "markdown",
   "id": "1e24abb3-3b3c-49dc-9441-94bf68a0e71f",
   "metadata": {},
   "source": [
    "* Data collection Techniques"
   ]
  },
  {
   "cell_type": "raw",
   "id": "c8c7829a-b249-4ec8-be1a-bc6446447338",
   "metadata": {},
   "source": [
    "1>. Surveys and Questionnaires: Structured forms with a set of questions aimed at gathering quantitative data. \n",
    "\n",
    "2>. Interviews: Direct, face-to-face, or remote conversations where the interviewer asks open-ended or structured questions to collect detailed qualitative data.\n",
    "\n",
    "3>. Observations: Systematic recording of behavioral patterns of people, objects, and events in their natural setting. \n",
    "\n",
    "4>. Experiments: Controlled studies where variables are manipulated to observe their effect on other variables. \n",
    "\n",
    "5>. Focus Groups: Guided group discussions led by a moderator to gather perceptions, opinions, beliefs, and attitudes about a product, service, concept, or idea.\n",
    "\n",
    "6>. Existing Data and Secondary Analysis: Utilization of previously collected data, such as government reports, academic studies, and other datasets, to conduct new analyses.\n",
    "\n",
    "7>. Case Studies: In-depth exploration of a single case or multiple cases within a real-world context, often using various data sources."
   ]
  },
  {
   "cell_type": "markdown",
   "id": "39556e5a-51bb-4b2b-91ed-82bb2bfef5a1",
   "metadata": {},
   "source": [
    "* Sampling methods"
   ]
  },
  {
   "cell_type": "raw",
   "id": "f6533dcb-1c55-4da7-9347-253d0a7098d7",
   "metadata": {},
   "source": [
    "1>. Probability Sampling:\n",
    "\n",
    "-> Simple Random Sampling: Every member of the population has an equal chance of being selected. This     can be achieved through random number generators or drawing lots.\n",
    "\n",
    "-> Systematic Sampling: Selection of every nth member from a list of the population. The starting         point is randomly chosen.\n",
    "\n",
    "-> Stratified Sampling: Division of the population into subgroups (strata) based on a specific            characteristic, then random sampling from each stratum.\n",
    "\n",
    "-> Cluster Sampling: Division of the population into clusters (often geographically), then random         selection of clusters and sampling from within those clusters.\n",
    "\n",
    "2>. Non-Probability Sampling:\n",
    "\n",
    "-> Convenience Sampling: Selection based on ease of access and availability. It is quick and cost-        effective but may introduce bias.\n",
    "\n",
    "-> Purposive (Judgmental) Sampling: Selection based on the researcher’s judgment about which subjects     best fit the purpose of the study.\n",
    "\n",
    "-> Snowball Sampling: Existing study subjects recruit future subjects from among their acquaintances.     This method is useful for hard-to-reach populations.\n",
    "\n",
    "-> Quota Sampling: Ensuring certain characteristics of the population are represented by setting          quotas (e.g., gender, age groups) and sampling until these quotas are met."
   ]
  },
  {
   "cell_type": "markdown",
   "id": "dfc8d28a-0358-4891-a15e-92dd21aa9602",
   "metadata": {},
   "source": [
    "#### 2>. Case study how polling agencies predicts seats"
   ]
  },
  {
   "cell_type": "markdown",
   "id": "0c88371d-14ba-4e77-a04d-4f00e156e0ac",
   "metadata": {},
   "source": [
    "* Data Collection Techniques"
   ]
  },
  {
   "cell_type": "raw",
   "id": "c481f742-17d0-4430-a01f-c47128ba2988",
   "metadata": {},
   "source": [
    "-> Surveys and Questionnaires:\n",
    "\n",
    "Polling agencies design surveys to gauge voter intentions, preferences, and behaviors. These surveys are distributed through various channels such as online platforms, telephone interviews, and face-to-face interactions.\n",
    "\n",
    "-> Interviews:\n",
    "\n",
    "In-depth interviews with a smaller subset of voters provide qualitative insights that complement quantitative survey data. These interviews help understand the motivations behind voting behaviors and preferences.\n",
    "\n",
    "-> Focus Groups:\n",
    "\n",
    "Small, diverse groups of voters are brought together to discuss their opinions and attitudes towards the candidates, parties, and key election issues."
   ]
  },
  {
   "cell_type": "markdown",
   "id": "ab6b6947-d2a3-4d0e-a773-b324c1f574c6",
   "metadata": {},
   "source": [
    "* Sampling Methods"
   ]
  },
  {
   "cell_type": "raw",
   "id": "f445a6ed-c21a-4859-9bd0-ad99be4115c1",
   "metadata": {},
   "source": [
    "-> Probability Sampling:\n",
    "\n",
    "Stratified Sampling: Voters are divided into strata based on key demographic factors (e.g., age, gender, income, region). Random samples are then drawn from each stratum to ensure representation.\n",
    "\n",
    "-> Non-Probability Sampling:\n",
    "\n",
    "Quota Sampling: Pollsters set quotas to match the population's demographic composition, ensuring that specific groups are adequately represented in the sample."
   ]
  },
  {
   "cell_type": "markdown",
   "id": "b8e11cc0-5a3b-4437-aad6-e9e094bb434d",
   "metadata": {},
   "source": [
    "* Analytical Approaches"
   ]
  },
  {
   "cell_type": "raw",
   "id": "c2dc9587-ac1e-46cd-8019-31e1f1f73e96",
   "metadata": {},
   "source": [
    "-> Weighting:\n",
    "\n",
    "After data collection, responses are weighted to correct any sampling biases. For instance, if younger voters are underrepresented in the sample, their responses are given more weight to reflect their actual proportion in the population.\n",
    "\n",
    "-> Regression Analysis:\n",
    "\n",
    "Pollsters use regression models to identify the factors that most strongly predict voting behavior. These models can control for multiple variables simultaneously, offering a nuanced understanding of voter intentions."
   ]
  },
  {
   "cell_type": "markdown",
   "id": "9a36b63c-b894-4611-b0aa-52805c759cbd",
   "metadata": {},
   "source": [
    "* Predicting Seats"
   ]
  },
  {
   "cell_type": "raw",
   "id": "5c2acf15-a7c9-4019-ba7e-a709c9ce4265",
   "metadata": {},
   "source": [
    "-> Vote-to-Seat Conversion:\n",
    "\n",
    "Pollsters use specific algorithms to convert predicted vote shares into seats. These algorithms consider the electoral system, such as:\n",
    "\n",
    "First-Past-The-Post: Predicts which party will win each constituency based on vote shares.\n",
    "\n",
    "Proportional Representation: Allocates seats based on the proportion of votes each party receives."
   ]
  },
  {
   "cell_type": "markdown",
   "id": "14665cda-abad-40d2-adea-fc52adae1432",
   "metadata": {},
   "source": [
    "#### 3>. Role of data visualization,what is SPC chart?"
   ]
  },
  {
   "cell_type": "markdown",
   "id": "08e6f9bd-4a76-41f3-a61e-8c98dd42358c",
   "metadata": {},
   "source": [
    "* Role of Data Visualization"
   ]
  },
  {
   "cell_type": "raw",
   "id": "e8945a18-5cbb-457d-8ea7-01f1737c0ee2",
   "metadata": {},
   "source": [
    "1>. Simplifying Complex Data: It transforms large datasets into visual formats (graphs, charts, maps)      that are easier to understand.\n",
    "\n",
    "2>. Identifying Patterns and Trends: Visualization tools help in recognizing trends, patterns, and         outliers that might not be evident in raw data.\n",
    "\n",
    "3>. Facilitating Comparison: Visualizations enable comparisons across different variables, periods, or     groups, making it easier to understand relationships and differences.\n",
    "\n",
    "4>. Supporting Decision-Making: By presenting data visually, decision-makers can quickly grasp             insights and make informed decisions.\n",
    "\n",
    "5>  Enhancing Communication: Visual data presentations are more engaging and accessible to a wider         audience, including those who may not have a technical background.\n",
    "\n",
    "6>. Revealing Hidden Insights: Visualization can uncover hidden insights through interactive               dashboards, enabling users to drill down into specific aspects of the data."
   ]
  },
  {
   "cell_type": "markdown",
   "id": "7e383d19-b96a-45bb-a5c1-b2c7a81af0ee",
   "metadata": {},
   "source": [
    "* SPC (Statistical Process Control) Chart"
   ]
  },
  {
   "cell_type": "raw",
   "id": "159d7d98-7a33-4f80-b53e-488e1594685c",
   "metadata": {},
   "source": [
    "-> An SPC chart, also known as a control chart, is a tool used in quality control to monitor and control a process to ensure that it operates at its full potential. It helps in identifying whether a process is in a state of control or if there are variations that need to be addressed."
   ]
  },
  {
   "cell_type": "markdown",
   "id": "3f885952-4a77-403b-b299-d144c19c5976",
   "metadata": {},
   "source": [
    "#### 4>. Descriptive Stats vs Inferential Stats"
   ]
  },
  {
   "cell_type": "markdown",
   "id": "ef2e5bd2-a981-49b2-9395-6cf7e04c04ba",
   "metadata": {},
   "source": [
    "* Scope"
   ]
  },
  {
   "cell_type": "raw",
   "id": "b3c8644d-69b4-4692-af4e-010e4eba8025",
   "metadata": {},
   "source": [
    "-> Descriptive Statistics: Concerned with describing the dataset at hand.\n",
    "\n",
    "-> Inferential Statistics: Concerned with making predictions or inferences about a larger population based on a sample."
   ]
  },
  {
   "cell_type": "markdown",
   "id": "b3388e3e-d12a-40d3-95a5-959fcc4d25f8",
   "metadata": {},
   "source": [
    "* Data"
   ]
  },
  {
   "cell_type": "raw",
   "id": "aa28908a-1458-41b0-aae5-24ac86ae2a57",
   "metadata": {},
   "source": [
    "-> Descriptive Statistics: Uses complete data (entire population or full dataset).\n",
    "\n",
    "-> Inferential Statistics: Uses sample data to make inferences about the larger population."
   ]
  },
  {
   "cell_type": "markdown",
   "id": "72fceae7-7ef1-4d84-baa7-6ef3ce67c95b",
   "metadata": {},
   "source": [
    "* Tools and Techniques"
   ]
  },
  {
   "cell_type": "raw",
   "id": "b060d17f-1632-4892-bc50-e7000e2b11a7",
   "metadata": {},
   "source": [
    "-> Descriptive Statistics: Mean, median, mode, range, variance, standard deviation, graphs, and charts.\n",
    "\n",
    "-> Inferential Statistics: Confidence intervals, hypothesis tests, p-values, regression models, and sampling distributions."
   ]
  }
 ],
 "metadata": {
  "kernelspec": {
   "display_name": "Python 3 (ipykernel)",
   "language": "python",
   "name": "python3"
  },
  "language_info": {
   "codemirror_mode": {
    "name": "ipython",
    "version": 3
   },
   "file_extension": ".py",
   "mimetype": "text/x-python",
   "name": "python",
   "nbconvert_exporter": "python",
   "pygments_lexer": "ipython3",
   "version": "3.11.7"
  }
 },
 "nbformat": 4,
 "nbformat_minor": 5
}
